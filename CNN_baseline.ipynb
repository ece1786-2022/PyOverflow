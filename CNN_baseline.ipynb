{
  "cells": [
    {
      "cell_type": "code",
      "execution_count": 2,
      "metadata": {
        "id": "k0C3p15i48h8"
      },
      "outputs": [],
      "source": [
        "import torch\n",
        "import torchtext\n",
        "from torchtext import data\n",
        "import torch.optim as optim\n",
        "import argparse\n",
        "import os\n",
        "import pandas as pd"
      ]
    },
    {
      "cell_type": "code",
      "execution_count": 3,
      "metadata": {
        "id": "9vtWLIeX5Amz"
      },
      "outputs": [],
      "source": [
        "import random\n",
        "import sklearn\n",
        "from sklearn.model_selection import train_test_split\n",
        "import csv\n",
        "import matplotlib.pyplot as plt\n"
      ]
    },
    {
      "cell_type": "code",
      "execution_count": 3,
      "metadata": {},
      "outputs": [],
      "source": [
        "data_path = \"Data/Training/combined.csv\"\n",
        "df = pd.read_csv(data_path)"
      ]
    },
    {
      "cell_type": "code",
      "execution_count": 22,
      "metadata": {},
      "outputs": [
        {
          "data": {
            "text/html": [
              "<div>\n",
              "<style scoped>\n",
              "    .dataframe tbody tr th:only-of-type {\n",
              "        vertical-align: middle;\n",
              "    }\n",
              "\n",
              "    .dataframe tbody tr th {\n",
              "        vertical-align: top;\n",
              "    }\n",
              "\n",
              "    .dataframe thead th {\n",
              "        text-align: right;\n",
              "    }\n",
              "</style>\n",
              "<table border=\"1\" class=\"dataframe\">\n",
              "  <thead>\n",
              "    <tr style=\"text-align: right;\">\n",
              "      <th></th>\n",
              "      <th>content</th>\n",
              "      <th>topic</th>\n",
              "      <th>label</th>\n",
              "    </tr>\n",
              "  </thead>\n",
              "  <tbody>\n",
              "    <tr>\n",
              "      <th>0</th>\n",
              "      <td>In Python, all exceptions must be instances of...</td>\n",
              "      <td>Built-in Exceptions</td>\n",
              "      <td>0</td>\n",
              "    </tr>\n",
              "    <tr>\n",
              "      <th>1</th>\n",
              "      <td>In a try statement with an except clause tha...</td>\n",
              "      <td>Built-in Exceptions</td>\n",
              "      <td>0</td>\n",
              "    </tr>\n",
              "    <tr>\n",
              "      <th>2</th>\n",
              "      <td>Two exception classes that are not related v...</td>\n",
              "      <td>Built-in Exceptions</td>\n",
              "      <td>0</td>\n",
              "    </tr>\n",
              "    <tr>\n",
              "      <th>3</th>\n",
              "      <td>The built-in exceptions listed below can be g...</td>\n",
              "      <td>Built-in Exceptions</td>\n",
              "      <td>0</td>\n",
              "    </tr>\n",
              "    <tr>\n",
              "      <th>4</th>\n",
              "      <td>Except where mentioned, they have an “associ...</td>\n",
              "      <td>Built-in Exceptions</td>\n",
              "      <td>0</td>\n",
              "    </tr>\n",
              "    <tr>\n",
              "      <th>...</th>\n",
              "      <td>...</td>\n",
              "      <td>...</td>\n",
              "      <td>...</td>\n",
              "    </tr>\n",
              "    <tr>\n",
              "      <th>190</th>\n",
              "      <td>default_max_str_digits</td>\n",
              "      <td>Built-in Types</td>\n",
              "      <td>1</td>\n",
              "    </tr>\n",
              "    <tr>\n",
              "      <th>191</th>\n",
              "      <td>The lowest limit that can be configured is 64...</td>\n",
              "      <td>Built-in Types</td>\n",
              "      <td>1</td>\n",
              "    </tr>\n",
              "    <tr>\n",
              "      <th>192</th>\n",
              "      <td>int_info</td>\n",
              "      <td>Built-in Types</td>\n",
              "      <td>1</td>\n",
              "    </tr>\n",
              "    <tr>\n",
              "      <th>193</th>\n",
              "      <td>str_digits_check_threshold</td>\n",
              "      <td>Built-in Types</td>\n",
              "      <td>1</td>\n",
              "    </tr>\n",
              "    <tr>\n",
              "      <th>194</th>\n",
              "      <td>Verification:</td>\n",
              "      <td>Built-in Types</td>\n",
              "      <td>1</td>\n",
              "    </tr>\n",
              "  </tbody>\n",
              "</table>\n",
              "<p>176 rows × 3 columns</p>\n",
              "</div>"
            ],
            "text/plain": [
              "                                               content                topic  \\\n",
              "0    In Python, all exceptions must be instances of...  Built-in Exceptions   \n",
              "1      In a try statement with an except clause tha...  Built-in Exceptions   \n",
              "2      Two exception classes that are not related v...  Built-in Exceptions   \n",
              "3     The built-in exceptions listed below can be g...  Built-in Exceptions   \n",
              "4      Except where mentioned, they have an “associ...  Built-in Exceptions   \n",
              "..                                                 ...                  ...   \n",
              "190                             default_max_str_digits       Built-in Types   \n",
              "191   The lowest limit that can be configured is 64...       Built-in Types   \n",
              "192                                           int_info       Built-in Types   \n",
              "193                         str_digits_check_threshold       Built-in Types   \n",
              "194                                      Verification:       Built-in Types   \n",
              "\n",
              "     label  \n",
              "0        0  \n",
              "1        0  \n",
              "2        0  \n",
              "3        0  \n",
              "4        0  \n",
              "..     ...  \n",
              "190      1  \n",
              "191      1  \n",
              "192      1  \n",
              "193      1  \n",
              "194      1  \n",
              "\n",
              "[176 rows x 3 columns]"
            ]
          },
          "execution_count": 22,
          "metadata": {},
          "output_type": "execute_result"
        }
      ],
      "source": [
        "df.dropna()"
      ]
    },
    {
      "cell_type": "code",
      "execution_count": 21,
      "metadata": {},
      "outputs": [
        {
          "data": {
            "text/plain": [
              "False"
            ]
          },
          "execution_count": 21,
          "metadata": {},
          "output_type": "execute_result"
        }
      ],
      "source": [
        "# Split the data into train and test\n",
        "train, val = train_test_split(df, test_size=0.2, random_state=42)"
      ]
    },
    {
      "cell_type": "code",
      "execution_count": 4,
      "metadata": {},
      "outputs": [],
      "source": [
        "data_path = \"Data/Test/test_sample.csv\"\n",
        "df2 = pd.read_csv(data_path)"
      ]
    },
    {
      "cell_type": "code",
      "execution_count": 7,
      "metadata": {},
      "outputs": [],
      "source": [
        "#keep the body and the title of df2\n",
        "df2 = df2[['Body', 'Title']]\n",
        "df2['label']=[0,1]"
      ]
    },
    {
      "cell_type": "code",
      "execution_count": 10,
      "metadata": {},
      "outputs": [],
      "source": [
        "#rename the body column to content\n",
        "df2.rename(columns={'Body':'Content'}, inplace=True)"
      ]
    },
    {
      "cell_type": "code",
      "execution_count": 11,
      "metadata": {
        "id": "vY8F9TLu5Fb0"
      },
      "outputs": [],
      "source": [
        "class TextDataset(torch.utils.data.Dataset):\n",
        "    def __init__(self, vocab, split=\"train\"):\n",
        "        data_path = \"Data/Training/combined.csv\"\n",
        "        df = pd.read_csv(data_path)\n",
        "        df=df.dropna()\n",
        "        train, val = train_test_split(df, test_size=0.2, random_state=42)\n",
        "\n",
        "        if split == \"train\":\n",
        "            df=train\n",
        "        elif split == \"val\":\n",
        "            df=val\n",
        "    \n",
        "        # X: torch.tensor (maxlen, batch_size), padded indices\n",
        "        # Y: torch.tensor of len N\n",
        "        X, Y = [], []\n",
        "        V = len(vocab.vectors)\n",
        "        for i,row in df.iterrows():\n",
        "            L = row['content'].split()\n",
        "            while len(L)<4:\n",
        "                L.append('<pad>')\n",
        "            X.append(torch.tensor([vocab.stoi.get(w, V-1) for w in L]))  # Use the last word in the vocab as the \"out-of-vocabulary\" token\n",
        "            Y.append(row['label'])\n",
        "        self.X = X \n",
        "        self.Y = torch.tensor(Y)\n",
        "        \n",
        "    def __len__(self):\n",
        "        return len(self.X)\n",
        "    def __getitem__(self, idx):\n",
        "        return self.X[idx], self.Y[idx] \n",
        "    \n",
        "# my_collate_function prepares batches\n",
        "# it also pads each batch with zeroes."
      ]
    },
    {
      "cell_type": "code",
      "execution_count": 15,
      "metadata": {},
      "outputs": [],
      "source": [
        "class TestDataset(torch.utils.data.Dataset):\n",
        "    def __init__(self, vocab):\n",
        "        data_path = \"Data/Test/test_sample.csv\"\n",
        "        df = pd.read_csv(data_path)\n",
        "        df = df[['Body', 'Title']]\n",
        "        df['label']=[0,1]\n",
        "        df.rename(columns={'Body':'content'}, inplace=True)\n",
        "    \n",
        "        # X: torch.tensor (maxlen, batch_size), padded indices\n",
        "        # Y: torch.tensor of len N\n",
        "        X, Y = [], []\n",
        "        V = len(vocab.vectors)\n",
        "        for i,row in df.iterrows():\n",
        "            L = row['content'].split()\n",
        "            while len(L)<4:\n",
        "                L.append('<pad>')\n",
        "            X.append(torch.tensor([vocab.stoi.get(w, V-1) for w in L]))  # Use the last word in the vocab as the \"out-of-vocabulary\" token\n",
        "            Y.append(row['label'])\n",
        "        self.X = X \n",
        "        self.Y = torch.tensor(Y)\n",
        "        \n",
        "    def __len__(self):\n",
        "        return len(self.X)\n",
        "    def __getitem__(self, idx):\n",
        "        return self.X[idx], self.Y[idx] "
      ]
    },
    {
      "cell_type": "code",
      "execution_count": 12,
      "metadata": {
        "colab": {
          "base_uri": "https://localhost:8080/"
        },
        "id": "14g_8zO15GVJ",
        "outputId": "6d18eb56-df62-4a51-8625-f17a75b715f9"
      },
      "outputs": [
        {
          "name": "stderr",
          "output_type": "stream",
          "text": [
            "100%|█████████▉| 399999/400000 [00:12<00:00, 31570.49it/s]\n"
          ]
        }
      ],
      "source": [
        "glove = torchtext.vocab.GloVe(name=\"6B\", # trained on Wikipedia 2014 corpus\n",
        "                              dim=100)    # embedding size = 50"
      ]
    },
    {
      "cell_type": "markdown",
      "metadata": {
        "id": "EC_NGoPEi04q"
      },
      "source": [
        "#Upload datasets"
      ]
    },
    {
      "cell_type": "code",
      "execution_count": 13,
      "metadata": {
        "id": "AjIeqxjD5OV7"
      },
      "outputs": [],
      "source": [
        "def my_collate_function(batch, device):\n",
        "    # Handle the padding here\n",
        "    # batch is approximately: [dataset[i] for i in range(0, batch_size)]\n",
        "    # Since the dataset[i]'s contents is defined in the __getitem__() above, this collate function \n",
        "    # should be set correspondingly.\n",
        "    # Also: collate_function just takes one argument. To pass in additional arguments (e.g., device), \n",
        "    # we need to wrap up an anonymous function (using lambda below)\n",
        "    batch_x, batch_y = [], []\n",
        "    max_len = 0\n",
        "    for x,y in batch:\n",
        "        batch_y.append(y)\n",
        "        max_len = max(max_len, len(x))\n",
        "    for x,y in batch:\n",
        "        x_p = torch.concat(\n",
        "            [x, torch.zeros(max_len - len(x))]\n",
        "        )\n",
        "        batch_x.append(x_p)\n",
        "    return torch.stack(batch_x).t().int().to(device), torch.tensor(batch_y).to(device)"
      ]
    },
    {
      "cell_type": "code",
      "execution_count": 16,
      "metadata": {
        "colab": {
          "base_uri": "https://localhost:8080/"
        },
        "id": "BrbeT1v-5f1Q",
        "outputId": "a0682fc5-0268-4f0e-8445-d1575aa57e1c"
      },
      "outputs": [
        {
          "name": "stdout",
          "output_type": "stream",
          "text": [
            "Using device: cuda\n"
          ]
        }
      ],
      "source": [
        "torch.manual_seed(2)\n",
        "device = torch.device('cuda' if torch.cuda.is_available() else 'cpu')\n",
        "print (\"Using device:\", device)\n",
        "\n",
        "### 3.3 Processing of the data ###\n",
        "# 3.3.1\n",
        "# The first time you run this will download a 862MB size file to .vector_cache/glove.6B.zip\n",
        "#glove = torchtext.vocab.GloVe(name=\"6B\",dim=100) # embedding size = 100\n",
        "                                \n",
        "# 3.3.2\n",
        "train_dataset = TextDataset(glove, 'train')\n",
        "val_dataset = TextDataset(glove, \"val\")\n",
        "test_dataset = TestDataset(glove)\n",
        "#overfit_dataset= TextDataset(glove, \"overfit\")\n",
        "    \n",
        "# 3.3.3\n",
        "train_dataloader = torch.utils.data.DataLoader(\n",
        "    dataset=train_dataset, \n",
        "    batch_size=1, \n",
        "    shuffle=False, \n",
        "    collate_fn=lambda batch: my_collate_function(batch, device))\n",
        "validation_dataloader = torch.utils.data.DataLoader(\n",
        "    dataset=val_dataset, \n",
        "    batch_size=1, \n",
        "    shuffle=False, \n",
        "    collate_fn=lambda batch: my_collate_function(batch, device))\n",
        "test_dataloader = torch.utils.data.DataLoader(\n",
        "    dataset=test_dataset,\n",
        "    batch_size=1,\n",
        "    shuffle=False,\n",
        "    collate_fn=lambda batch: my_collate_function(batch, device))\n",
        "#overfit_dataloader = torch.utils.data.DataLoader(\n",
        "        #dataset=overfit_dataset,\n",
        "        #batch_size=1,\n",
        "        #shuffle=False,\n",
        "        #collate_fn=lambda batch: my_collate_function(batch, device))"
      ]
    },
    {
      "cell_type": "markdown",
      "metadata": {
        "id": "R3EDpgQEi4sI"
      },
      "source": [
        "#Create CNN Model"
      ]
    },
    {
      "cell_type": "code",
      "execution_count": 17,
      "metadata": {
        "id": "TA-lmv7b5k-F"
      },
      "outputs": [],
      "source": [
        "class CNNModel(torch.nn.Module): # CNN model\n",
        "    def __init__(self, vocab, n1,n2, k1,k2):\n",
        "        super().__init__()\n",
        "        # initialize word vectors to random numbers \n",
        "        self.embedding = torch.nn.Embedding.from_pretrained(vocab.vectors)\n",
        "        self.conv1=torch.nn.Conv2d(1,n1,(100,k1),bias=False)\n",
        "        self.conv2=torch.nn.Conv2d(1,n2,(100,k2),bias=False)\n",
        "        self.activate=torch.nn.ReLU()\n",
        "        self.maxpool= torch.nn.MaxPool2d((1,500),ceil_mode=True)\n",
        "        #self.maxpool2= torch.nn.MaxPool1d()\n",
        "        self.dropout = torch.nn.Dropout(0.25)\n",
        "        self.out1= torch.nn.Linear(n1+n2,50)\n",
        "        self.out2= torch.nn.Linear(50,1)\n",
        "        #TO DO\n",
        "        \n",
        "        # prediction function takes embedding as input, and predicts which word in vocabulary as output\n",
        "\n",
        "        #TO DO\n",
        "        \n",
        "    def forward(self, x):\n",
        "        \"\"\"\n",
        "        x: torch.tensor of shape (bsz), bsz is the batch size\n",
        "        \"\"\"\n",
        "        #TO DO\n",
        "        #print(x.size())\n",
        "        embed=self.embedding(x)\n",
        "        #print(embed.size())\n",
        "        embed=embed.T.unsqueeze(0)\n",
        "        #print(embed.size())\n",
        "        conv1=self.conv1(embed)\n",
        "        conv1=self.activate(conv1)\n",
        "        conv2=self.conv2(embed)\n",
        "        conv2=self.activate(conv2)\n",
        "        #conv1=conv1.squeeze()\n",
        "        #conv2=conv2.squeeze()\n",
        "        #print(conv1.size())\n",
        "        #print(conv2.size())\n",
        "        max1= self.maxpool(conv1)\n",
        "        #print(max1.size())\n",
        "        max2=self.maxpool(conv2)\n",
        "        #print(max2.size())\n",
        "        #drop=self.dropout(torch.cat((max1,max2)).squeeze())\n",
        "        #output=self.out(drop)\n",
        "        output=self.out1(torch.cat((max1,max2)).squeeze())\n",
        "        output=self.out2(output)\n",
        "        return output"
      ]
    },
    {
      "cell_type": "markdown",
      "metadata": {
        "id": "MPYwhvzGi87U"
      },
      "source": [
        "#Test Model On Overfit dataset"
      ]
    },
    {
      "cell_type": "code",
      "execution_count": 14,
      "metadata": {
        "id": "E8LTJjAP79g9"
      },
      "outputs": [],
      "source": [
        "model1=CNNModel(glove,50,50,2,4)"
      ]
    },
    {
      "cell_type": "code",
      "execution_count": 15,
      "metadata": {
        "id": "r67bc2OTfErt"
      },
      "outputs": [],
      "source": [
        "loss_func = torch.nn.BCEWithLogitsLoss()\n",
        "optimizer = optim.Adam(model1.parameters(), lr=0.001)\n",
        "train_losses=[]\n",
        "val_losses=[]\n",
        "train_acc_arr=[]\n",
        "val_acc_arr=[]"
      ]
    },
    {
      "cell_type": "code",
      "execution_count": 11,
      "metadata": {
        "colab": {
          "base_uri": "https://localhost:8080/",
          "height": 1000
        },
        "id": "wAGhAAkpscIg",
        "outputId": "46f60980-f717-48fe-f6d4-14bafd7fe255"
      },
      "outputs": [
        {
          "name": "stdout",
          "output_type": "stream",
          "text": [
            "epoch= 0\n",
            "train loss= 1.2019902975298464\n",
            "train_acc 0.58\n",
            "validation error= 0.7038939661905169\n",
            "val_acc for epoch 0.5\n",
            "epoch= 1\n",
            "train loss= 0.7235196366906166\n",
            "train_acc 0.48\n",
            "validation error= 0.6432537998910993\n",
            "val_acc for epoch 0.58875\n",
            "epoch= 2\n",
            "train loss= 0.5179372383654117\n",
            "train_acc 0.86\n",
            "validation error= 0.6414191784150899\n",
            "val_acc for epoch 0.545625\n",
            "epoch= 3\n",
            "train loss= 0.44392816949635744\n",
            "train_acc 0.9\n",
            "validation error= 0.6075373819400557\n",
            "val_acc for epoch 0.623125\n",
            "epoch= 4\n",
            "train loss= 0.3281937803328037\n",
            "train_acc 0.96\n",
            "validation error= 0.5806550324958516\n",
            "val_acc for epoch 0.67375\n",
            "epoch= 5\n",
            "train loss= 0.2244008158147335\n",
            "train_acc 0.96\n",
            "validation error= 0.556999356803717\n",
            "val_acc for epoch 0.7125\n",
            "epoch= 6\n",
            "train loss= 0.15037747632712126\n",
            "train_acc 1.0\n",
            "validation error= 0.5135681892211141\n",
            "val_acc for epoch 0.7725\n",
            "epoch= 7\n",
            "train loss= 0.09411447001853958\n",
            "train_acc 1.0\n",
            "validation error= 0.48664110297650043\n",
            "val_acc for epoch 0.79\n",
            "epoch= 8\n",
            "train loss= 0.06069689717958681\n",
            "train_acc 1.0\n",
            "validation error= 0.4737750682519618\n",
            "val_acc for epoch 0.79625\n",
            "epoch= 9\n",
            "train loss= 0.04127267312258482\n",
            "train_acc 1.0\n",
            "validation error= 0.46214501692280463\n",
            "val_acc for epoch 0.800625\n",
            "Finished Training\n"
          ]
        },
        {
          "data": {
            "image/png": "[encoded data removed]",
            "text/plain": [
              "<Figure size 432x288 with 1 Axes>"
            ]
          },
          "metadata": {
            "needs_background": "light"
          },
          "output_type": "display_data"
        }
      ],
      "source": [
        "for epoch in range(10):  # loop over the dataset multiple times\n",
        "\n",
        "    train_loss = 0.0\n",
        "    val_loss=0\n",
        "    train_acc=0\n",
        "    val_acc=0\n",
        "    model1.train()\n",
        "    print('epoch=', epoch)\n",
        "    \n",
        "    for inputs, labels in overfit_dataloader:\n",
        "        # get the inputs; data is a list of [inputs, labels]\n",
        "        #inputs, labels = data\n",
        "\n",
        "        # zero the parameter gradients\n",
        "        optimizer.zero_grad()\n",
        "\n",
        "        # forward + backward + optimize\n",
        "        outputs = model1(inputs.flatten())\n",
        "        #print(outputs)\n",
        "        #print(labels)\n",
        "        loss = loss_func(outputs, labels.float())\n",
        "        loss.backward()\n",
        "        optimizer.step()\n",
        "\n",
        "        train_loss+= loss.item()\n",
        "        train_acc+=torch.sum(((outputs>0)== labels)[:].int()).item()\n",
        "    train_loss=train_loss/len(overfit_dataset)\n",
        "    train_losses.append(train_loss)\n",
        "    print('train loss=',train_loss)\n",
        "    train_acc=train_acc/len(overfit_dataset)\n",
        "    train_acc_arr.append(train_acc)\n",
        "    print('train_acc',train_acc)\n",
        "\n",
        "\n",
        "    model1.eval()\n",
        "    for inputs, labels in validation_dataloader:\n",
        "\n",
        "      pred=model1(inputs.flatten())\n",
        "      loss = loss_func(pred, labels.float())\n",
        "      val_loss+= loss.item()\n",
        "      val_acc+=torch.sum(((pred>0)== labels)[:].int()).item()\n",
        "    val_loss=val_loss/len(val_dataset)\n",
        "    val_losses.append(val_loss)\n",
        "    print('validation error=',val_loss)\n",
        "    val_acc=val_acc/len(val_dataset)\n",
        "    val_acc_arr.append(val_acc)\n",
        "    print('val_acc for epoch',val_acc)\n",
        "\n",
        "\n",
        "print('Finished Training')\n",
        "plt.plot(train_losses, label='train loss')\n",
        "plt.plot(val_losses, label='validation loss')\n",
        "plt.legend()\n",
        "plt.show()"
      ]
    },
    {
      "cell_type": "code",
      "execution_count": 12,
      "metadata": {
        "colab": {
          "base_uri": "https://localhost:8080/",
          "height": 265
        },
        "id": "Bg-wY1YJsvv0",
        "outputId": "12d7cf25-3da7-4335-b4b6-7c1cc06f510e"
      },
      "outputs": [
        {
          "data": {
            "image/png": "[encoded data removed]",
            "text/plain": [
              "<Figure size 432x288 with 1 Axes>"
            ]
          },
          "metadata": {
            "needs_background": "light"
          },
          "output_type": "display_data"
        }
      ],
      "source": [
        "plt.plot(train_acc_arr, label='train acc')\n",
        "plt.plot(val_acc_arr, label='validation acc')\n",
        "plt.legend()\n",
        "plt.show()"
      ]
    },
    {
      "cell_type": "markdown",
      "metadata": {
        "id": "DVD2C2Z8jCp6"
      },
      "source": [
        "#Hyperparameter tuning of the CNN model "
      ]
    },
    {
      "cell_type": "code",
      "execution_count": 18,
      "metadata": {
        "id": "_PX2Z-phv1nl"
      },
      "outputs": [
        {
          "data": {
            "text/plain": [
              "CNNModel(\n",
              "  (embedding): Embedding(400000, 100)\n",
              "  (conv1): Conv2d(1, 25, kernel_size=(100, 2), stride=(1, 1), bias=False)\n",
              "  (conv2): Conv2d(1, 25, kernel_size=(100, 3), stride=(1, 1), bias=False)\n",
              "  (activate): ReLU()\n",
              "  (maxpool): MaxPool2d(kernel_size=(1, 500), stride=(1, 500), padding=0, dilation=1, ceil_mode=True)\n",
              "  (dropout): Dropout(p=0.25, inplace=False)\n",
              "  (out1): Linear(in_features=50, out_features=50, bias=True)\n",
              "  (out2): Linear(in_features=50, out_features=1, bias=True)\n",
              ")"
            ]
          },
          "execution_count": 18,
          "metadata": {},
          "output_type": "execute_result"
        }
      ],
      "source": [
        "model1=CNNModel(glove,25,25,2,3)\n",
        "model1.to(torch.device('cuda:0'))"
      ]
    },
    {
      "cell_type": "code",
      "execution_count": 19,
      "metadata": {
        "id": "JmEY4i7Rv3Jp"
      },
      "outputs": [],
      "source": [
        "loss_func = torch.nn.BCEWithLogitsLoss()\n",
        "optimizer = optim.Adam(model1.parameters(), lr=0.0001)\n",
        "train_losses=[]\n",
        "val_losses=[]\n",
        "train_acc_arr=[]\n",
        "val_acc_arr=[]"
      ]
    },
    {
      "cell_type": "code",
      "execution_count": 20,
      "metadata": {
        "colab": {
          "base_uri": "https://localhost:8080/",
          "height": 1000
        },
        "id": "TtWY1Q9FfYYM",
        "outputId": "3d93d63b-3098-4dc6-b336-476f78b14aee"
      },
      "outputs": [
        {
          "name": "stdout",
          "output_type": "stream",
          "text": [
            "epoch= 0\n",
            "train loss= 0.6319988395486559\n",
            "train_acc 0.65\n",
            "validation error= 0.6038188652859794\n",
            "val_acc for epoch 0.7222222222222222\n",
            "epoch= 1\n",
            "train loss= 0.5175208054482937\n",
            "train_acc 0.8214285714285714\n",
            "validation error= 0.5979552194476128\n",
            "val_acc for epoch 0.7222222222222222\n",
            "epoch= 2\n",
            "train loss= 0.4882128646331174\n",
            "train_acc 0.8214285714285714\n",
            "validation error= 0.598954751673672\n",
            "val_acc for epoch 0.7222222222222222\n",
            "epoch= 3\n",
            "train loss= 0.4703537220401423\n",
            "train_acc 0.8214285714285714\n",
            "validation error= 0.595573873569568\n",
            "val_acc for epoch 0.7222222222222222\n",
            "epoch= 4\n",
            "train loss= 0.45304820835590365\n",
            "train_acc 0.8214285714285714\n",
            "validation error= 0.5885790652698941\n",
            "val_acc for epoch 0.7222222222222222\n",
            "epoch= 5\n",
            "train loss= 0.4338548298392977\n",
            "train_acc 0.8214285714285714\n",
            "validation error= 0.5785127435293462\n",
            "val_acc for epoch 0.7222222222222222\n",
            "epoch= 6\n",
            "train loss= 0.4114865638315678\n",
            "train_acc 0.8214285714285714\n",
            "validation error= 0.56575240732895\n",
            "val_acc for epoch 0.7222222222222222\n",
            "epoch= 7\n",
            "train loss= 0.3854278065264225\n",
            "train_acc 0.8214285714285714\n",
            "validation error= 0.549227861687541\n",
            "val_acc for epoch 0.7222222222222222\n",
            "epoch= 8\n",
            "train loss= 0.3554098517234836\n",
            "train_acc 0.8214285714285714\n",
            "validation error= 0.5298485658648941\n",
            "val_acc for epoch 0.7222222222222222\n",
            "epoch= 9\n",
            "train loss= 0.3212791807417359\n",
            "train_acc 0.8357142857142857\n",
            "validation error= 0.5065883783002695\n",
            "val_acc for epoch 0.7222222222222222\n",
            "epoch= 10\n",
            "train loss= 0.28447222621845347\n",
            "train_acc 0.85\n",
            "validation error= 0.4797794678144985\n",
            "val_acc for epoch 0.7222222222222222\n",
            "epoch= 11\n",
            "train loss= 0.24659755786082574\n",
            "train_acc 0.9\n",
            "validation error= 0.4517397315551837\n",
            "val_acc for epoch 0.7222222222222222\n",
            "epoch= 12\n",
            "train loss= 0.21056877352031214\n",
            "train_acc 0.9357142857142857\n",
            "validation error= 0.42299561440530753\n",
            "val_acc for epoch 0.7222222222222222\n",
            "epoch= 13\n",
            "train loss= 0.17792393943361406\n",
            "train_acc 0.9571428571428572\n",
            "validation error= 0.3952451565095948\n",
            "val_acc for epoch 0.7222222222222222\n",
            "epoch= 14\n",
            "train loss= 0.14941641292867383\n",
            "train_acc 0.9857142857142858\n",
            "validation error= 0.36980293934336966\n",
            "val_acc for epoch 0.75\n",
            "epoch= 15\n",
            "train loss= 0.12524751410154358\n",
            "train_acc 0.9857142857142858\n",
            "validation error= 0.3466961558183862\n",
            "val_acc for epoch 0.75\n",
            "epoch= 16\n",
            "train loss= 0.1055738524550439\n",
            "train_acc 0.9857142857142858\n",
            "validation error= 0.3258158145731108\n",
            "val_acc for epoch 0.8055555555555556\n",
            "epoch= 17\n",
            "train loss= 0.08937013520875813\n",
            "train_acc 0.9857142857142858\n",
            "validation error= 0.30767009703494197\n",
            "val_acc for epoch 0.8333333333333334\n",
            "epoch= 18\n",
            "train loss= 0.0762030973556518\n",
            "train_acc 0.9928571428571429\n",
            "validation error= 0.29081487797925043\n",
            "val_acc for epoch 0.8333333333333334\n",
            "epoch= 19\n",
            "train loss= 0.06549294497256467\n",
            "train_acc 0.9928571428571429\n",
            "validation error= 0.27636402452157605\n",
            "val_acc for epoch 0.8333333333333334\n",
            "epoch= 20\n",
            "train loss= 0.0565839729192833\n",
            "train_acc 0.9928571428571429\n",
            "validation error= 0.2628594526807622\n",
            "val_acc for epoch 0.8611111111111112\n",
            "epoch= 21\n",
            "train loss= 0.04938487772191625\n",
            "train_acc 0.9928571428571429\n",
            "validation error= 0.24930201643534625\n",
            "val_acc for epoch 0.8611111111111112\n",
            "epoch= 22\n",
            "train loss= 0.043240687807805704\n",
            "train_acc 0.9928571428571429\n",
            "validation error= 0.2370657946772149\n",
            "val_acc for epoch 0.8611111111111112\n",
            "epoch= 23\n",
            "train loss= 0.03807646302281812\n",
            "train_acc 0.9928571428571429\n",
            "validation error= 0.22625282907231142\n",
            "val_acc for epoch 0.8611111111111112\n",
            "epoch= 24\n",
            "train loss= 0.03373005658873548\n",
            "train_acc 0.9928571428571429\n",
            "validation error= 0.216001467353231\n",
            "val_acc for epoch 0.8888888888888888\n",
            "Finished Training\n"
          ]
        },
        {
          "data": {
            "image/png": "[encoded data removed]",
            "text/plain": [
              "<Figure size 432x288 with 1 Axes>"
            ]
          },
          "metadata": {
            "needs_background": "light"
          },
          "output_type": "display_data"
        }
      ],
      "source": [
        "for epoch in range(25):  # loop over the dataset multiple times\n",
        "\n",
        "    train_loss = 0.0\n",
        "    val_loss=0\n",
        "    train_acc=0\n",
        "    val_acc=0\n",
        "    model1.train()\n",
        "    print('epoch=', epoch)\n",
        "    \n",
        "    for inputs, labels in train_dataloader:\n",
        "        # get the inputs; data is a list of [inputs, labels]\n",
        "        #inputs, labels = data\n",
        "\n",
        "        # zero the parameter gradients\n",
        "        optimizer.zero_grad()\n",
        "\n",
        "        # forward + backward + optimize\n",
        "        outputs = model1(inputs.flatten())\n",
        "        #print(outputs)\n",
        "        #print(labels)\n",
        "        loss = loss_func(outputs, labels.float())\n",
        "        loss.backward()\n",
        "        optimizer.step()\n",
        "\n",
        "        train_loss+= loss.item()\n",
        "        train_acc+=torch.sum(((outputs>0)== labels)[:].int()).item()\n",
        "    train_loss=train_loss/len(train_dataset)\n",
        "    train_losses.append(train_loss)\n",
        "    print('train loss=',train_loss)\n",
        "    train_acc=train_acc/len(train_dataset)\n",
        "    train_acc_arr.append(train_acc)\n",
        "    print('train_acc',train_acc)\n",
        "\n",
        "\n",
        "    model1.eval()\n",
        "    for inputs, labels in validation_dataloader:\n",
        "\n",
        "      pred=model1(inputs.flatten())\n",
        "      loss = loss_func(pred, labels.float())\n",
        "      val_loss+= loss.item()\n",
        "      val_acc+=torch.sum(((pred>0)== labels)[:].int()).item()\n",
        "    val_loss=val_loss/len(val_dataset)\n",
        "    val_losses.append(val_loss)\n",
        "    print('validation error=',val_loss)\n",
        "    val_acc=val_acc/len(val_dataset)\n",
        "    val_acc_arr.append(val_acc)\n",
        "    print('val_acc for epoch',val_acc)\n",
        "\n",
        "\n",
        "print('Finished Training')\n",
        "plt.plot(train_losses, label='train loss')\n",
        "plt.plot(val_losses, label='validation loss')\n",
        "plt.legend()\n",
        "plt.show()"
      ]
    },
    {
      "cell_type": "code",
      "execution_count": 21,
      "metadata": {
        "colab": {
          "base_uri": "https://localhost:8080/",
          "height": 265
        },
        "id": "l1-AIwxWwROu",
        "outputId": "3a9a2488-4111-44ce-91e4-03515219288f"
      },
      "outputs": [
        {
          "data": {
            "image/png": "[encoded data removed]",
            "text/plain": [
              "<Figure size 432x288 with 1 Axes>"
            ]
          },
          "metadata": {
            "needs_background": "light"
          },
          "output_type": "display_data"
        }
      ],
      "source": [
        "plt.plot(train_acc_arr, label='train acc')\n",
        "plt.plot(val_acc_arr, label='validation acc')\n",
        "plt.legend()\n",
        "plt.show()"
      ]
    },
    {
      "cell_type": "code",
      "execution_count": 22,
      "metadata": {
        "colab": {
          "base_uri": "https://localhost:8080/"
        },
        "id": "nKCsFjTbxx29",
        "outputId": "825174ad-aebf-45cd-df0b-cefc51d77f33"
      },
      "outputs": [
        {
          "name": "stdout",
          "output_type": "stream",
          "text": [
            "test error= 0.17963699577376246\n",
            "test_accuracy 1.0\n"
          ]
        }
      ],
      "source": [
        "test_loss=0\n",
        "test_acc=0\n",
        "for inputs, labels in test_dataloader:\n",
        "\n",
        "  pred=model1(inputs.flatten())\n",
        "  loss = loss_func(pred, labels.float())\n",
        "  test_loss+= loss.item()\n",
        "  test_acc+=torch.sum(((pred>0)== labels)[:].int()).item()\n",
        "test_loss=test_loss/len(test_dataset)\n",
        "print('test error=',test_loss)\n",
        "test_acc=test_acc/len(test_dataset)\n",
        "print('test_accuracy',test_acc)"
      ]
    },
    {
      "cell_type": "code",
      "execution_count": 23,
      "metadata": {
        "id": "dd8WzgEA7zBK"
      },
      "outputs": [],
      "source": [
        "torch.save(model1.state_dict(), 'Baseline.pt')"
      ]
    },
    {
      "cell_type": "markdown",
      "metadata": {
        "id": "Pm4SsuYSsyUf"
      },
      "source": [
        "#unfreezing the embeddings"
      ]
    },
    {
      "cell_type": "code",
      "execution_count": 23,
      "metadata": {
        "id": "YDv-XFoHtTtB"
      },
      "outputs": [],
      "source": [
        "class CNNModel_unfrozen(torch.nn.Module): # CNN unfrozen model\n",
        "    def __init__(self, vocab, n1,n2, k1,k2):\n",
        "        super().__init__()\n",
        "        # initialize word vectors to random numbers \n",
        "        self.embedding = torch.nn.Embedding.from_pretrained(vocab.vectors,freeze= False)\n",
        "        self.conv1=torch.nn.Conv2d(1,n1,(100,k1),bias=False)\n",
        "        self.conv2=torch.nn.Conv2d(1,n2,(100,k2),bias=False)\n",
        "        self.activate=torch.nn.ReLU()\n",
        "        self.maxpool= torch.nn.MaxPool2d((1,500),ceil_mode=True)\n",
        "        #self.maxpool2= torch.nn.MaxPool1d()\n",
        "        self.dropout = torch.nn.Dropout(0.25)\n",
        "        self.out= torch.nn.Linear(n1+n2,1)\n",
        "        #TO DO\n",
        "        \n",
        "        # prediction function takes embedding as input, and predicts which word in vocabulary as output\n",
        "\n",
        "        #TO DO\n",
        "        \n",
        "    def forward(self, x):\n",
        "        \"\"\"\n",
        "        x: torch.tensor of shape (bsz), bsz is the batch size\n",
        "        \"\"\"\n",
        "        #TO DO\n",
        "        #print(x.size())\n",
        "        embed=self.embedding(x)\n",
        "        #print(embed.size())\n",
        "        embed=embed.T.unsqueeze(0)\n",
        "        #print(embed.size())\n",
        "        conv1=self.conv1(embed)\n",
        "        conv1=self.activate(conv1)\n",
        "        conv2=self.conv2(embed)\n",
        "        conv2=self.activate(conv2)\n",
        "        #conv1=conv1.squeeze()\n",
        "        #conv2=conv2.squeeze()\n",
        "        #print(conv1.size())\n",
        "        #print(conv2.size())\n",
        "        max1= self.maxpool(conv1)\n",
        "        #print(max1.size())\n",
        "        max2=self.maxpool(conv2)\n",
        "        #print(max2.size())\n",
        "        #drop=self.dropout(torch.cat((max1,max2)).squeeze())\n",
        "        #output=self.out(drop)\n",
        "        output=self.out(torch.cat((max1,max2)).squeeze())\n",
        "        return output"
      ]
    },
    {
      "cell_type": "code",
      "execution_count": 24,
      "metadata": {
        "id": "ldHqHPVUuDRp"
      },
      "outputs": [],
      "source": [
        "model1=CNNModel_unfrozen(glove,25,25,2,3)"
      ]
    },
    {
      "cell_type": "code",
      "execution_count": 25,
      "metadata": {
        "id": "Ky-T1QttuKSE"
      },
      "outputs": [],
      "source": [
        "loss_func = torch.nn.BCEWithLogitsLoss()\n",
        "optimizer = optim.Adam(model1.parameters(), lr=0.0001)\n",
        "train_losses=[]\n",
        "val_losses=[]\n",
        "train_acc_arr=[]\n",
        "val_acc_arr=[]"
      ]
    },
    {
      "cell_type": "code",
      "execution_count": null,
      "metadata": {
        "id": "ee0mvGS3uOyp"
      },
      "outputs": [],
      "source": [
        "for epoch in range(10):  # loop over the dataset multiple times\n",
        "\n",
        "    train_loss = 0.0\n",
        "    val_loss=0\n",
        "    train_acc=0\n",
        "    val_acc=0\n",
        "    model1.train()\n",
        "    print('epoch=', epoch)\n",
        "    \n",
        "    for inputs, labels in train_dataloader:\n",
        "        # get the inputs; data is a list of [inputs, labels]\n",
        "        #inputs, labels = data\n",
        "\n",
        "        # zero the parameter gradients\n",
        "        optimizer.zero_grad()\n",
        "\n",
        "        # forward + backward + optimize\n",
        "        outputs = model1(inputs.flatten())\n",
        "        #print(outputs)\n",
        "        #print(labels)\n",
        "        loss = loss_func(outputs, labels.float())\n",
        "        loss.backward()\n",
        "        optimizer.step()\n",
        "\n",
        "        train_loss+= loss.item()\n",
        "        train_acc+=torch.sum(((outputs>0)== labels)[:].int()).item()\n",
        "    train_loss=train_loss/len(train_dataset)\n",
        "    train_losses.append(train_loss)\n",
        "    print('train loss=',train_loss)\n",
        "    train_acc=train_acc/len(train_dataset)\n",
        "    train_acc_arr.append(train_acc)\n",
        "    print('train_acc',train_acc)\n",
        "\n",
        "\n",
        "    model1.eval()\n",
        "    for inputs, labels in validation_dataloader:\n",
        "\n",
        "      pred=model1(inputs.flatten())\n",
        "      loss = loss_func(pred, labels.float())\n",
        "      val_loss+= loss.item()\n",
        "      val_acc+=torch.sum(((pred>0)== labels)[:].int()).item()\n",
        "    val_loss=val_loss/len(val_dataset)\n",
        "    val_losses.append(val_loss)\n",
        "    print('validation error=',val_loss)\n",
        "    val_acc=val_acc/len(val_dataset)\n",
        "    val_acc_arr.append(val_acc)\n",
        "    print('val_acc for epoch',val_acc)\n",
        "\n",
        "\n",
        "print('Finished Training')\n",
        "plt.plot(train_losses, label='train loss')\n",
        "plt.plot(val_losses, label='validation loss')\n",
        "plt.legend()\n",
        "plt.show()"
      ]
    },
    {
      "cell_type": "code",
      "execution_count": null,
      "metadata": {
        "id": "6OMkPsmAueWc"
      },
      "outputs": [],
      "source": [
        "plt.plot(train_acc_arr, label='train acc')\n",
        "plt.plot(val_acc_arr, label='validation acc')\n",
        "plt.legend()\n",
        "plt.show()"
      ]
    },
    {
      "cell_type": "code",
      "execution_count": null,
      "metadata": {
        "id": "5qOg-Di0umoe"
      },
      "outputs": [],
      "source": [
        "test_loss=0\n",
        "test_acc=0\n",
        "for inputs, labels in test_dataloader:\n",
        "\n",
        "  pred=model1(inputs.flatten())\n",
        "  loss = loss_func(pred, labels.float())\n",
        "  test_loss+= loss.item()\n",
        "  test_acc+=torch.sum(((pred>0)== labels)[:].int()).item()\n",
        "test_loss=test_loss/len(test_dataset)\n",
        "print('test error=',test_loss)\n",
        "test_acc=test_acc/len(test_dataset)\n",
        "print('test_accuracy',test_acc)"
      ]
    },
    {
      "cell_type": "code",
      "execution_count": null,
      "metadata": {
        "id": "-b0lYIxy5eBm"
      },
      "outputs": [],
      "source": [
        "torch.save(model1.state_dict(), 'CNN.pt')"
      ]
    },
    {
      "cell_type": "markdown",
      "metadata": {
        "id": "wrBxVcZb8y5k"
      },
      "source": [
        "#extracting meaning from parameters"
      ]
    },
    {
      "cell_type": "code",
      "execution_count": 34,
      "metadata": {
        "colab": {
          "base_uri": "https://localhost:8080/"
        },
        "id": "L2Hr9-xK6Nvl",
        "outputId": "ae992969-ead0-48ab-8c8c-59c08f283456"
      },
      "outputs": [
        {
          "data": {
            "text/plain": [
              "CNNModel(\n",
              "  (embedding): Embedding(400000, 100)\n",
              "  (conv1): Conv2d(1, 25, kernel_size=(100, 2), stride=(1, 1), bias=False)\n",
              "  (conv2): Conv2d(1, 25, kernel_size=(100, 3), stride=(1, 1), bias=False)\n",
              "  (activate): ReLU()\n",
              "  (maxpool): MaxPool2d(kernel_size=(1, 500), stride=(1, 500), padding=0, dilation=1, ceil_mode=True)\n",
              "  (dropout): Dropout(p=0.25, inplace=False)\n",
              "  (out): Linear(in_features=50, out_features=1, bias=True)\n",
              ")"
            ]
          },
          "execution_count": 34,
          "metadata": {},
          "output_type": "execute_result"
        }
      ],
      "source": [
        "model = CNNModel(glove,25,25,2,3)\n",
        "model.load_state_dict(torch.load('/content/CNN.pt'))\n",
        "model.eval()"
      ]
    },
    {
      "cell_type": "code",
      "execution_count": 38,
      "metadata": {
        "colab": {
          "base_uri": "https://localhost:8080/"
        },
        "id": "UZBM_wvF845r",
        "outputId": "bb71691a-1c94-4ad8-e02d-f232ae3920c1"
      },
      "outputs": [
        {
          "data": {
            "text/plain": [
              "tensor([ 0.1355, -0.1392, -0.0869, -0.0755, -0.0955,  0.1125, -0.1065,  0.1090,\n",
              "        -0.0488,  0.0208, -0.1225,  0.0027,  0.0869,  0.0462, -0.0112, -0.0886,\n",
              "         0.1043,  0.0674, -0.0068, -0.1810, -0.1379, -0.0670,  0.0567, -0.0421,\n",
              "        -0.0353, -0.0079, -0.1566, -0.1305,  0.0129,  0.0327,  0.0372, -0.0057,\n",
              "        -0.0611,  0.0460, -0.0275, -0.0298, -0.1731,  0.0191, -0.0183, -0.0649,\n",
              "        -0.1012,  0.0268,  0.1301, -0.0254, -0.0754, -0.0752,  0.0069,  0.0056,\n",
              "         0.1513,  0.0310, -0.1507,  0.0961,  0.0438,  0.0921, -0.0474,  0.0071,\n",
              "         0.0012, -0.2184, -0.0128,  0.0338, -0.0374,  0.0902, -0.0949,  0.0532,\n",
              "         0.0780,  0.0177,  0.0671, -0.0158, -0.0343,  0.0342, -0.1083,  0.0009,\n",
              "         0.0036, -0.1147, -0.2021,  0.1501, -0.1022, -0.1088, -0.0681,  0.0137,\n",
              "         0.0427,  0.1664, -0.0510, -0.1159, -0.0649, -0.1552,  0.0214,  0.0251,\n",
              "        -0.2108,  0.0079, -0.1293, -0.0769,  0.0505,  0.1267, -0.0956, -0.1218,\n",
              "        -0.0861,  0.0385,  0.0122, -0.0047], grad_fn=<SelectBackward0>)"
            ]
          },
          "execution_count": 38,
          "metadata": {},
          "output_type": "execute_result"
        }
      ],
      "source": [
        "model.conv1.weight.squeeze()[0,:,0]"
      ]
    },
    {
      "cell_type": "code",
      "execution_count": 39,
      "metadata": {
        "id": "M2WsDdP-9Nkw"
      },
      "outputs": [],
      "source": [
        "def print_closest_cosine_words(vec, n=5):\n",
        "  dists = torch.cosine_similarity(glove.vectors.unsqueeze(0), vec.unsqueeze(0), dim=2).squeeze()\n",
        "  dist_sort=torch.argsort(dists,descending=True)\n",
        "  for idx in dist_sort[1:n+1]:\n",
        "    print(glove.itos[idx], \"\\t%5.2f\" % dists[idx])"
      ]
    },
    {
      "cell_type": "code",
      "execution_count": 41,
      "metadata": {
        "colab": {
          "base_uri": "https://localhost:8080/"
        },
        "id": "eEjwrRgE9tSq",
        "outputId": "bde0cb30-b999-45c7-d239-dc1abd083c2a"
      },
      "outputs": [
        {
          "name": "stdout",
          "output_type": "stream",
          "text": [
            "kernal- 0\n",
            "their \t 0.48\n",
            "schoolmates \t 0.45\n",
            "mid-teens \t 0.44\n",
            "classmates \t 0.44\n",
            "returned \t 0.44\n",
            "kernal- 1\n",
            "kilkenny \t 0.42\n",
            "pupate \t 0.38\n",
            "offaly \t 0.38\n",
            "their \t 0.38\n",
            "capitalise \t 0.38\n",
            "kernal- 2\n",
            "kusuo \t 0.49\n",
            "neena \t 0.49\n",
            "sunita \t 0.48\n",
            "luza \t 0.47\n",
            "martorana \t 0.46\n",
            "kernal- 3\n",
            "cashed \t 0.44\n",
            "returned \t 0.43\n",
            "recontest \t 0.43\n",
            "sabbatical \t 0.43\n",
            "livings \t 0.42\n",
            "kernal- 4\n",
            "letterboxed \t 0.47\n",
            "restrictively \t 0.47\n",
            "outselling \t 0.47\n",
            "flatteringly \t 0.44\n",
            "digitised \t 0.44\n",
            "kernal- 5\n",
            "art-1stld \t 0.39\n",
            "activists \t 0.39\n",
            "pyrams \t 0.38\n",
            "intelligencer \t 0.36\n",
            "boersen \t 0.36\n",
            "kernal- 6\n",
            "pertained \t 0.40\n",
            "delicacy \t 0.40\n",
            "remiss \t 0.40\n",
            "underpriced \t 0.40\n",
            "cronulla-sutherland \t 0.40\n",
            "kernal- 7\n",
            "afterwards \t 0.47\n",
            "confessed \t 0.46\n",
            "www.caib.us \t 0.41\n",
            "confesses \t 0.40\n",
            "relents \t 0.40\n",
            "kernal- 8\n",
            "predictably \t 0.48\n",
            "crucially \t 0.47\n",
            "seldom \t 0.47\n",
            "flatteringly \t 0.46\n",
            "readily \t 0.46\n",
            "kernal- 9\n",
            "planner \t 0.43\n",
            "heli \t 0.41\n",
            "patrolman \t 0.41\n",
            "muhtar \t 0.40\n",
            "wc2003-rsa \t 0.40\n",
            "kernal- 10\n",
            "slightest \t 0.57\n",
            "anyhow \t 0.55\n",
            "suppose \t 0.54\n",
            "brainer \t 0.54\n",
            "heck \t 0.54\n",
            "kernal- 11\n",
            "darned \t 0.55\n",
            "------------------ \t 0.54\n",
            "danged \t 0.53\n",
            "darn \t 0.53\n",
            "souviens \t 0.51\n",
            "kernal- 12\n",
            "underworld \t 0.45\n",
            "bigfoot \t 0.44\n",
            "co-worker \t 0.44\n",
            "convinces \t 0.43\n",
            "fugitive \t 0.43\n",
            "kernal- 13\n",
            "ponderous \t 0.59\n",
            "pedantic \t 0.59\n",
            "perfunctory \t 0.58\n",
            "punctilious \t 0.56\n",
            "glib \t 0.56\n",
            "kernal- 14\n",
            "birkbeck \t 0.39\n",
            "batavia \t 0.39\n",
            "lycée \t 0.39\n",
            "commenced \t 0.39\n",
            "afb \t 0.39\n",
            "kernal- 15\n",
            "glib \t 0.57\n",
            "brainer \t 0.57\n",
            "apropos \t 0.56\n",
            "iffy \t 0.55\n",
            "smirky \t 0.55\n",
            "kernal- 16\n",
            "landesstraße \t 0.42\n",
            "kecamatan \t 0.41\n",
            "neighbouring \t 0.41\n",
            "plantae \t 0.41\n",
            "kingdoms \t 0.40\n",
            "kernal- 17\n",
            "geoghan \t 0.42\n",
            "sookie \t 0.40\n",
            "inmate \t 0.40\n",
            "nixzmary \t 0.39\n",
            "jamadi \t 0.39\n",
            "kernal- 18\n",
            "helianthemum \t 0.43\n",
            "pyrus \t 0.43\n",
            "melampus \t 0.43\n",
            "mastrogiacomo \t 0.42\n",
            "tatsuta \t 0.42\n",
            "kernal- 19\n",
            "giscard \t 0.42\n",
            "lyautey \t 0.41\n",
            "dutch \t 0.41\n",
            "interbrew \t 0.40\n",
            "inbev \t 0.39\n"
          ]
        }
      ],
      "source": [
        "for i in range(20):\n",
        "  print(\"kernal-\",i)\n",
        "  print_closest_cosine_words(model.conv1.weight.squeeze()[i,:,0],5)"
      ]
    },
    {
      "cell_type": "code",
      "execution_count": null,
      "metadata": {
        "id": "bLdb8FI89zvb"
      },
      "outputs": [],
      "source": []
    }
  ],
  "metadata": {
    "colab": {
      "collapsed_sections": [],
      "provenance": []
    },
    "kernelspec": {
      "display_name": "Python 3.7.13 ('base')",
      "language": "python",
      "name": "python3"
    },
    "language_info": {
      "codemirror_mode": {
        "name": "ipython",
        "version": 3
      },
      "file_extension": ".py",
      "mimetype": "text/x-python",
      "name": "python",
      "nbconvert_exporter": "python",
      "pygments_lexer": "ipython3",
      "version": "3.7.13"
    },
    "vscode": {
      "interpreter": {
        "hash": "415686034d28ca83dfb397db2f59cd0b342825bd24c1e67598292e91597816cd"
      }
    }
  },
  "nbformat": 4,
  "nbformat_minor": 0
}
