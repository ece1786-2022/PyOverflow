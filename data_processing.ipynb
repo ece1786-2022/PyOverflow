{
 "cells": [
  {
   "cell_type": "code",
   "execution_count": 1,
   "id": "43ca2901",
   "metadata": {},
   "outputs": [],
   "source": [
    "import numpy as np\n",
    "import pandas as pd\n",
    "import json"
   ]
  },
  {
   "cell_type": "code",
   "execution_count": 93,
   "id": "c3cb45da",
   "metadata": {},
   "outputs": [],
   "source": [
    "path='D:/FILES/University of Toronto/Subjects/Fall 2022/NLP/project/PyOverflow/Data/Training/JSON/regex.json'\n",
    "df=pd.read_json(path_or_buf=path)"
   ]
  },
  {
   "cell_type": "code",
   "execution_count": 94,
   "id": "44f26700",
   "metadata": {},
   "outputs": [
    {
     "data": {
      "text/html": [
       "<div>\n",
       "<style scoped>\n",
       "    .dataframe tbody tr th:only-of-type {\n",
       "        vertical-align: middle;\n",
       "    }\n",
       "\n",
       "    .dataframe tbody tr th {\n",
       "        vertical-align: top;\n",
       "    }\n",
       "\n",
       "    .dataframe thead th {\n",
       "        text-align: right;\n",
       "    }\n",
       "</style>\n",
       "<table border=\"1\" class=\"dataframe\">\n",
       "  <thead>\n",
       "    <tr style=\"text-align: right;\">\n",
       "      <th></th>\n",
       "      <th>Topic</th>\n",
       "      <th>content</th>\n",
       "      <th>class</th>\n",
       "      <th>functions</th>\n",
       "      <th>code_demo</th>\n",
       "      <th>Subtopics</th>\n",
       "    </tr>\n",
       "  </thead>\n",
       "  <tbody>\n",
       "    <tr>\n",
       "      <th>0</th>\n",
       "      <td>re Regular expression operations</td>\n",
       "      <td>[]</td>\n",
       "      <td>[]</td>\n",
       "      <td>[]</td>\n",
       "      <td>[]</td>\n",
       "      <td>[{'Topic': 'Regular Expression Syntax', 'conte...</td>\n",
       "    </tr>\n",
       "  </tbody>\n",
       "</table>\n",
       "</div>"
      ],
      "text/plain": [
       "                              Topic content class functions code_demo  \\\n",
       "0  re Regular expression operations      []    []        []        []   \n",
       "\n",
       "                                           Subtopics  \n",
       "0  [{'Topic': 'Regular Expression Syntax', 'conte...  "
      ]
     },
     "execution_count": 94,
     "metadata": {},
     "output_type": "execute_result"
    }
   ],
   "source": [
    "df"
   ]
  },
  {
   "cell_type": "code",
   "execution_count": 95,
   "id": "d921e913",
   "metadata": {},
   "outputs": [
    {
     "ename": "KeyError",
     "evalue": "'content'",
     "output_type": "error",
     "traceback": [
      "\u001b[1;31m---------------------------------------------------------------------------\u001b[0m",
      "\u001b[1;31mKeyError\u001b[0m                                  Traceback (most recent call last)",
      "\u001b[1;32md:\\SOFTWARE\\Anaconda3\\envs\\AI_in_robotics\\lib\\site-packages\\pandas\\core\\indexes\\base.py\u001b[0m in \u001b[0;36mget_loc\u001b[1;34m(self, key, method, tolerance)\u001b[0m\n\u001b[0;32m   3802\u001b[0m             \u001b[1;32mtry\u001b[0m\u001b[1;33m:\u001b[0m\u001b[1;33m\u001b[0m\u001b[1;33m\u001b[0m\u001b[0m\n\u001b[1;32m-> 3803\u001b[1;33m                 \u001b[1;32mreturn\u001b[0m \u001b[0mself\u001b[0m\u001b[1;33m.\u001b[0m\u001b[0m_engine\u001b[0m\u001b[1;33m.\u001b[0m\u001b[0mget_loc\u001b[0m\u001b[1;33m(\u001b[0m\u001b[0mcasted_key\u001b[0m\u001b[1;33m)\u001b[0m\u001b[1;33m\u001b[0m\u001b[1;33m\u001b[0m\u001b[0m\n\u001b[0m\u001b[0;32m   3804\u001b[0m             \u001b[1;32mexcept\u001b[0m \u001b[0mKeyError\u001b[0m \u001b[1;32mas\u001b[0m \u001b[0merr\u001b[0m\u001b[1;33m:\u001b[0m\u001b[1;33m\u001b[0m\u001b[1;33m\u001b[0m\u001b[0m\n",
      "\u001b[1;32md:\\SOFTWARE\\Anaconda3\\envs\\AI_in_robotics\\lib\\site-packages\\pandas\\_libs\\index.pyx\u001b[0m in \u001b[0;36mpandas._libs.index.IndexEngine.get_loc\u001b[1;34m()\u001b[0m\n",
      "\u001b[1;32md:\\SOFTWARE\\Anaconda3\\envs\\AI_in_robotics\\lib\\site-packages\\pandas\\_libs\\index.pyx\u001b[0m in \u001b[0;36mpandas._libs.index.IndexEngine.get_loc\u001b[1;34m()\u001b[0m\n",
      "\u001b[1;32mpandas\\_libs\\hashtable_class_helper.pxi\u001b[0m in \u001b[0;36mpandas._libs.hashtable.PyObjectHashTable.get_item\u001b[1;34m()\u001b[0m\n",
      "\u001b[1;32mpandas\\_libs\\hashtable_class_helper.pxi\u001b[0m in \u001b[0;36mpandas._libs.hashtable.PyObjectHashTable.get_item\u001b[1;34m()\u001b[0m\n",
      "\u001b[1;31mKeyError\u001b[0m: 'content'",
      "\nThe above exception was the direct cause of the following exception:\n",
      "\u001b[1;31mKeyError\u001b[0m                                  Traceback (most recent call last)",
      "\u001b[1;32m~\\AppData\\Local\\Temp\\ipykernel_11384\\3627441022.py\u001b[0m in \u001b[0;36m<module>\u001b[1;34m\u001b[0m\n\u001b[0;32m      1\u001b[0m \u001b[0mdata\u001b[0m\u001b[1;33m=\u001b[0m\u001b[0mpd\u001b[0m\u001b[1;33m.\u001b[0m\u001b[0mDataFrame\u001b[0m\u001b[1;33m(\u001b[0m\u001b[0mdf\u001b[0m\u001b[1;33m[\u001b[0m\u001b[1;34m'Subtopics'\u001b[0m\u001b[1;33m]\u001b[0m\u001b[1;33m.\u001b[0m\u001b[0mloc\u001b[0m\u001b[1;33m[\u001b[0m\u001b[1;36m0\u001b[0m\u001b[1;33m]\u001b[0m\u001b[1;33m)\u001b[0m\u001b[1;33m\u001b[0m\u001b[1;33m\u001b[0m\u001b[0m\n\u001b[1;32m----> 2\u001b[1;33m \u001b[0mpd\u001b[0m\u001b[1;33m.\u001b[0m\u001b[0mDataFrame\u001b[0m\u001b[1;33m(\u001b[0m\u001b[0mdata\u001b[0m\u001b[1;33m.\u001b[0m\u001b[0mloc\u001b[0m\u001b[1;33m[\u001b[0m\u001b[1;36m2\u001b[0m\u001b[1;33m]\u001b[0m\u001b[1;33m[\u001b[0m\u001b[1;34m'Subtopics'\u001b[0m\u001b[1;33m]\u001b[0m\u001b[1;33m)\u001b[0m\u001b[1;33m[\u001b[0m\u001b[1;34m'content'\u001b[0m\u001b[1;33m]\u001b[0m\u001b[1;33m[\u001b[0m\u001b[1;36m0\u001b[0m\u001b[1;33m]\u001b[0m\u001b[1;33m\u001b[0m\u001b[1;33m\u001b[0m\u001b[0m\n\u001b[0m",
      "\u001b[1;32md:\\SOFTWARE\\Anaconda3\\envs\\AI_in_robotics\\lib\\site-packages\\pandas\\core\\frame.py\u001b[0m in \u001b[0;36m__getitem__\u001b[1;34m(self, key)\u001b[0m\n\u001b[0;32m   3802\u001b[0m             \u001b[1;32mif\u001b[0m \u001b[0mself\u001b[0m\u001b[1;33m.\u001b[0m\u001b[0mcolumns\u001b[0m\u001b[1;33m.\u001b[0m\u001b[0mnlevels\u001b[0m \u001b[1;33m>\u001b[0m \u001b[1;36m1\u001b[0m\u001b[1;33m:\u001b[0m\u001b[1;33m\u001b[0m\u001b[1;33m\u001b[0m\u001b[0m\n\u001b[0;32m   3803\u001b[0m                 \u001b[1;32mreturn\u001b[0m \u001b[0mself\u001b[0m\u001b[1;33m.\u001b[0m\u001b[0m_getitem_multilevel\u001b[0m\u001b[1;33m(\u001b[0m\u001b[0mkey\u001b[0m\u001b[1;33m)\u001b[0m\u001b[1;33m\u001b[0m\u001b[1;33m\u001b[0m\u001b[0m\n\u001b[1;32m-> 3804\u001b[1;33m             \u001b[0mindexer\u001b[0m \u001b[1;33m=\u001b[0m \u001b[0mself\u001b[0m\u001b[1;33m.\u001b[0m\u001b[0mcolumns\u001b[0m\u001b[1;33m.\u001b[0m\u001b[0mget_loc\u001b[0m\u001b[1;33m(\u001b[0m\u001b[0mkey\u001b[0m\u001b[1;33m)\u001b[0m\u001b[1;33m\u001b[0m\u001b[1;33m\u001b[0m\u001b[0m\n\u001b[0m\u001b[0;32m   3805\u001b[0m             \u001b[1;32mif\u001b[0m \u001b[0mis_integer\u001b[0m\u001b[1;33m(\u001b[0m\u001b[0mindexer\u001b[0m\u001b[1;33m)\u001b[0m\u001b[1;33m:\u001b[0m\u001b[1;33m\u001b[0m\u001b[1;33m\u001b[0m\u001b[0m\n\u001b[0;32m   3806\u001b[0m                 \u001b[0mindexer\u001b[0m \u001b[1;33m=\u001b[0m \u001b[1;33m[\u001b[0m\u001b[0mindexer\u001b[0m\u001b[1;33m]\u001b[0m\u001b[1;33m\u001b[0m\u001b[1;33m\u001b[0m\u001b[0m\n",
      "\u001b[1;32md:\\SOFTWARE\\Anaconda3\\envs\\AI_in_robotics\\lib\\site-packages\\pandas\\core\\indexes\\base.py\u001b[0m in \u001b[0;36mget_loc\u001b[1;34m(self, key, method, tolerance)\u001b[0m\n\u001b[0;32m   3803\u001b[0m                 \u001b[1;32mreturn\u001b[0m \u001b[0mself\u001b[0m\u001b[1;33m.\u001b[0m\u001b[0m_engine\u001b[0m\u001b[1;33m.\u001b[0m\u001b[0mget_loc\u001b[0m\u001b[1;33m(\u001b[0m\u001b[0mcasted_key\u001b[0m\u001b[1;33m)\u001b[0m\u001b[1;33m\u001b[0m\u001b[1;33m\u001b[0m\u001b[0m\n\u001b[0;32m   3804\u001b[0m             \u001b[1;32mexcept\u001b[0m \u001b[0mKeyError\u001b[0m \u001b[1;32mas\u001b[0m \u001b[0merr\u001b[0m\u001b[1;33m:\u001b[0m\u001b[1;33m\u001b[0m\u001b[1;33m\u001b[0m\u001b[0m\n\u001b[1;32m-> 3805\u001b[1;33m                 \u001b[1;32mraise\u001b[0m \u001b[0mKeyError\u001b[0m\u001b[1;33m(\u001b[0m\u001b[0mkey\u001b[0m\u001b[1;33m)\u001b[0m \u001b[1;32mfrom\u001b[0m \u001b[0merr\u001b[0m\u001b[1;33m\u001b[0m\u001b[1;33m\u001b[0m\u001b[0m\n\u001b[0m\u001b[0;32m   3806\u001b[0m             \u001b[1;32mexcept\u001b[0m \u001b[0mTypeError\u001b[0m\u001b[1;33m:\u001b[0m\u001b[1;33m\u001b[0m\u001b[1;33m\u001b[0m\u001b[0m\n\u001b[0;32m   3807\u001b[0m                 \u001b[1;31m# If we have a listlike key, _check_indexing_error will raise\u001b[0m\u001b[1;33m\u001b[0m\u001b[1;33m\u001b[0m\u001b[0m\n",
      "\u001b[1;31mKeyError\u001b[0m: 'content'"
     ]
    }
   ],
   "source": [
    "data=pd.DataFrame(df['Subtopics'].loc[0])\n",
    "pd.DataFrame(data.loc[2]['Subtopics'])['content'][0]"
   ]
  },
  {
   "cell_type": "code",
   "execution_count": 98,
   "id": "27424d68",
   "metadata": {},
   "outputs": [
    {
     "data": {
      "text/plain": [
       "[{'Topic': 'Checking for a Pair',\n",
       "  'content': ['In this example, well use the following helper function to display match\\nobjects a little more gracefully:',\n",
       "   'Suppose you are writing a poker program where a players hand is represented as\\na 5-character string with each character representing a card, a for ace, k\\nfor king, q for queen, j for jack, t for 10, and 2 through 9\\nrepresenting the card with that value.',\n",
       "   'To see if a given string is a valid hand, one could do the following:',\n",
       "   'That last hand, \"727ak\", contained a pair, or two of the same valued cards.\\nTo match this with a regular expression, one could use backreferences as such:',\n",
       "   'To find out what card the pair consists of, one could use the\\ngroup() method of the match object in the following manner:'],\n",
       "  'class': [],\n",
       "  'functions': [],\n",
       "  'code_demo': [\"def displaymatch(match):\\n    if match is None:\\n        return None\\n    return '<Match: %r, groups=%r>' % (match.group(), match.groups())\\n\\n\",\n",
       "   '>>> valid = re.compile(r\"^[a2-9tjqk]{5}$\")\\n>>> displaymatch(valid.match(\"akt5q\"))  # Valid.\\n\"<Match: \\'akt5q\\', groups=()>\"\\n>>> displaymatch(valid.match(\"akt5e\"))  # Invalid.\\n>>> displaymatch(valid.match(\"akt\"))    # Invalid.\\n>>> displaymatch(valid.match(\"727ak\"))  # Valid.\\n\"<Match: \\'727ak\\', groups=()>\"\\n\\n',\n",
       "   '>>> pair = re.compile(r\".*(.).*\\\\1\")\\n>>> displaymatch(pair.match(\"717ak\"))     # Pair of 7s.\\n\"<Match: \\'717\\', groups=(\\'7\\',)>\"\\n>>> displaymatch(pair.match(\"718ak\"))     # No pairs.\\n>>> displaymatch(pair.match(\"354aa\"))     # Pair of aces.\\n\"<Match: \\'354aa\\', groups=(\\'a\\',)>\"\\n\\n',\n",
       "   '>>> pair = re.compile(r\".*(.).*\\\\1\")\\n>>> pair.match(\"717ak\").group(1)\\n\\'7\\'\\n\\n# Error because re.match() returns None, which doesn\\'t have a group() method:\\n>>> pair.match(\"718ak\").group(1)\\nTraceback (most recent call last):\\n  File \"<pyshell#23>\", line 1, in <module>\\n    re.match(r\".*(.).*\\\\1\", \"718ak\").group(1)\\nAttributeError: \\'NoneType\\' object has no attribute \\'group\\'\\n\\n>>> pair.match(\"354aa\").group(1)\\n\\'a\\'\\n\\n'],\n",
       "  'Subtopics': []},\n",
       " {'Topic': 'Simulating scanf()',\n",
       "  'content': [],\n",
       "  'class': [],\n",
       "  'functions': [],\n",
       "  'code_demo': [],\n",
       "  'Subtopics': []},\n",
       " {'Topic': 'search() vs. match()',\n",
       "  'content': [],\n",
       "  'class': [],\n",
       "  'functions': [],\n",
       "  'code_demo': [],\n",
       "  'Subtopics': []},\n",
       " {'Topic': 'Making a Phonebook',\n",
       "  'content': ['split() splits a string into a list delimited by the passed pattern.  The\\nmethod is invaluable for converting textual data into data structures that can be\\neasily read and modified by Python as demonstrated in the following example that\\ncreates a phonebook.',\n",
       "   'First, here is the input.  Normally it may come from a file, here we are using\\ntriple-quoted string syntax',\n",
       "   'The entries are separated by one or more newlines. Now we convert the string\\ninto a list with each nonempty line having its own entry:',\n",
       "   'Finally, split each entry into a list with first name, last name, telephone\\nnumber, and address.  We use the maxsplit parameter of split()\\nbecause the address has spaces, our splitting pattern, in it:',\n",
       "   'The :? pattern matches the colon after the last name, so that it does not\\noccur in the result list.  With a maxsplit of 4, we could separate the\\nhouse number from the street name:'],\n",
       "  'class': [],\n",
       "  'functions': [],\n",
       "  'code_demo': ['>>> text = \"\"\"Ross McFluff: 834.345.1254 155 Elm Street\\n...\\n... Ronald Heathmore: 892.345.3428 436 Finley Avenue\\n... Frank Burger: 925.541.7625 662 South Dogwood Way\\n...\\n...\\n... Heather Albrecht: 548.326.4584 919 Park Place\"\"\"\\n\\n',\n",
       "   '>>> entries = re.split(\"\\\\n+\", text)\\n>>> entries\\n[\\'Ross McFluff: 834.345.1254 155 Elm Street\\',\\n\\'Ronald Heathmore: 892.345.3428 436 Finley Avenue\\',\\n\\'Frank Burger: 925.541.7625 662 South Dogwood Way\\',\\n\\'Heather Albrecht: 548.326.4584 919 Park Place\\']\\n\\n',\n",
       "   '>>> [re.split(\":? \", entry, 3) for entry in entries]\\n[[\\'Ross\\', \\'McFluff\\', \\'834.345.1254\\', \\'155 Elm Street\\'],\\n[\\'Ronald\\', \\'Heathmore\\', \\'892.345.3428\\', \\'436 Finley Avenue\\'],\\n[\\'Frank\\', \\'Burger\\', \\'925.541.7625\\', \\'662 South Dogwood Way\\'],\\n[\\'Heather\\', \\'Albrecht\\', \\'548.326.4584\\', \\'919 Park Place\\']]\\n\\n',\n",
       "   '>>> [re.split(\":? \", entry, 4) for entry in entries]\\n[[\\'Ross\\', \\'McFluff\\', \\'834.345.1254\\', \\'155\\', \\'Elm Street\\'],\\n[\\'Ronald\\', \\'Heathmore\\', \\'892.345.3428\\', \\'436\\', \\'Finley Avenue\\'],\\n[\\'Frank\\', \\'Burger\\', \\'925.541.7625\\', \\'662\\', \\'South Dogwood Way\\'],\\n[\\'Heather\\', \\'Albrecht\\', \\'548.326.4584\\', \\'919\\', \\'Park Place\\']]\\n\\n'],\n",
       "  'Subtopics': []},\n",
       " {'Topic': 'Text Munging',\n",
       "  'content': ['sub() replaces every occurrence of a pattern with a string or the\\nresult of a function.  This example demonstrates using sub() with\\na function to munge text, or randomize the order of all the characters\\nin each word of a sentence except for the first and last characters:'],\n",
       "  'class': [],\n",
       "  'functions': [],\n",
       "  'code_demo': ['>>> def repl(m):\\n...     inner_word = list(m.group(2))\\n...     random.shuffle(inner_word)\\n...     return m.group(1) + \"\".join(inner_word) + m.group(3)\\n>>> text = \"Professor Abdolmalek, please report your absences promptly.\"\\n>>> re.sub(r\"(\\\\w)(\\\\w+)(\\\\w)\", repl, text)\\n\\'Poefsrosr Aealmlobdk, pslaee reorpt your abnseces plmrptoy.\\'\\n>>> re.sub(r\"(\\\\w)(\\\\w+)(\\\\w)\", repl, text)\\n\\'Pofsroser Aodlambelk, plasee reoprt yuor asnebces potlmrpy.\\'\\n\\n'],\n",
       "  'Subtopics': []},\n",
       " {'Topic': 'Finding all Adverbs',\n",
       "  'content': ['findall() matches all occurrences of a pattern, not just the first\\none as search() does.  For example, if a writer wanted to\\nfind all of the adverbs in some text, they might use findall() in\\nthe following manner:'],\n",
       "  'class': [],\n",
       "  'functions': [],\n",
       "  'code_demo': ['>>> text = \"He was carefully disguised but captured quickly by police.\"\\n>>> re.findall(r\"\\\\w+ly\\\\b\", text)\\n[\\'carefully\\', \\'quickly\\']\\n\\n'],\n",
       "  'Subtopics': []},\n",
       " {'Topic': 'Finding all Adverbs and their Positions',\n",
       "  'content': ['If one wants more information about all matches of a pattern than the matched\\ntext, finditer() is useful as it provides match objects instead of strings.  Continuing with the previous example, if\\na writer wanted to find all of the adverbs and their positions in\\nsome text, they would use finditer() in the following manner:'],\n",
       "  'class': [],\n",
       "  'functions': [],\n",
       "  'code_demo': ['>>> text = \"He was carefully disguised but captured quickly by police.\"\\n>>> for m in re.finditer(r\"\\\\w+ly\\\\b\", text):\\n...     print(\\'%02d-%02d: %s\\' % (m.start(), m.end(), m.group(0)))\\n07-16: carefully\\n40-47: quickly\\n\\n'],\n",
       "  'Subtopics': []},\n",
       " {'Topic': 'Raw String Notation',\n",
       "  'content': ['Raw string notation (r\"text\") keeps regular expressions sane.  Without it,\\nevery backslash (\\'\\\\\\') in a regular expression would have to be prefixed with\\nanother one to escape it.  For example, the two following lines of code are\\nfunctionally identical:',\n",
       "   'When one wants to match a literal backslash, it must be escaped in the regular\\nexpression.  With raw string notation, this means r\"\\\\\\\\\".  Without raw string\\nnotation, one must use \"\\\\\\\\\\\\\\\\\", making the following lines of code\\nfunctionally identical:'],\n",
       "  'class': [],\n",
       "  'functions': [],\n",
       "  'code_demo': ['>>> re.match(r\"\\\\W(.)\\\\1\\\\W\", \" ff \")\\n<re.Match object; span=(0, 4), match=\\' ff \\'>\\n>>> re.match(\"\\\\\\\\W(.)\\\\\\\\1\\\\\\\\W\", \" ff \")\\n<re.Match object; span=(0, 4), match=\\' ff \\'>\\n\\n',\n",
       "   '>>> re.match(r\"\\\\\\\\\", r\"\\\\\\\\\")\\n<re.Match object; span=(0, 1), match=\\'\\\\\\\\\\'>\\n>>> re.match(\"\\\\\\\\\\\\\\\\\", r\"\\\\\\\\\")\\n<re.Match object; span=(0, 1), match=\\'\\\\\\\\\\'>\\n\\n'],\n",
       "  'Subtopics': []},\n",
       " {'Topic': 'Writing a Tokenizer',\n",
       "  'content': ['A tokenizer or scanner\\nanalyzes a string to categorize groups of characters.  This is a useful first\\nstep in writing a compiler or interpreter.',\n",
       "   'The text categories are specified with regular expressions.  The technique is\\nto combine those into a single master regular expression and to loop over\\nsuccessive matches:',\n",
       "   'The tokenizer produces the following output:'],\n",
       "  'class': [],\n",
       "  'functions': [{'name': 'Frie09',\n",
       "    'content': ['Friedl, Jeffrey. Mastering Regular Expressions. 3rd ed., OReilly\\nMedia, 2009. The third edition of the book no longer covers Python at all,\\nbut the first edition covered writing good regular expression patterns in\\ngreat detail.'],\n",
       "    'code_demo': []}],\n",
       "  'code_demo': [\"from typing import NamedTuple\\nimport re\\n\\nclass Token(NamedTuple):\\n    type: str\\n    value: str\\n    line: int\\n    column: int\\n\\ndef tokenize(code):\\n    keywords = {'IF', 'THEN', 'ENDIF', 'FOR', 'NEXT', 'GOSUB', 'RETURN'}\\n    token_specification = [\\n        ('NUMBER',   r'\\\\d+(\\\\.\\\\d*)?'),  # Integer or decimal number\\n        ('ASSIGN',   r':='),           # Assignment operator\\n        ('END',      r';'),            # Statement terminator\\n        ('ID',       r'[A-Za-z]+'),    # Identifiers\\n        ('OP',       r'[+\\\\-*/]'),      # Arithmetic operators\\n        ('NEWLINE',  r'\\\\n'),           # Line endings\\n        ('SKIP',     r'[ \\\\t]+'),       # Skip over spaces and tabs\\n        ('MISMATCH', r'.'),            # Any other character\\n    ]\\n    tok_regex = '|'.join('(?P<%s>%s)' % pair for pair in token_specification)\\n    line_num = 1\\n    line_start = 0\\n    for mo in re.finditer(tok_regex, code):\\n        kind = mo.lastgroup\\n        value = mo.group()\\n        column = mo.start() - line_start\\n        if kind == 'NUMBER':\\n            value = float(value) if '.' in value else int(value)\\n        elif kind == 'ID' and value in keywords:\\n            kind = value\\n        elif kind == 'NEWLINE':\\n            line_start = mo.end()\\n            line_num += 1\\n            continue\\n        elif kind == 'SKIP':\\n            continue\\n        elif kind == 'MISMATCH':\\n            raise RuntimeError(f'{value!r} unexpected on line {line_num}')\\n        yield Token(kind, value, line_num, column)\\n\\nstatements = '''\\n    IF quantity THEN\\n        total := total + price * quantity;\\n        tax := price * 0.05;\\n    ENDIF;\\n'''\\n\\nfor token in tokenize(statements):\\n    print(token)\\n\\n\",\n",
       "   \"Token(type='IF', value='IF', line=2, column=4)\\nToken(type='ID', value='quantity', line=2, column=7)\\nToken(type='THEN', value='THEN', line=2, column=16)\\nToken(type='ID', value='total', line=3, column=8)\\nToken(type='ASSIGN', value=':=', line=3, column=14)\\nToken(type='ID', value='total', line=3, column=17)\\nToken(type='OP', value='+', line=3, column=23)\\nToken(type='ID', value='price', line=3, column=25)\\nToken(type='OP', value='*', line=3, column=31)\\nToken(type='ID', value='quantity', line=3, column=33)\\nToken(type='END', value=';', line=3, column=41)\\nToken(type='ID', value='tax', line=4, column=8)\\nToken(type='ASSIGN', value=':=', line=4, column=12)\\nToken(type='ID', value='price', line=4, column=15)\\nToken(type='OP', value='*', line=4, column=21)\\nToken(type='NUMBER', value=0.05, line=4, column=23)\\nToken(type='END', value=';', line=4, column=27)\\nToken(type='ENDIF', value='ENDIF', line=5, column=4)\\nToken(type='END', value=';', line=5, column=9)\\n\\n\"],\n",
       "  'Subtopics': []}]"
      ]
     },
     "execution_count": 98,
     "metadata": {},
     "output_type": "execute_result"
    }
   ],
   "source": [
    "data.loc[4]['Subtopics']"
   ]
  },
  {
   "cell_type": "code",
   "execution_count": 14,
   "id": "b9f1a49e",
   "metadata": {},
   "outputs": [],
   "source": [
    "# remove empty lists from subtopics location 0\n",
    "#df['Subtopics'].loc[0]=list(filter(None, df['Subtopics'].loc[0]))\n",
    "data=pd.DataFrame(df['Subtopics'].loc[0])\n",
    "data=data[['Topic','content']]"
   ]
  },
  {
   "cell_type": "code",
   "execution_count": 15,
   "id": "beeafb05",
   "metadata": {},
   "outputs": [
    {
     "data": {
      "text/html": [
       "<div>\n",
       "<style scoped>\n",
       "    .dataframe tbody tr th:only-of-type {\n",
       "        vertical-align: middle;\n",
       "    }\n",
       "\n",
       "    .dataframe tbody tr th {\n",
       "        vertical-align: top;\n",
       "    }\n",
       "\n",
       "    .dataframe thead th {\n",
       "        text-align: right;\n",
       "    }\n",
       "</style>\n",
       "<table border=\"1\" class=\"dataframe\">\n",
       "  <thead>\n",
       "    <tr style=\"text-align: right;\">\n",
       "      <th></th>\n",
       "      <th>Topic</th>\n",
       "      <th>content</th>\n",
       "    </tr>\n",
       "  </thead>\n",
       "  <tbody>\n",
       "    <tr>\n",
       "      <th>0</th>\n",
       "      <td>String constants</td>\n",
       "      <td>[The constants defined in this module are:]</td>\n",
       "    </tr>\n",
       "    <tr>\n",
       "      <th>1</th>\n",
       "      <td>Custom String Formatting</td>\n",
       "      <td>[The built-in string class provides the abilit...</td>\n",
       "    </tr>\n",
       "    <tr>\n",
       "      <th>2</th>\n",
       "      <td>Format String Syntax</td>\n",
       "      <td>[The str.format() method and the Formatter cla...</td>\n",
       "    </tr>\n",
       "    <tr>\n",
       "      <th>3</th>\n",
       "      <td>Template strings</td>\n",
       "      <td>[Template strings provide simpler string subst...</td>\n",
       "    </tr>\n",
       "    <tr>\n",
       "      <th>4</th>\n",
       "      <td>Helper functions</td>\n",
       "      <td>[]</td>\n",
       "    </tr>\n",
       "  </tbody>\n",
       "</table>\n",
       "</div>"
      ],
      "text/plain": [
       "                      Topic                                            content\n",
       "0          String constants        [The constants defined in this module are:]\n",
       "1  Custom String Formatting  [The built-in string class provides the abilit...\n",
       "2      Format String Syntax  [The str.format() method and the Formatter cla...\n",
       "3          Template strings  [Template strings provide simpler string subst...\n",
       "4          Helper functions                                                 []"
      ]
     },
     "execution_count": 15,
     "metadata": {},
     "output_type": "execute_result"
    }
   ],
   "source": [
    "data"
   ]
  },
  {
   "cell_type": "code",
   "execution_count": 16,
   "id": "a01fbca4",
   "metadata": {},
   "outputs": [],
   "source": [
    "for i in data.index:\n",
    "    data['content'].loc[i]=' '.join(data['content'].loc[i])\n",
    "    data['content'].loc[i]=data['content'].loc[i].replace('\\\\u',' ')\n",
    "    data['content'].loc[i]=data['content'].loc[i].replace('\\n',' ')\n",
    "    "
   ]
  },
  {
   "cell_type": "code",
   "execution_count": 63,
   "id": "088b680c",
   "metadata": {},
   "outputs": [
    {
     "data": {
      "text/plain": [
       "RangeIndex(start=0, stop=5, step=1)"
      ]
     },
     "execution_count": 63,
     "metadata": {},
     "output_type": "execute_result"
    }
   ],
   "source": [
    "data.index"
   ]
  },
  {
   "cell_type": "code",
   "execution_count": 21,
   "id": "74025a09",
   "metadata": {},
   "outputs": [
    {
     "data": {
      "text/html": [
       "<div>\n",
       "<style scoped>\n",
       "    .dataframe tbody tr th:only-of-type {\n",
       "        vertical-align: middle;\n",
       "    }\n",
       "\n",
       "    .dataframe tbody tr th {\n",
       "        vertical-align: top;\n",
       "    }\n",
       "\n",
       "    .dataframe thead th {\n",
       "        text-align: right;\n",
       "    }\n",
       "</style>\n",
       "<table border=\"1\" class=\"dataframe\">\n",
       "  <thead>\n",
       "    <tr style=\"text-align: right;\">\n",
       "      <th></th>\n",
       "      <th>Topic</th>\n",
       "      <th>content</th>\n",
       "    </tr>\n",
       "  </thead>\n",
       "  <tbody>\n",
       "    <tr>\n",
       "      <th>0</th>\n",
       "      <td>Format Specification Mini-Language</td>\n",
       "      <td>[Format specifications are used within replace...</td>\n",
       "    </tr>\n",
       "    <tr>\n",
       "      <th>1</th>\n",
       "      <td>Format examples</td>\n",
       "      <td>[This section contains examples of the str.for...</td>\n",
       "    </tr>\n",
       "  </tbody>\n",
       "</table>\n",
       "</div>"
      ],
      "text/plain": [
       "                                Topic  \\\n",
       "0  Format Specification Mini-Language   \n",
       "1                     Format examples   \n",
       "\n",
       "                                             content  \n",
       "0  [Format specifications are used within replace...  \n",
       "1  [This section contains examples of the str.for...  "
      ]
     },
     "execution_count": 21,
     "metadata": {},
     "output_type": "execute_result"
    }
   ],
   "source": [
    "#only for string.json\n",
    "data2=pd.DataFrame(df['Subtopics'].loc[0])\n",
    "data2=pd.DataFrame(data2.loc[2]['Subtopics'])[['Topic','content']]\n",
    "data2"
   ]
  },
  {
   "cell_type": "code",
   "execution_count": 22,
   "id": "462db76f",
   "metadata": {},
   "outputs": [],
   "source": [
    "#only for string.json\n",
    "for i in data2.index:\n",
    "    data2['content'].loc[i]=' '.join(data2['content'].loc[i])\n",
    "    data2['content'].loc[i]=data2['content'].loc[i].replace('\\\\u',' ')\n",
    "    data2['content'].loc[i]=data2['content'].loc[i].replace('\\n',' ')"
   ]
  },
  {
   "cell_type": "code",
   "execution_count": 23,
   "id": "fa8b1349",
   "metadata": {},
   "outputs": [
    {
     "data": {
      "text/html": [
       "<div>\n",
       "<style scoped>\n",
       "    .dataframe tbody tr th:only-of-type {\n",
       "        vertical-align: middle;\n",
       "    }\n",
       "\n",
       "    .dataframe tbody tr th {\n",
       "        vertical-align: top;\n",
       "    }\n",
       "\n",
       "    .dataframe thead th {\n",
       "        text-align: right;\n",
       "    }\n",
       "</style>\n",
       "<table border=\"1\" class=\"dataframe\">\n",
       "  <thead>\n",
       "    <tr style=\"text-align: right;\">\n",
       "      <th></th>\n",
       "      <th>Topic</th>\n",
       "      <th>content</th>\n",
       "    </tr>\n",
       "  </thead>\n",
       "  <tbody>\n",
       "    <tr>\n",
       "      <th>0</th>\n",
       "      <td>Format Specification Mini-Language</td>\n",
       "      <td>Format specifications are used within replacem...</td>\n",
       "    </tr>\n",
       "    <tr>\n",
       "      <th>1</th>\n",
       "      <td>Format examples</td>\n",
       "      <td>This section contains examples of the str.form...</td>\n",
       "    </tr>\n",
       "  </tbody>\n",
       "</table>\n",
       "</div>"
      ],
      "text/plain": [
       "                                Topic  \\\n",
       "0  Format Specification Mini-Language   \n",
       "1                     Format examples   \n",
       "\n",
       "                                             content  \n",
       "0  Format specifications are used within replacem...  \n",
       "1  This section contains examples of the str.form...  "
      ]
     },
     "execution_count": 23,
     "metadata": {},
     "output_type": "execute_result"
    }
   ],
   "source": [
    "data2"
   ]
  },
  {
   "cell_type": "code",
   "execution_count": 79,
   "id": "7b673233",
   "metadata": {},
   "outputs": [],
   "source": [
    "#only for string.json\n",
    "df['Topic']= 'String'\n",
    "df['content']=''\n",
    "df=df[['Topic','content']]"
   ]
  },
  {
   "cell_type": "code",
   "execution_count": 21,
   "id": "787cd27f",
   "metadata": {},
   "outputs": [],
   "source": [
    "df=df[['Topic','content']]\n",
    "df['content']=' '.join(df['content'][0])\n",
    "df['content']=df['content'][0].replace('\\\\u',' ')\n",
    "df['content']=df['content'][0].replace('\\n',' ')"
   ]
  },
  {
   "cell_type": "code",
   "execution_count": 65,
   "id": "9816ecd2",
   "metadata": {},
   "outputs": [
    {
     "data": {
      "text/plain": [
       "''"
      ]
     },
     "execution_count": 65,
     "metadata": {},
     "output_type": "execute_result"
    }
   ],
   "source": [
    "df['content'][0]"
   ]
  },
  {
   "cell_type": "code",
   "execution_count": 88,
   "id": "f432b172",
   "metadata": {},
   "outputs": [
    {
     "name": "stdout",
     "output_type": "stream",
     "text": [
      "0\n",
      "1\n",
      "2\n",
      "3\n",
      "4\n"
     ]
    }
   ],
   "source": [
    "#only for string.json\n",
    "for i in data.index:\n",
    "    print(i)\n",
    "    df['content'][0]=data['content'][0]+'. '+str(data['content'].loc[i])"
   ]
  },
  {
   "cell_type": "code",
   "execution_count": 92,
   "id": "1a5b62a5",
   "metadata": {},
   "outputs": [
    {
     "ename": "TypeError",
     "evalue": "<lambda>() got an unexpected keyword argument 'axis'",
     "output_type": "error",
     "traceback": [
      "\u001b[1;31m---------------------------------------------------------------------------\u001b[0m",
      "\u001b[1;31mTypeError\u001b[0m                                 Traceback (most recent call last)",
      "\u001b[1;32m~\\AppData\\Local\\Temp\\ipykernel_11384\\1210473166.py\u001b[0m in \u001b[0;36m<module>\u001b[1;34m\u001b[0m\n\u001b[1;32m----> 1\u001b[1;33m df['data1'] = data['content'].apply(\n\u001b[0m\u001b[0;32m      2\u001b[0m     \u001b[1;32mlambda\u001b[0m \u001b[0mx\u001b[0m\u001b[1;33m:\u001b[0m \u001b[1;34m'.'\u001b[0m\u001b[1;33m.\u001b[0m\u001b[0mjoin\u001b[0m\u001b[1;33m(\u001b[0m\u001b[0mx\u001b[0m\u001b[1;33m.\u001b[0m\u001b[0mdropna\u001b[0m\u001b[1;33m(\u001b[0m\u001b[1;33m)\u001b[0m\u001b[1;33m.\u001b[0m\u001b[0mastype\u001b[0m\u001b[1;33m(\u001b[0m\u001b[0mstr\u001b[0m\u001b[1;33m)\u001b[0m\u001b[1;33m)\u001b[0m\u001b[1;33m,\u001b[0m\u001b[1;33m\u001b[0m\u001b[1;33m\u001b[0m\u001b[0m\n\u001b[0;32m      3\u001b[0m     \u001b[0maxis\u001b[0m\u001b[1;33m=\u001b[0m\u001b[1;36m1\u001b[0m\u001b[1;33m\u001b[0m\u001b[1;33m\u001b[0m\u001b[0m\n\u001b[0;32m      4\u001b[0m )\n",
      "\u001b[1;32md:\\SOFTWARE\\Anaconda3\\envs\\AI_in_robotics\\lib\\site-packages\\pandas\\core\\series.py\u001b[0m in \u001b[0;36mapply\u001b[1;34m(self, func, convert_dtype, args, **kwargs)\u001b[0m\n\u001b[0;32m   4769\u001b[0m         \u001b[0mdtype\u001b[0m\u001b[1;33m:\u001b[0m \u001b[0mfloat64\u001b[0m\u001b[1;33m\u001b[0m\u001b[1;33m\u001b[0m\u001b[0m\n\u001b[0;32m   4770\u001b[0m         \"\"\"\n\u001b[1;32m-> 4771\u001b[1;33m         \u001b[1;32mreturn\u001b[0m \u001b[0mSeriesApply\u001b[0m\u001b[1;33m(\u001b[0m\u001b[0mself\u001b[0m\u001b[1;33m,\u001b[0m \u001b[0mfunc\u001b[0m\u001b[1;33m,\u001b[0m \u001b[0mconvert_dtype\u001b[0m\u001b[1;33m,\u001b[0m \u001b[0margs\u001b[0m\u001b[1;33m,\u001b[0m \u001b[0mkwargs\u001b[0m\u001b[1;33m)\u001b[0m\u001b[1;33m.\u001b[0m\u001b[0mapply\u001b[0m\u001b[1;33m(\u001b[0m\u001b[1;33m)\u001b[0m\u001b[1;33m\u001b[0m\u001b[1;33m\u001b[0m\u001b[0m\n\u001b[0m\u001b[0;32m   4772\u001b[0m \u001b[1;33m\u001b[0m\u001b[0m\n\u001b[0;32m   4773\u001b[0m     def _reduce(\n",
      "\u001b[1;32md:\\SOFTWARE\\Anaconda3\\envs\\AI_in_robotics\\lib\\site-packages\\pandas\\core\\apply.py\u001b[0m in \u001b[0;36mapply\u001b[1;34m(self)\u001b[0m\n\u001b[0;32m   1103\u001b[0m \u001b[1;33m\u001b[0m\u001b[0m\n\u001b[0;32m   1104\u001b[0m         \u001b[1;31m# self.f is Callable\u001b[0m\u001b[1;33m\u001b[0m\u001b[1;33m\u001b[0m\u001b[0m\n\u001b[1;32m-> 1105\u001b[1;33m         \u001b[1;32mreturn\u001b[0m \u001b[0mself\u001b[0m\u001b[1;33m.\u001b[0m\u001b[0mapply_standard\u001b[0m\u001b[1;33m(\u001b[0m\u001b[1;33m)\u001b[0m\u001b[1;33m\u001b[0m\u001b[1;33m\u001b[0m\u001b[0m\n\u001b[0m\u001b[0;32m   1106\u001b[0m \u001b[1;33m\u001b[0m\u001b[0m\n\u001b[0;32m   1107\u001b[0m     \u001b[1;32mdef\u001b[0m \u001b[0magg\u001b[0m\u001b[1;33m(\u001b[0m\u001b[0mself\u001b[0m\u001b[1;33m)\u001b[0m\u001b[1;33m:\u001b[0m\u001b[1;33m\u001b[0m\u001b[1;33m\u001b[0m\u001b[0m\n",
      "\u001b[1;32md:\\SOFTWARE\\Anaconda3\\envs\\AI_in_robotics\\lib\\site-packages\\pandas\\core\\apply.py\u001b[0m in \u001b[0;36mapply_standard\u001b[1;34m(self)\u001b[0m\n\u001b[0;32m   1154\u001b[0m             \u001b[1;32melse\u001b[0m\u001b[1;33m:\u001b[0m\u001b[1;33m\u001b[0m\u001b[1;33m\u001b[0m\u001b[0m\n\u001b[0;32m   1155\u001b[0m                 \u001b[0mvalues\u001b[0m \u001b[1;33m=\u001b[0m \u001b[0mobj\u001b[0m\u001b[1;33m.\u001b[0m\u001b[0mastype\u001b[0m\u001b[1;33m(\u001b[0m\u001b[0mobject\u001b[0m\u001b[1;33m)\u001b[0m\u001b[1;33m.\u001b[0m\u001b[0m_values\u001b[0m\u001b[1;33m\u001b[0m\u001b[1;33m\u001b[0m\u001b[0m\n\u001b[1;32m-> 1156\u001b[1;33m                 mapped = lib.map_infer(\n\u001b[0m\u001b[0;32m   1157\u001b[0m                     \u001b[0mvalues\u001b[0m\u001b[1;33m,\u001b[0m\u001b[1;33m\u001b[0m\u001b[1;33m\u001b[0m\u001b[0m\n\u001b[0;32m   1158\u001b[0m                     \u001b[0mf\u001b[0m\u001b[1;33m,\u001b[0m\u001b[1;33m\u001b[0m\u001b[1;33m\u001b[0m\u001b[0m\n",
      "\u001b[1;32md:\\SOFTWARE\\Anaconda3\\envs\\AI_in_robotics\\lib\\site-packages\\pandas\\_libs\\lib.pyx\u001b[0m in \u001b[0;36mpandas._libs.lib.map_infer\u001b[1;34m()\u001b[0m\n",
      "\u001b[1;32md:\\SOFTWARE\\Anaconda3\\envs\\AI_in_robotics\\lib\\site-packages\\pandas\\core\\apply.py\u001b[0m in \u001b[0;36mf\u001b[1;34m(x)\u001b[0m\n\u001b[0;32m    137\u001b[0m \u001b[1;33m\u001b[0m\u001b[0m\n\u001b[0;32m    138\u001b[0m             \u001b[1;32mdef\u001b[0m \u001b[0mf\u001b[0m\u001b[1;33m(\u001b[0m\u001b[0mx\u001b[0m\u001b[1;33m)\u001b[0m\u001b[1;33m:\u001b[0m\u001b[1;33m\u001b[0m\u001b[1;33m\u001b[0m\u001b[0m\n\u001b[1;32m--> 139\u001b[1;33m                 \u001b[1;32mreturn\u001b[0m \u001b[0mfunc\u001b[0m\u001b[1;33m(\u001b[0m\u001b[0mx\u001b[0m\u001b[1;33m,\u001b[0m \u001b[1;33m*\u001b[0m\u001b[0margs\u001b[0m\u001b[1;33m,\u001b[0m \u001b[1;33m**\u001b[0m\u001b[0mkwargs\u001b[0m\u001b[1;33m)\u001b[0m\u001b[1;33m\u001b[0m\u001b[1;33m\u001b[0m\u001b[0m\n\u001b[0m\u001b[0;32m    140\u001b[0m \u001b[1;33m\u001b[0m\u001b[0m\n\u001b[0;32m    141\u001b[0m         \u001b[1;32melse\u001b[0m\u001b[1;33m:\u001b[0m\u001b[1;33m\u001b[0m\u001b[1;33m\u001b[0m\u001b[0m\n",
      "\u001b[1;31mTypeError\u001b[0m: <lambda>() got an unexpected keyword argument 'axis'"
     ]
    }
   ],
   "source": [
    "df['data1'] = data['content'].apply(\n",
    "    lambda x: '.'.join(x.dropna().astype(str)),\n",
    "    axis=1\n",
    ")"
   ]
  },
  {
   "cell_type": "code",
   "execution_count": 74,
   "id": "9278b250",
   "metadata": {},
   "outputs": [],
   "source": [
    "#append data['content'] to df['content']\n",
    "for i in data.index:\n",
    "    df['content'][0]=df['content'][0]+'. '+data['content'].loc[i]\n",
    "    "
   ]
  },
  {
   "cell_type": "code",
   "execution_count": 90,
   "id": "82b86768",
   "metadata": {},
   "outputs": [],
   "source": [
    "#only for string.json\n",
    "for i in data2.index:\n",
    "    df['content'][0]=data['content'][0]+'. '+data2['content'].loc[i]"
   ]
  },
  {
   "cell_type": "code",
   "execution_count": 91,
   "id": "1675a6dd",
   "metadata": {},
   "outputs": [
    {
     "data": {
      "text/plain": [
       "\"The constants defined in this module are:. This section contains examples of the str.format() syntax and comparison with the old %-formatting. In most of the cases the syntax is similar to the old %-formatting, with the addition of the {} and with : used instead of %. For example, '%03.2f' can be translated to '{:03.2f}'. The new format syntax also supports new and different options, shown in the following examples. Accessing arguments by position: Accessing arguments by name: Accessing arguments attributes: Accessing arguments items: Replacing %s and %r: Aligning the text and specifying a width: Replacing %+f, %-f, and % f and specifying a sign: Replacing %x and %o and converting the value to different bases: Using the comma as a thousands separator: Expressing a percentage: Using type-specific formatting: Nesting arguments and more complex examples:\""
      ]
     },
     "execution_count": 91,
     "metadata": {},
     "output_type": "execute_result"
    }
   ],
   "source": [
    "df['content'][0]"
   ]
  },
  {
   "cell_type": "code",
   "execution_count": 28,
   "id": "3be59691",
   "metadata": {},
   "outputs": [
    {
     "ename": "TypeError",
     "evalue": "can only concatenate list (not \"str\") to list",
     "output_type": "error",
     "traceback": [
      "\u001b[1;31m---------------------------------------------------------------------------\u001b[0m",
      "\u001b[1;31mTypeError\u001b[0m                                 Traceback (most recent call last)",
      "\u001b[1;32m~\\AppData\\Local\\Temp\\ipykernel_11384\\2475904177.py\u001b[0m in \u001b[0;36m<module>\u001b[1;34m\u001b[0m\n\u001b[0;32m      1\u001b[0m \u001b[1;32mfor\u001b[0m \u001b[0mi\u001b[0m \u001b[1;32min\u001b[0m \u001b[0mdata\u001b[0m\u001b[1;33m.\u001b[0m\u001b[0mindex\u001b[0m\u001b[1;33m:\u001b[0m\u001b[1;33m\u001b[0m\u001b[1;33m\u001b[0m\u001b[0m\n\u001b[1;32m----> 2\u001b[1;33m     \u001b[0mdf\u001b[0m\u001b[1;33m[\u001b[0m\u001b[1;34m'content'\u001b[0m\u001b[1;33m]\u001b[0m\u001b[1;33m=\u001b[0m\u001b[0mdf\u001b[0m\u001b[1;33m[\u001b[0m\u001b[1;34m'content'\u001b[0m\u001b[1;33m]\u001b[0m\u001b[1;33m[\u001b[0m\u001b[1;36m0\u001b[0m\u001b[1;33m]\u001b[0m\u001b[1;33m+\u001b[0m\u001b[1;34m'. '\u001b[0m\u001b[1;33m+\u001b[0m\u001b[0mdata\u001b[0m\u001b[1;33m[\u001b[0m\u001b[1;34m'content'\u001b[0m\u001b[1;33m]\u001b[0m\u001b[1;33m.\u001b[0m\u001b[0mloc\u001b[0m\u001b[1;33m[\u001b[0m\u001b[0mi\u001b[0m\u001b[1;33m]\u001b[0m\u001b[1;33m\u001b[0m\u001b[1;33m\u001b[0m\u001b[0m\n\u001b[0m",
      "\u001b[1;31mTypeError\u001b[0m: can only concatenate list (not \"str\") to list"
     ]
    }
   ],
   "source": [
    "for i in data.index:\n",
    "    df['content']=df['content'][0]+'. '+data['content'].loc[i]"
   ]
  },
  {
   "cell_type": "code",
   "execution_count": 49,
   "id": "4e15d470",
   "metadata": {},
   "outputs": [],
   "source": [
    "#split the df[content] into sentences\n",
    "df['content'][0]=df['content'][0].split('.')"
   ]
  },
  {
   "cell_type": "code",
   "execution_count": 50,
   "id": "fc61bdc2",
   "metadata": {},
   "outputs": [
    {
     "data": {
      "text/plain": [
       "['The constants defined in this module are:',\n",
       " ' This section contains examples of the str',\n",
       " 'format() syntax and comparison with the old %-formatting',\n",
       " ' In most of the cases the syntax is similar to the old %-formatting, with the addition of the {} and with : used instead of %',\n",
       " \" For example, '%03\",\n",
       " \"2f' can be translated to '{:03\",\n",
       " \"2f}'\",\n",
       " ' The new format syntax also supports new and different options, shown in the following examples',\n",
       " ' Accessing arguments by position: Accessing arguments by name: Accessing arguments attributes: Accessing arguments items: Replacing %s and %r: Aligning the text and specifying a width: Replacing %+f, %-f, and % f and specifying a sign: Replacing %x and %o and converting the value to different bases: Using the comma as a thousands separator: Expressing a percentage: Using type-specific formatting: Nesting arguments and more complex examples:']"
      ]
     },
     "execution_count": 50,
     "metadata": {},
     "output_type": "execute_result"
    }
   ],
   "source": [
    "df['content'][0]"
   ]
  },
  {
   "cell_type": "code",
   "execution_count": 51,
   "id": "f9375d58",
   "metadata": {},
   "outputs": [],
   "source": [
    "#make a new df with the sentences\n",
    "df2=pd.DataFrame(df['content'][0],columns=['content'])"
   ]
  },
  {
   "cell_type": "code",
   "execution_count": 52,
   "id": "7ef27ecd",
   "metadata": {},
   "outputs": [],
   "source": [
    "df2['topic']=df['Topic'][0]"
   ]
  },
  {
   "cell_type": "code",
   "execution_count": 53,
   "id": "21e281a5",
   "metadata": {},
   "outputs": [
    {
     "data": {
      "text/plain": [
       "9"
      ]
     },
     "execution_count": 53,
     "metadata": {},
     "output_type": "execute_result"
    }
   ],
   "source": [
    "len(df2.dropna())"
   ]
  },
  {
   "cell_type": "code",
   "execution_count": 54,
   "id": "45e4e7b3",
   "metadata": {},
   "outputs": [
    {
     "data": {
      "text/html": [
       "<div>\n",
       "<style scoped>\n",
       "    .dataframe tbody tr th:only-of-type {\n",
       "        vertical-align: middle;\n",
       "    }\n",
       "\n",
       "    .dataframe tbody tr th {\n",
       "        vertical-align: top;\n",
       "    }\n",
       "\n",
       "    .dataframe thead th {\n",
       "        text-align: right;\n",
       "    }\n",
       "</style>\n",
       "<table border=\"1\" class=\"dataframe\">\n",
       "  <thead>\n",
       "    <tr style=\"text-align: right;\">\n",
       "      <th></th>\n",
       "      <th>content</th>\n",
       "      <th>topic</th>\n",
       "    </tr>\n",
       "  </thead>\n",
       "  <tbody>\n",
       "    <tr>\n",
       "      <th>0</th>\n",
       "      <td>The constants defined in this module are:</td>\n",
       "      <td>String</td>\n",
       "    </tr>\n",
       "    <tr>\n",
       "      <th>1</th>\n",
       "      <td>This section contains examples of the str</td>\n",
       "      <td>String</td>\n",
       "    </tr>\n",
       "    <tr>\n",
       "      <th>2</th>\n",
       "      <td>format() syntax and comparison with the old %-...</td>\n",
       "      <td>String</td>\n",
       "    </tr>\n",
       "    <tr>\n",
       "      <th>3</th>\n",
       "      <td>In most of the cases the syntax is similar to...</td>\n",
       "      <td>String</td>\n",
       "    </tr>\n",
       "    <tr>\n",
       "      <th>4</th>\n",
       "      <td>For example, '%03</td>\n",
       "      <td>String</td>\n",
       "    </tr>\n",
       "    <tr>\n",
       "      <th>5</th>\n",
       "      <td>2f' can be translated to '{:03</td>\n",
       "      <td>String</td>\n",
       "    </tr>\n",
       "    <tr>\n",
       "      <th>6</th>\n",
       "      <td>2f}'</td>\n",
       "      <td>String</td>\n",
       "    </tr>\n",
       "    <tr>\n",
       "      <th>7</th>\n",
       "      <td>The new format syntax also supports new and d...</td>\n",
       "      <td>String</td>\n",
       "    </tr>\n",
       "    <tr>\n",
       "      <th>8</th>\n",
       "      <td>Accessing arguments by position: Accessing ar...</td>\n",
       "      <td>String</td>\n",
       "    </tr>\n",
       "  </tbody>\n",
       "</table>\n",
       "</div>"
      ],
      "text/plain": [
       "                                             content   topic\n",
       "0          The constants defined in this module are:  String\n",
       "1          This section contains examples of the str  String\n",
       "2  format() syntax and comparison with the old %-...  String\n",
       "3   In most of the cases the syntax is similar to...  String\n",
       "4                                  For example, '%03  String\n",
       "5                     2f' can be translated to '{:03  String\n",
       "6                                               2f}'  String\n",
       "7   The new format syntax also supports new and d...  String\n",
       "8   Accessing arguments by position: Accessing ar...  String"
      ]
     },
     "execution_count": 54,
     "metadata": {},
     "output_type": "execute_result"
    }
   ],
   "source": [
    "df2"
   ]
  },
  {
   "cell_type": "code",
   "execution_count": 14,
   "id": "7b9fa87b",
   "metadata": {},
   "outputs": [
    {
     "data": {
      "text/html": [
       "<div>\n",
       "<style scoped>\n",
       "    .dataframe tbody tr th:only-of-type {\n",
       "        vertical-align: middle;\n",
       "    }\n",
       "\n",
       "    .dataframe tbody tr th {\n",
       "        vertical-align: top;\n",
       "    }\n",
       "\n",
       "    .dataframe thead th {\n",
       "        text-align: right;\n",
       "    }\n",
       "</style>\n",
       "<table border=\"1\" class=\"dataframe\">\n",
       "  <thead>\n",
       "    <tr style=\"text-align: right;\">\n",
       "      <th></th>\n",
       "      <th>content</th>\n",
       "      <th>topic</th>\n",
       "    </tr>\n",
       "  </thead>\n",
       "  <tbody>\n",
       "    <tr>\n",
       "      <th>0</th>\n",
       "      <td>In Python, all exceptions must be instances of...</td>\n",
       "      <td>Built-in Exceptions</td>\n",
       "    </tr>\n",
       "    <tr>\n",
       "      <th>1</th>\n",
       "      <td>In a try statement with an except clause tha...</td>\n",
       "      <td>Built-in Exceptions</td>\n",
       "    </tr>\n",
       "    <tr>\n",
       "      <th>2</th>\n",
       "      <td>Two exception classes that are not related v...</td>\n",
       "      <td>Built-in Exceptions</td>\n",
       "    </tr>\n",
       "    <tr>\n",
       "      <th>3</th>\n",
       "      <td>The built-in exceptions listed below can be g...</td>\n",
       "      <td>Built-in Exceptions</td>\n",
       "    </tr>\n",
       "    <tr>\n",
       "      <th>4</th>\n",
       "      <td>Except where mentioned, they have an “associ...</td>\n",
       "      <td>Built-in Exceptions</td>\n",
       "    </tr>\n",
       "    <tr>\n",
       "      <th>5</th>\n",
       "      <td>This may be a string or a tuple of several i...</td>\n",
       "      <td>Built-in Exceptions</td>\n",
       "    </tr>\n",
       "    <tr>\n",
       "      <th>6</th>\n",
       "      <td>g</td>\n",
       "      <td>Built-in Exceptions</td>\n",
       "    </tr>\n",
       "    <tr>\n",
       "      <th>7</th>\n",
       "      <td>, an error code and a string explaining the code)</td>\n",
       "      <td>Built-in Exceptions</td>\n",
       "    </tr>\n",
       "    <tr>\n",
       "      <th>8</th>\n",
       "      <td>The associated value is usually passed as ar...</td>\n",
       "      <td>Built-in Exceptions</td>\n",
       "    </tr>\n",
       "    <tr>\n",
       "      <th>9</th>\n",
       "      <td>User code can raise built-in exceptions</td>\n",
       "      <td>Built-in Exceptions</td>\n",
       "    </tr>\n",
       "    <tr>\n",
       "      <th>10</th>\n",
       "      <td>This can be used to test an exception handle...</td>\n",
       "      <td>Built-in Exceptions</td>\n",
       "    </tr>\n",
       "    <tr>\n",
       "      <th>11</th>\n",
       "      <td>The built-in exception classes can be subclas...</td>\n",
       "      <td>Built-in Exceptions</td>\n",
       "    </tr>\n",
       "    <tr>\n",
       "      <th>12</th>\n",
       "      <td>More information on defining exceptions is a...</td>\n",
       "      <td>Built-in Exceptions</td>\n",
       "    </tr>\n",
       "    <tr>\n",
       "      <th>13</th>\n",
       "      <td></td>\n",
       "      <td>Built-in Exceptions</td>\n",
       "    </tr>\n",
       "    <tr>\n",
       "      <th>14</th>\n",
       "      <td>When raising a new exception while another ex...</td>\n",
       "      <td>Built-in Exceptions</td>\n",
       "    </tr>\n",
       "    <tr>\n",
       "      <th>15</th>\n",
       "      <td>An exception may be handled when an except o...</td>\n",
       "      <td>Built-in Exceptions</td>\n",
       "    </tr>\n",
       "    <tr>\n",
       "      <th>16</th>\n",
       "      <td>This implicit exception context can be supple...</td>\n",
       "      <td>Built-in Exceptions</td>\n",
       "    </tr>\n",
       "    <tr>\n",
       "      <th>17</th>\n",
       "      <td>It will be set as __cause__ on the raised exc...</td>\n",
       "      <td>Built-in Exceptions</td>\n",
       "    </tr>\n",
       "    <tr>\n",
       "      <th>18</th>\n",
       "      <td>Setting __cause__ also implicitly sets the __...</td>\n",
       "      <td>Built-in Exceptions</td>\n",
       "    </tr>\n",
       "    <tr>\n",
       "      <th>19</th>\n",
       "      <td>g</td>\n",
       "      <td>Built-in Exceptions</td>\n",
       "    </tr>\n",
       "    <tr>\n",
       "      <th>20</th>\n",
       "      <td>converting KeyError to AttributeError), while...</td>\n",
       "      <td>Built-in Exceptions</td>\n",
       "    </tr>\n",
       "    <tr>\n",
       "      <th>21</th>\n",
       "      <td>The default traceback display code shows thes...</td>\n",
       "      <td>Built-in Exceptions</td>\n",
       "    </tr>\n",
       "    <tr>\n",
       "      <th>22</th>\n",
       "      <td>An explicitly chained exception in __cause__ ...</td>\n",
       "      <td>Built-in Exceptions</td>\n",
       "    </tr>\n",
       "    <tr>\n",
       "      <th>23</th>\n",
       "      <td>An implicitly chained exception in __context_...</td>\n",
       "      <td>Built-in Exceptions</td>\n",
       "    </tr>\n",
       "    <tr>\n",
       "      <th>24</th>\n",
       "      <td>In either case, the exception itself is alway...</td>\n",
       "      <td>Built-in Exceptions</td>\n",
       "    </tr>\n",
       "    <tr>\n",
       "      <th>25</th>\n",
       "      <td></td>\n",
       "      <td>Built-in Exceptions</td>\n",
       "    </tr>\n",
       "    <tr>\n",
       "      <th>26</th>\n",
       "      <td>User code can create subclasses that inherit ...</td>\n",
       "      <td>Built-in Exceptions</td>\n",
       "    </tr>\n",
       "    <tr>\n",
       "      <th>27</th>\n",
       "      <td>It’s recommended to only subclass one excepti...</td>\n",
       "      <td>Built-in Exceptions</td>\n",
       "    </tr>\n",
       "    <tr>\n",
       "      <th>28</th>\n",
       "      <td></td>\n",
       "      <td>Built-in Exceptions</td>\n",
       "    </tr>\n",
       "    <tr>\n",
       "      <th>29</th>\n",
       "      <td>The following exceptions are used mostly as b...</td>\n",
       "      <td>Built-in Exceptions</td>\n",
       "    </tr>\n",
       "    <tr>\n",
       "      <th>30</th>\n",
       "      <td></td>\n",
       "      <td>Built-in Exceptions</td>\n",
       "    </tr>\n",
       "    <tr>\n",
       "      <th>31</th>\n",
       "      <td>The following exceptions are the exceptions t...</td>\n",
       "      <td>Built-in Exceptions</td>\n",
       "    </tr>\n",
       "    <tr>\n",
       "      <th>32</th>\n",
       "      <td>The following exceptions are kept for compati...</td>\n",
       "      <td>Built-in Exceptions</td>\n",
       "    </tr>\n",
       "    <tr>\n",
       "      <th>33</th>\n",
       "      <td>3, they are aliases of OSError</td>\n",
       "      <td>Built-in Exceptions</td>\n",
       "    </tr>\n",
       "    <tr>\n",
       "      <th>34</th>\n",
       "      <td></td>\n",
       "      <td>Built-in Exceptions</td>\n",
       "    </tr>\n",
       "    <tr>\n",
       "      <th>35</th>\n",
       "      <td>The following exceptions are used as warning ...</td>\n",
       "      <td>Built-in Exceptions</td>\n",
       "    </tr>\n",
       "    <tr>\n",
       "      <th>36</th>\n",
       "      <td></td>\n",
       "      <td>Built-in Exceptions</td>\n",
       "    </tr>\n",
       "    <tr>\n",
       "      <th>37</th>\n",
       "      <td>The following are used when it is necessary t...</td>\n",
       "      <td>Built-in Exceptions</td>\n",
       "    </tr>\n",
       "    <tr>\n",
       "      <th>38</th>\n",
       "      <td>They are part of the exception hierarchy so t...</td>\n",
       "      <td>Built-in Exceptions</td>\n",
       "    </tr>\n",
       "    <tr>\n",
       "      <th>39</th>\n",
       "      <td>In addition, they are recognised by except*, ...</td>\n",
       "      <td>Built-in Exceptions</td>\n",
       "    </tr>\n",
       "    <tr>\n",
       "      <th>40</th>\n",
       "      <td></td>\n",
       "      <td>Built-in Exceptions</td>\n",
       "    </tr>\n",
       "    <tr>\n",
       "      <th>41</th>\n",
       "      <td>The class hierarchy for built-in exceptions is:</td>\n",
       "      <td>Built-in Exceptions</td>\n",
       "    </tr>\n",
       "  </tbody>\n",
       "</table>\n",
       "</div>"
      ],
      "text/plain": [
       "                                              content                topic\n",
       "0   In Python, all exceptions must be instances of...  Built-in Exceptions\n",
       "1     In a try statement with an except clause tha...  Built-in Exceptions\n",
       "2     Two exception classes that are not related v...  Built-in Exceptions\n",
       "3    The built-in exceptions listed below can be g...  Built-in Exceptions\n",
       "4     Except where mentioned, they have an “associ...  Built-in Exceptions\n",
       "5     This may be a string or a tuple of several i...  Built-in Exceptions\n",
       "6                                                   g  Built-in Exceptions\n",
       "7   , an error code and a string explaining the code)  Built-in Exceptions\n",
       "8     The associated value is usually passed as ar...  Built-in Exceptions\n",
       "9             User code can raise built-in exceptions  Built-in Exceptions\n",
       "10    This can be used to test an exception handle...  Built-in Exceptions\n",
       "11   The built-in exception classes can be subclas...  Built-in Exceptions\n",
       "12    More information on defining exceptions is a...  Built-in Exceptions\n",
       "13                                                     Built-in Exceptions\n",
       "14   When raising a new exception while another ex...  Built-in Exceptions\n",
       "15    An exception may be handled when an except o...  Built-in Exceptions\n",
       "16   This implicit exception context can be supple...  Built-in Exceptions\n",
       "17   It will be set as __cause__ on the raised exc...  Built-in Exceptions\n",
       "18   Setting __cause__ also implicitly sets the __...  Built-in Exceptions\n",
       "19                                                  g  Built-in Exceptions\n",
       "20   converting KeyError to AttributeError), while...  Built-in Exceptions\n",
       "21   The default traceback display code shows thes...  Built-in Exceptions\n",
       "22   An explicitly chained exception in __cause__ ...  Built-in Exceptions\n",
       "23   An implicitly chained exception in __context_...  Built-in Exceptions\n",
       "24   In either case, the exception itself is alway...  Built-in Exceptions\n",
       "25                                                     Built-in Exceptions\n",
       "26   User code can create subclasses that inherit ...  Built-in Exceptions\n",
       "27   It’s recommended to only subclass one excepti...  Built-in Exceptions\n",
       "28                                                     Built-in Exceptions\n",
       "29   The following exceptions are used mostly as b...  Built-in Exceptions\n",
       "30                                                     Built-in Exceptions\n",
       "31   The following exceptions are the exceptions t...  Built-in Exceptions\n",
       "32   The following exceptions are kept for compati...  Built-in Exceptions\n",
       "33                     3, they are aliases of OSError  Built-in Exceptions\n",
       "34                                                     Built-in Exceptions\n",
       "35   The following exceptions are used as warning ...  Built-in Exceptions\n",
       "36                                                     Built-in Exceptions\n",
       "37   The following are used when it is necessary t...  Built-in Exceptions\n",
       "38   They are part of the exception hierarchy so t...  Built-in Exceptions\n",
       "39   In addition, they are recognised by except*, ...  Built-in Exceptions\n",
       "40                                                     Built-in Exceptions\n",
       "41    The class hierarchy for built-in exceptions is:  Built-in Exceptions"
      ]
     },
     "execution_count": 14,
     "metadata": {},
     "output_type": "execute_result"
    }
   ],
   "source": [
    "df2"
   ]
  },
  {
   "cell_type": "code",
   "execution_count": 41,
   "id": "2d92d362",
   "metadata": {},
   "outputs": [],
   "source": [
    "df2.to_csv('D:/FILES/University of Toronto/Subjects/Fall 2022/NLP/project/PyOverflow/Data/Training/built-in-exceptions.csv')"
   ]
  },
  {
   "cell_type": "code",
   "execution_count": null,
   "id": "f3c88e72",
   "metadata": {},
   "outputs": [],
   "source": []
  }
 ],
 "metadata": {
  "kernelspec": {
   "display_name": "Python 3.9.15 ('base')",
   "language": "python",
   "name": "python3"
  },
  "language_info": {
   "codemirror_mode": {
    "name": "ipython",
    "version": 3
   },
   "file_extension": ".py",
   "mimetype": "text/x-python",
   "name": "python",
   "nbconvert_exporter": "python",
   "pygments_lexer": "ipython3",
   "version": "3.9.15"
  },
  "vscode": {
   "interpreter": {
    "hash": "9ddec1cb4ab201c8f982a68210a453560008edb8e1a694c1ed09074d4f6b41d2"
   }
  }
 },
 "nbformat": 4,
 "nbformat_minor": 5
}
