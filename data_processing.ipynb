{
 "cells": [
  {
   "cell_type": "code",
   "execution_count": 1,
   "id": "43ca2901",
   "metadata": {},
   "outputs": [],
   "source": [
    "import numpy as np\n",
    "import pandas as pd\n",
    "import json"
   ]
  },
  {
   "cell_type": "code",
   "execution_count": 50,
   "id": "c3cb45da",
   "metadata": {},
   "outputs": [],
   "source": [
    "path='D:/FILES/University of Toronto/Subjects/Fall 2022/NLP/project/PyOverflow/Data/Training/JSON/regex.json'\n",
    "df=pd.read_json(path_or_buf=path)"
   ]
  },
  {
   "cell_type": "code",
   "execution_count": 51,
   "id": "44f26700",
   "metadata": {},
   "outputs": [
    {
     "data": {
      "text/html": [
       "<div>\n",
       "<style scoped>\n",
       "    .dataframe tbody tr th:only-of-type {\n",
       "        vertical-align: middle;\n",
       "    }\n",
       "\n",
       "    .dataframe tbody tr th {\n",
       "        vertical-align: top;\n",
       "    }\n",
       "\n",
       "    .dataframe thead th {\n",
       "        text-align: right;\n",
       "    }\n",
       "</style>\n",
       "<table border=\"1\" class=\"dataframe\">\n",
       "  <thead>\n",
       "    <tr style=\"text-align: right;\">\n",
       "      <th></th>\n",
       "      <th>Topic</th>\n",
       "      <th>content</th>\n",
       "      <th>class</th>\n",
       "      <th>functions</th>\n",
       "      <th>code_demo</th>\n",
       "      <th>Subtopics</th>\n",
       "    </tr>\n",
       "  </thead>\n",
       "  <tbody>\n",
       "    <tr>\n",
       "      <th>0</th>\n",
       "      <td>re Regular expression operations</td>\n",
       "      <td>[]</td>\n",
       "      <td>[]</td>\n",
       "      <td>[]</td>\n",
       "      <td>[]</td>\n",
       "      <td>[{'Topic': 'Regular Expression Syntax', 'conte...</td>\n",
       "    </tr>\n",
       "  </tbody>\n",
       "</table>\n",
       "</div>"
      ],
      "text/plain": [
       "                              Topic content class functions code_demo  \\\n",
       "0  re Regular expression operations      []    []        []        []   \n",
       "\n",
       "                                           Subtopics  \n",
       "0  [{'Topic': 'Regular Expression Syntax', 'conte...  "
      ]
     },
     "execution_count": 51,
     "metadata": {},
     "output_type": "execute_result"
    }
   ],
   "source": [
    "df"
   ]
  },
  {
   "cell_type": "code",
   "execution_count": 109,
   "id": "d921e913",
   "metadata": {},
   "outputs": [],
   "source": [
    "data=pd.DataFrame(df['Subtopics'].loc[0])\n",
    "#pd.DataFrame(data.loc[2]['Subtopics'])['content'][0]"
   ]
  },
  {
   "cell_type": "code",
   "execution_count": 110,
   "id": "27424d68",
   "metadata": {},
   "outputs": [
    {
     "data": {
      "text/html": [
       "<div>\n",
       "<style scoped>\n",
       "    .dataframe tbody tr th:only-of-type {\n",
       "        vertical-align: middle;\n",
       "    }\n",
       "\n",
       "    .dataframe tbody tr th {\n",
       "        vertical-align: top;\n",
       "    }\n",
       "\n",
       "    .dataframe thead th {\n",
       "        text-align: right;\n",
       "    }\n",
       "</style>\n",
       "<table border=\"1\" class=\"dataframe\">\n",
       "  <thead>\n",
       "    <tr style=\"text-align: right;\">\n",
       "      <th></th>\n",
       "      <th>Topic</th>\n",
       "      <th>content</th>\n",
       "      <th>class</th>\n",
       "      <th>functions</th>\n",
       "      <th>code_demo</th>\n",
       "      <th>Subtopics</th>\n",
       "    </tr>\n",
       "  </thead>\n",
       "  <tbody>\n",
       "    <tr>\n",
       "      <th>0</th>\n",
       "      <td>Regular Expression Syntax</td>\n",
       "      <td>[A regular expression (or RE) specifies a set ...</td>\n",
       "      <td>[]</td>\n",
       "      <td>[{'name': '.', 'content': ['(Dot.)  In the def...</td>\n",
       "      <td>[\\a      \\b      \\f      \\n\\n\\N      \\r      \\...</td>\n",
       "      <td>[]</td>\n",
       "    </tr>\n",
       "    <tr>\n",
       "      <th>1</th>\n",
       "      <td>Module Contents</td>\n",
       "      <td>[The module defines several functions, constan...</td>\n",
       "      <td>[]</td>\n",
       "      <td>[]</td>\n",
       "      <td>[]</td>\n",
       "      <td>[{'Topic': 'Flags', 'content': [], 'class': [{...</td>\n",
       "    </tr>\n",
       "    <tr>\n",
       "      <th>2</th>\n",
       "      <td>Regular Expression Objects</td>\n",
       "      <td>[Compiled regular expression objects support t...</td>\n",
       "      <td>[]</td>\n",
       "      <td>[{'name': '\n",
       "Pattern.search(string[, pos[, endp...</td>\n",
       "      <td>[\\nChanged in version 3.7: Added support of co...</td>\n",
       "      <td>[]</td>\n",
       "    </tr>\n",
       "    <tr>\n",
       "      <th>3</th>\n",
       "      <td>Match Objects</td>\n",
       "      <td>[Match objects always have a boolean value of ...</td>\n",
       "      <td>[]</td>\n",
       "      <td>[{'name': '\n",
       "Match.expand(template)', 'content'...</td>\n",
       "      <td>[match = re.search(pattern, string)\\nif match:...</td>\n",
       "      <td>[]</td>\n",
       "    </tr>\n",
       "    <tr>\n",
       "      <th>4</th>\n",
       "      <td>Regular Expression Examples</td>\n",
       "      <td>[]</td>\n",
       "      <td>[]</td>\n",
       "      <td>[]</td>\n",
       "      <td>[]</td>\n",
       "      <td>[{'Topic': 'Checking for a Pair', 'content': [...</td>\n",
       "    </tr>\n",
       "  </tbody>\n",
       "</table>\n",
       "</div>"
      ],
      "text/plain": [
       "                         Topic  \\\n",
       "0    Regular Expression Syntax   \n",
       "1              Module Contents   \n",
       "2   Regular Expression Objects   \n",
       "3                Match Objects   \n",
       "4  Regular Expression Examples   \n",
       "\n",
       "                                             content class  \\\n",
       "0  [A regular expression (or RE) specifies a set ...    []   \n",
       "1  [The module defines several functions, constan...    []   \n",
       "2  [Compiled regular expression objects support t...    []   \n",
       "3  [Match objects always have a boolean value of ...    []   \n",
       "4                                                 []    []   \n",
       "\n",
       "                                           functions  \\\n",
       "0  [{'name': '.', 'content': ['(Dot.)  In the def...   \n",
       "1                                                 []   \n",
       "2  [{'name': '\n",
       "Pattern.search(string[, pos[, endp...   \n",
       "3  [{'name': '\n",
       "Match.expand(template)', 'content'...   \n",
       "4                                                 []   \n",
       "\n",
       "                                           code_demo  \\\n",
       "0  [\\a      \\b      \\f      \\n\\n\\N      \\r      \\...   \n",
       "1                                                 []   \n",
       "2  [\\nChanged in version 3.7: Added support of co...   \n",
       "3  [match = re.search(pattern, string)\\nif match:...   \n",
       "4                                                 []   \n",
       "\n",
       "                                           Subtopics  \n",
       "0                                                 []  \n",
       "1  [{'Topic': 'Flags', 'content': [], 'class': [{...  \n",
       "2                                                 []  \n",
       "3                                                 []  \n",
       "4  [{'Topic': 'Checking for a Pair', 'content': [...  "
      ]
     },
     "execution_count": 110,
     "metadata": {},
     "output_type": "execute_result"
    }
   ],
   "source": [
    "data"
   ]
  },
  {
   "cell_type": "code",
   "execution_count": 52,
   "id": "b9f1a49e",
   "metadata": {},
   "outputs": [],
   "source": [
    "# remove empty lists from subtopics location 0\n",
    "#df['Subtopics'].loc[0]=list(filter(None, df['Subtopics'].loc[0]))\n",
    "data=pd.DataFrame(df['Subtopics'].loc[0])\n",
    "data=data[['Topic','content']]"
   ]
  },
  {
   "cell_type": "code",
   "execution_count": 53,
   "id": "beeafb05",
   "metadata": {},
   "outputs": [
    {
     "data": {
      "text/html": [
       "<div>\n",
       "<style scoped>\n",
       "    .dataframe tbody tr th:only-of-type {\n",
       "        vertical-align: middle;\n",
       "    }\n",
       "\n",
       "    .dataframe tbody tr th {\n",
       "        vertical-align: top;\n",
       "    }\n",
       "\n",
       "    .dataframe thead th {\n",
       "        text-align: right;\n",
       "    }\n",
       "</style>\n",
       "<table border=\"1\" class=\"dataframe\">\n",
       "  <thead>\n",
       "    <tr style=\"text-align: right;\">\n",
       "      <th></th>\n",
       "      <th>Topic</th>\n",
       "      <th>content</th>\n",
       "    </tr>\n",
       "  </thead>\n",
       "  <tbody>\n",
       "    <tr>\n",
       "      <th>0</th>\n",
       "      <td>Regular Expression Syntax</td>\n",
       "      <td>[A regular expression (or RE) specifies a set ...</td>\n",
       "    </tr>\n",
       "    <tr>\n",
       "      <th>1</th>\n",
       "      <td>Module Contents</td>\n",
       "      <td>[The module defines several functions, constan...</td>\n",
       "    </tr>\n",
       "    <tr>\n",
       "      <th>2</th>\n",
       "      <td>Regular Expression Objects</td>\n",
       "      <td>[Compiled regular expression objects support t...</td>\n",
       "    </tr>\n",
       "    <tr>\n",
       "      <th>3</th>\n",
       "      <td>Match Objects</td>\n",
       "      <td>[Match objects always have a boolean value of ...</td>\n",
       "    </tr>\n",
       "    <tr>\n",
       "      <th>4</th>\n",
       "      <td>Regular Expression Examples</td>\n",
       "      <td>[]</td>\n",
       "    </tr>\n",
       "  </tbody>\n",
       "</table>\n",
       "</div>"
      ],
      "text/plain": [
       "                         Topic  \\\n",
       "0    Regular Expression Syntax   \n",
       "1              Module Contents   \n",
       "2   Regular Expression Objects   \n",
       "3                Match Objects   \n",
       "4  Regular Expression Examples   \n",
       "\n",
       "                                             content  \n",
       "0  [A regular expression (or RE) specifies a set ...  \n",
       "1  [The module defines several functions, constan...  \n",
       "2  [Compiled regular expression objects support t...  \n",
       "3  [Match objects always have a boolean value of ...  \n",
       "4                                                 []  "
      ]
     },
     "execution_count": 53,
     "metadata": {},
     "output_type": "execute_result"
    }
   ],
   "source": [
    "data"
   ]
  },
  {
   "cell_type": "code",
   "execution_count": 54,
   "id": "a01fbca4",
   "metadata": {},
   "outputs": [],
   "source": [
    "for i in data.index:\n",
    "    data['content'].loc[i]=' '.join(data['content'].loc[i])\n",
    "    data['content'].loc[i]=data['content'].loc[i].replace('\\\\u',' ')\n",
    "    data['content'].loc[i]=data['content'].loc[i].replace('\\n',' ')\n",
    "    "
   ]
  },
  {
   "cell_type": "code",
   "execution_count": 58,
   "id": "088b680c",
   "metadata": {},
   "outputs": [
    {
     "data": {
      "text/plain": [
       "'Match objects always have a boolean value of True. Since match() and search() return None when there is no match, you can test whether there was a match with a simple if statement: Match objects support the following methods and attributes:'"
      ]
     },
     "execution_count": 58,
     "metadata": {},
     "output_type": "execute_result"
    }
   ],
   "source": [
    "data['content'].iloc[3]"
   ]
  },
  {
   "cell_type": "code",
   "execution_count": 14,
   "id": "74025a09",
   "metadata": {},
   "outputs": [
    {
     "data": {
      "text/html": [
       "<div>\n",
       "<style scoped>\n",
       "    .dataframe tbody tr th:only-of-type {\n",
       "        vertical-align: middle;\n",
       "    }\n",
       "\n",
       "    .dataframe tbody tr th {\n",
       "        vertical-align: top;\n",
       "    }\n",
       "\n",
       "    .dataframe thead th {\n",
       "        text-align: right;\n",
       "    }\n",
       "</style>\n",
       "<table border=\"1\" class=\"dataframe\">\n",
       "  <thead>\n",
       "    <tr style=\"text-align: right;\">\n",
       "      <th></th>\n",
       "      <th>Topic</th>\n",
       "      <th>content</th>\n",
       "    </tr>\n",
       "  </thead>\n",
       "  <tbody>\n",
       "    <tr>\n",
       "      <th>0</th>\n",
       "      <td>Format Specification Mini-Language</td>\n",
       "      <td>[Format specifications are used within replace...</td>\n",
       "    </tr>\n",
       "    <tr>\n",
       "      <th>1</th>\n",
       "      <td>Format examples</td>\n",
       "      <td>[This section contains examples of the str.for...</td>\n",
       "    </tr>\n",
       "  </tbody>\n",
       "</table>\n",
       "</div>"
      ],
      "text/plain": [
       "                                Topic  \\\n",
       "0  Format Specification Mini-Language   \n",
       "1                     Format examples   \n",
       "\n",
       "                                             content  \n",
       "0  [Format specifications are used within replace...  \n",
       "1  [This section contains examples of the str.for...  "
      ]
     },
     "execution_count": 14,
     "metadata": {},
     "output_type": "execute_result"
    }
   ],
   "source": [
    "#only for string.json\n",
    "data2=pd.DataFrame(df['Subtopics'].loc[0])\n",
    "data2=pd.DataFrame(data2.loc[2]['Subtopics'])[['Topic','content']]\n",
    "data2"
   ]
  },
  {
   "cell_type": "code",
   "execution_count": 15,
   "id": "462db76f",
   "metadata": {},
   "outputs": [],
   "source": [
    "#only for string.json\n",
    "for i in data2.index:\n",
    "    data2['content'].loc[i]=' '.join(data2['content'].loc[i])\n",
    "    data2['content'].loc[i]=data2['content'].loc[i].replace('\\\\u',' ')\n",
    "    data2['content'].loc[i]=data2['content'].loc[i].replace('\\n',' ')"
   ]
  },
  {
   "cell_type": "code",
   "execution_count": 19,
   "id": "fa8b1349",
   "metadata": {},
   "outputs": [
    {
     "data": {
      "text/plain": [
       "0    Format specifications are used within replacem...\n",
       "1    This section contains examples of the str.form...\n",
       "Name: content, dtype: object"
      ]
     },
     "execution_count": 19,
     "metadata": {},
     "output_type": "execute_result"
    }
   ],
   "source": [
    "data2['content']"
   ]
  },
  {
   "cell_type": "code",
   "execution_count": 36,
   "id": "7b673233",
   "metadata": {},
   "outputs": [],
   "source": [
    "#only for string.json\n",
    "df['Topic']= 'String'\n",
    "df['content']=''\n",
    "df=df[['Topic','content']]"
   ]
  },
  {
   "cell_type": "code",
   "execution_count": 59,
   "id": "0b373629",
   "metadata": {},
   "outputs": [],
   "source": [
    "#only for regex.json\n",
    "df['Topic']= 'regex'\n",
    "df['content']=''\n",
    "df=df[['Topic','content']]"
   ]
  },
  {
   "cell_type": "code",
   "execution_count": 21,
   "id": "787cd27f",
   "metadata": {},
   "outputs": [],
   "source": [
    "df=df[['Topic','content']]\n",
    "df['content']=' '.join(df['content'][0])\n",
    "df['content']=df['content'][0].replace('\\\\u',' ')\n",
    "df['content']=df['content'][0].replace('\\n',' ')"
   ]
  },
  {
   "cell_type": "code",
   "execution_count": 21,
   "id": "9816ecd2",
   "metadata": {},
   "outputs": [
    {
     "data": {
      "text/plain": [
       "0    \n",
       "Name: content, dtype: object"
      ]
     },
     "execution_count": 21,
     "metadata": {},
     "output_type": "execute_result"
    }
   ],
   "source": [
    "df['content']"
   ]
  },
  {
   "cell_type": "code",
   "execution_count": 26,
   "id": "5045904e",
   "metadata": {},
   "outputs": [
    {
     "data": {
      "text/plain": [
       "RangeIndex(start=1, stop=4, step=1)"
      ]
     },
     "execution_count": 26,
     "metadata": {},
     "output_type": "execute_result"
    }
   ],
   "source": [
    "data.index[1:4]"
   ]
  },
  {
   "cell_type": "code",
   "execution_count": 37,
   "id": "85043f32",
   "metadata": {},
   "outputs": [
    {
     "name": "stdout",
     "output_type": "stream",
     "text": [
      "1\n",
      "2\n",
      "3\n"
     ]
    },
    {
     "name": "stderr",
     "output_type": "stream",
     "text": [
      "C:\\Users\\visha\\AppData\\Local\\Temp\\ipykernel_54372\\3817393342.py:3: SettingWithCopyWarning: \n",
      "A value is trying to be set on a copy of a slice from a DataFrame.\n",
      "Try using .loc[row_indexer,col_indexer] = value instead\n",
      "\n",
      "See the caveats in the documentation: https://pandas.pydata.org/pandas-docs/stable/user_guide/indexing.html#returning-a-view-versus-a-copy\n",
      "  df['content']=df['content']+' '+data['content'].iloc[i]\n"
     ]
    }
   ],
   "source": [
    "#only for string.json\n",
    "for i in data.index[1:4]:\n",
    "    df['content']=df['content']+' '+data['content'].iloc[i]\n",
    "    print(i)"
   ]
  },
  {
   "cell_type": "code",
   "execution_count": 60,
   "id": "903c2019",
   "metadata": {},
   "outputs": [
    {
     "name": "stdout",
     "output_type": "stream",
     "text": [
      "0\n",
      "1\n",
      "2\n",
      "3\n"
     ]
    },
    {
     "name": "stderr",
     "output_type": "stream",
     "text": [
      "C:\\Users\\visha\\AppData\\Local\\Temp\\ipykernel_54372\\848306914.py:3: SettingWithCopyWarning: \n",
      "A value is trying to be set on a copy of a slice from a DataFrame.\n",
      "Try using .loc[row_indexer,col_indexer] = value instead\n",
      "\n",
      "See the caveats in the documentation: https://pandas.pydata.org/pandas-docs/stable/user_guide/indexing.html#returning-a-view-versus-a-copy\n",
      "  df['content']=df['content']+' '+data['content'].iloc[i]\n"
     ]
    }
   ],
   "source": [
    "#only for regex.json\n",
    "for i in data.index[0:4]:\n",
    "    df['content']=df['content']+' '+data['content'].iloc[i]\n",
    "    print(i)"
   ]
  },
  {
   "cell_type": "code",
   "execution_count": 61,
   "id": "0d1bffa4",
   "metadata": {},
   "outputs": [
    {
     "data": {
      "text/plain": [
       "\" A regular expression (or RE) specifies a set of strings that matches it; the functions in this module let you check if a particular string matches a given regular expression (or if a given regular expression matches a particular string, which comes down to the same thing). Regular expressions can be concatenated to form new regular expressions; if A and B are both regular expressions, then AB is also a regular expression. In general, if a string p matches A and another string q matches B, the string pq will match AB.  This holds unless A or B contain low precedence operations; boundary conditions between A and B; or have numbered group references.  Thus, complex expressions can easily be constructed from simpler primitive expressions like the ones described here.  For details of the theory and implementation of regular expressions, consult the Friedl book [Frie09], or almost any textbook about compiler construction. A brief explanation of the format of regular expressions follows.  For further information and a gentler presentation, consult the Regular Expression HOWTO. Regular expressions can contain both special and ordinary characters. Most ordinary characters, like 'A', 'a', or '0', are the simplest regular expressions; they simply match themselves.  You can concatenate ordinary characters, so last matches the string 'last'.  (In the rest of this section, well write REs in this special style, usually without quotes, and strings to be matched 'in single quotes'.) Some characters, like '|' or '(', are special. Special characters either stand for classes of ordinary characters, or affect how the regular expressions around them are interpreted. Repetition operators or quantifiers (*, +, ?, {m,n}, etc) cannot be directly nested. This avoids ambiguity with the non-greedy modifier suffix ?, and with other modifiers in other implementations. To apply a second repetition to an inner repetition, parentheses may be used. For example, the expression (?:a{6})* matches any multiple of six 'a' characters. The special characters are: The special sequences consist of '\\\\' and a character from the list below. If the ordinary character is not an ASCII digit or an ASCII letter, then the resulting RE will match the second character.  For example, \\\\$ matches the character '$'. Most of the standard escapes supported by Python string literals are also accepted by the regular expression parser: (Note that \\\\b is used to represent word boundaries, and means backspace only inside character classes.) ' ', '\\\\U', and '\\\\N' escape sequences are only recognized in Unicode patterns.  In bytes patterns they are errors.  Unknown escapes of ASCII letters are reserved for future use and treated as errors. Octal escapes are included in a limited form.  If the first digit is a 0, or if there are three octal digits, it is considered an octal escape. Otherwise, it is a group reference.  As for string literals, octal escapes are always at most three digits in length. The module defines several functions, constants, and an exception. Some of the functions are simplified versions of the full featured methods for compiled regular expressions.  Most non-trivial applications always use the compiled form. Compiled regular expression objects support the following methods and attributes: Match objects always have a boolean value of True. Since match() and search() return None when there is no match, you can test whether there was a match with a simple if statement: Match objects support the following methods and attributes:\""
      ]
     },
     "execution_count": 61,
     "metadata": {},
     "output_type": "execute_result"
    }
   ],
   "source": [
    "df['content'][0]"
   ]
  },
  {
   "cell_type": "code",
   "execution_count": 74,
   "id": "9278b250",
   "metadata": {},
   "outputs": [],
   "source": [
    "#append data['content'] to df['content']\n",
    "for i in data.index:\n",
    "    df['content'][0]=df['content'][0]+'. '+data['content'].loc[i]\n",
    "    "
   ]
  },
  {
   "cell_type": "code",
   "execution_count": 39,
   "id": "82b86768",
   "metadata": {},
   "outputs": [
    {
     "name": "stdout",
     "output_type": "stream",
     "text": [
      "0\n",
      "1\n"
     ]
    },
    {
     "name": "stderr",
     "output_type": "stream",
     "text": [
      "C:\\Users\\visha\\AppData\\Local\\Temp\\ipykernel_54372\\1929366939.py:3: SettingWithCopyWarning: \n",
      "A value is trying to be set on a copy of a slice from a DataFrame.\n",
      "Try using .loc[row_indexer,col_indexer] = value instead\n",
      "\n",
      "See the caveats in the documentation: https://pandas.pydata.org/pandas-docs/stable/user_guide/indexing.html#returning-a-view-versus-a-copy\n",
      "  df['content']=df['content']+' '+data2['content'].iloc[i]\n"
     ]
    }
   ],
   "source": [
    "#only for string.json\n",
    "for i in data2.index:\n",
    "    df['content']=df['content']+' '+data2['content'].iloc[i]\n",
    "    print(i)"
   ]
  },
  {
   "cell_type": "code",
   "execution_count": 40,
   "id": "1675a6dd",
   "metadata": {},
   "outputs": [
    {
     "data": {
      "text/plain": [
       "\" The built-in string class provides the ability to do complex variable substitutions and value formatting via the format() method described in PEP 3101.  The Formatter class in the string module allows you to create and customize your own string formatting behaviors using the same implementation as the built-in format() method. The str.format() method and the Formatter class share the same syntax for format strings (although in the case of Formatter, subclasses can define their own format string syntax).  The syntax is related to that of formatted string literals, but it is less sophisticated and, in particular, does not support arbitrary expressions. Format strings contain replacement fields surrounded by curly braces {}. Anything that is not contained in braces is considered literal text, which is copied unchanged to the output.  If you need to include a brace character in the literal text, it can be escaped by doubling: {{ and }}. The grammar for a replacement field is as follows: In less formal terms, the replacement field can start with a field_name that specifies the object whose value is to be formatted and inserted into the output instead of the replacement field. The field_name is optionally followed by a  conversion field, which is preceded by an exclamation point '!', and a format_spec, which is preceded by a colon ':'.  These specify a non-default format for the replacement value. See also the Format Specification Mini-Language section. The field_name itself begins with an arg_name that is either a number or a keyword.  If its a number, it refers to a positional argument, and if its a keyword, it refers to a named keyword argument.  If the numerical arg_names in a format string are 0, 1, 2, in sequence, they can all be omitted (not just some) and the numbers 0, 1, 2,  will be automatically inserted in that order. Because arg_name is not quote-delimited, it is not possible to specify arbitrary dictionary keys (e.g., the strings '10' or ':-]') within a format string. The arg_name can be followed by any number of index or attribute expressions. An expression of the form '.name' selects the named attribute using getattr(), while an expression of the form '[index]' does an index lookup using __getitem__(). Some simple format string examples: The conversion field causes a type coercion before formatting.  Normally, the job of formatting a value is done by the __format__() method of the value itself.  However, in some cases it is desirable to force a type to be formatted as a string, overriding its own definition of formatting.  By converting the value to a string before calling __format__(), the normal formatting logic is bypassed. Three conversion flags are currently supported: '!s' which calls str() on the value, '!r' which calls repr() and '!a' which calls ascii(). Some examples: The format_spec field contains a specification of how the value should be presented, including such details as field width, alignment, padding, decimal precision and so on.  Each value type can define its own formatting mini-language or interpretation of the format_spec. Most built-in types support a common formatting mini-language, which is described in the next section. A format_spec field can also include nested replacement fields within it. These nested replacement fields may contain a field name, conversion flag and format specification, but deeper nesting is not allowed.  The replacement fields within the format_spec are substituted before the format_spec string is interpreted. This allows the formatting of a value to be dynamically specified. See the Format examples section for some examples. Template strings provide simpler string substitutions as described in PEP 292.  A primary use case for template strings is for internationalization (i18n) since in that context, the simpler syntax and functionality makes it easier to translate than other built-in string formatting facilities in Python.  As an example of a library built on template strings for i18n, see the flufl.i18n package. Template strings support $-based substitutions, using the following rules: Any other appearance of $ in the string will result in a ValueError being raised. The string module provides a Template class that implements these rules.  The methods of Template are: Here is an example of how to use a Template: Advanced usage: you can derive subclasses of Template to customize the placeholder syntax, delimiter character, or the entire regular expression used to parse template strings.  To do this, you can override these class attributes: Alternatively, you can provide the entire regular expression pattern by overriding the class attribute pattern.  If you do this, the value must be a regular expression object with four named capturing groups.  The capturing groups correspond to the rules given above, along with the invalid placeholder rule: The methods on this class will raise ValueError if the pattern matches the template without one of these named groups matching. Format specifications are used within replacement fields contained within a format string to define how individual values are presented (see Format String Syntax and Formatted string literals). They can also be passed directly to the built-in format() function.  Each formattable type may define how the format specification is to be interpreted. Most built-in types implement the following options for format specifications, although some of the formatting options are only supported by the numeric types. A general convention is that an empty format specification produces the same result as if you had called str() on the value. A non-empty format specification typically modifies the result. The general form of a standard format specifier is: If a valid align value is specified, it can be preceded by a fill character that can be any character and defaults to a space if omitted. It is not possible to use a literal curly brace ({ or }) as the fill character in a formatted string literal or when using the str.format() method.  However, it is possible to insert a curly brace with a nested replacement field.  This limitation doesnt affect the format() function. The meaning of the various alignment options is as follows: Note that unless a minimum field width is defined, the field width will always be the same size as the data to fill it, so that the alignment option has no meaning in this case. The sign option is only valid for number types, and can be one of the following: The 'z' option coerces negative zero floating-point values to positive zero after rounding to the format precision.  This option is only valid for floating-point presentation types. The '#' option causes the alternate form to be used for the conversion.  The alternate form is defined differently for different types.  This option is only valid for integer, float and complex types. For integers, when binary, octal, or hexadecimal output is used, this option adds the respective prefix '0b', '0o', '0x', or '0X' to the output value. For float and complex the alternate form causes the result of the conversion to always contain a decimal-point character, even if no digits follow it. Normally, a decimal-point character appears in the result of these conversions only if a digit follows it. In addition, for 'g' and 'G' conversions, trailing zeros are not removed from the result. The ',' option signals the use of a comma for a thousands separator. For a locale aware separator, use the 'n' integer presentation type instead. The '_' option signals the use of an underscore for a thousands separator for floating point presentation types and for integer presentation type 'd'.  For integer presentation types 'b', 'o', 'x', and 'X', underscores will be inserted every 4 digits.  For other presentation types, specifying this option is an error. width is a decimal integer defining the minimum total field width, including any prefixes, separators, and other formatting characters. If not specified, then the field width will be determined by the content. When no explicit alignment is given, preceding the width field by a zero ('0') character enables sign-aware zero-padding for numeric types.  This is equivalent to a fill character of '0' with an alignment type of '='. The precision is a decimal integer indicating how many digits should be displayed after the decimal point for presentation types 'f' and 'F', or before and after the decimal point for presentation types 'g' or 'G'.  For string presentation types the field indicates the maximum field size - in other words, how many characters will be used from the field content.  The precision is not allowed for integer presentation types. Finally, the type determines how the data should be presented. The available string presentation types are: The available integer presentation types are: In addition to the above presentation types, integers can be formatted with the floating point presentation types listed below (except 'n' and None). When doing so, float() is used to convert the integer to a floating point number before formatting. The available presentation types for float and Decimal values are: This section contains examples of the str.format() syntax and comparison with the old %-formatting. In most of the cases the syntax is similar to the old %-formatting, with the addition of the {} and with : used instead of %. For example, '%03.2f' can be translated to '{:03.2f}'. The new format syntax also supports new and different options, shown in the following examples. Accessing arguments by position: Accessing arguments by name: Accessing arguments attributes: Accessing arguments items: Replacing %s and %r: Aligning the text and specifying a width: Replacing %+f, %-f, and % f and specifying a sign: Replacing %x and %o and converting the value to different bases: Using the comma as a thousands separator: Expressing a percentage: Using type-specific formatting: Nesting arguments and more complex examples:\""
      ]
     },
     "execution_count": 40,
     "metadata": {},
     "output_type": "execute_result"
    }
   ],
   "source": [
    "df['content'][0]"
   ]
  },
  {
   "cell_type": "code",
   "execution_count": 28,
   "id": "3be59691",
   "metadata": {},
   "outputs": [
    {
     "ename": "TypeError",
     "evalue": "can only concatenate list (not \"str\") to list",
     "output_type": "error",
     "traceback": [
      "\u001b[1;31m---------------------------------------------------------------------------\u001b[0m",
      "\u001b[1;31mTypeError\u001b[0m                                 Traceback (most recent call last)",
      "\u001b[1;32m~\\AppData\\Local\\Temp\\ipykernel_11384\\2475904177.py\u001b[0m in \u001b[0;36m<module>\u001b[1;34m\u001b[0m\n\u001b[0;32m      1\u001b[0m \u001b[1;32mfor\u001b[0m \u001b[0mi\u001b[0m \u001b[1;32min\u001b[0m \u001b[0mdata\u001b[0m\u001b[1;33m.\u001b[0m\u001b[0mindex\u001b[0m\u001b[1;33m:\u001b[0m\u001b[1;33m\u001b[0m\u001b[1;33m\u001b[0m\u001b[0m\n\u001b[1;32m----> 2\u001b[1;33m     \u001b[0mdf\u001b[0m\u001b[1;33m[\u001b[0m\u001b[1;34m'content'\u001b[0m\u001b[1;33m]\u001b[0m\u001b[1;33m=\u001b[0m\u001b[0mdf\u001b[0m\u001b[1;33m[\u001b[0m\u001b[1;34m'content'\u001b[0m\u001b[1;33m]\u001b[0m\u001b[1;33m[\u001b[0m\u001b[1;36m0\u001b[0m\u001b[1;33m]\u001b[0m\u001b[1;33m+\u001b[0m\u001b[1;34m'. '\u001b[0m\u001b[1;33m+\u001b[0m\u001b[0mdata\u001b[0m\u001b[1;33m[\u001b[0m\u001b[1;34m'content'\u001b[0m\u001b[1;33m]\u001b[0m\u001b[1;33m.\u001b[0m\u001b[0mloc\u001b[0m\u001b[1;33m[\u001b[0m\u001b[0mi\u001b[0m\u001b[1;33m]\u001b[0m\u001b[1;33m\u001b[0m\u001b[1;33m\u001b[0m\u001b[0m\n\u001b[0m",
      "\u001b[1;31mTypeError\u001b[0m: can only concatenate list (not \"str\") to list"
     ]
    }
   ],
   "source": [
    "for i in data.index:\n",
    "    df['content']=df['content'][0]+'. '+data['content'].loc[i]"
   ]
  },
  {
   "cell_type": "code",
   "execution_count": 62,
   "id": "4e15d470",
   "metadata": {},
   "outputs": [
    {
     "name": "stderr",
     "output_type": "stream",
     "text": [
      "C:\\Users\\visha\\AppData\\Local\\Temp\\ipykernel_54372\\4178201066.py:2: SettingWithCopyWarning: \n",
      "A value is trying to be set on a copy of a slice from a DataFrame\n",
      "\n",
      "See the caveats in the documentation: https://pandas.pydata.org/pandas-docs/stable/user_guide/indexing.html#returning-a-view-versus-a-copy\n",
      "  df['content'][0]=df['content'][0].split('.')\n"
     ]
    }
   ],
   "source": [
    "#split the df[content] into sentences\n",
    "df['content'][0]=df['content'][0].split('.')"
   ]
  },
  {
   "cell_type": "code",
   "execution_count": 63,
   "id": "fc61bdc2",
   "metadata": {},
   "outputs": [
    {
     "data": {
      "text/plain": [
       "[' A regular expression (or RE) specifies a set of strings that matches it; the functions in this module let you check if a particular string matches a given regular expression (or if a given regular expression matches a particular string, which comes down to the same thing)',\n",
       " ' Regular expressions can be concatenated to form new regular expressions; if A and B are both regular expressions, then AB is also a regular expression',\n",
       " ' In general, if a string p matches A and another string q matches B, the string pq will match AB',\n",
       " '  This holds unless A or B contain low precedence operations; boundary conditions between A and B; or have numbered group references',\n",
       " '  Thus, complex expressions can easily be constructed from simpler primitive expressions like the ones described here',\n",
       " '  For details of the theory and implementation of regular expressions, consult the Friedl book [Frie09], or almost any textbook about compiler construction',\n",
       " ' A brief explanation of the format of regular expressions follows',\n",
       " '  For further information and a gentler presentation, consult the Regular Expression HOWTO',\n",
       " ' Regular expressions can contain both special and ordinary characters',\n",
       " \" Most ordinary characters, like 'A', 'a', or '0', are the simplest regular expressions; they simply match themselves\",\n",
       " \"  You can concatenate ordinary characters, so last matches the string 'last'\",\n",
       " \"  (In the rest of this section, well write REs in this special style, usually without quotes, and strings to be matched 'in single quotes'\",\n",
       " \") Some characters, like '|' or '(', are special\",\n",
       " ' Special characters either stand for classes of ordinary characters, or affect how the regular expressions around them are interpreted',\n",
       " ' Repetition operators or quantifiers (*, +, ?, {m,n}, etc) cannot be directly nested',\n",
       " ' This avoids ambiguity with the non-greedy modifier suffix ?, and with other modifiers in other implementations',\n",
       " ' To apply a second repetition to an inner repetition, parentheses may be used',\n",
       " \" For example, the expression (?:a{6})* matches any multiple of six 'a' characters\",\n",
       " \" The special characters are: The special sequences consist of '\\\\' and a character from the list below\",\n",
       " ' If the ordinary character is not an ASCII digit or an ASCII letter, then the resulting RE will match the second character',\n",
       " \"  For example, \\\\$ matches the character '$'\",\n",
       " ' Most of the standard escapes supported by Python string literals are also accepted by the regular expression parser: (Note that \\\\b is used to represent word boundaries, and means backspace only inside character classes',\n",
       " \") ' ', '\\\\U', and '\\\\N' escape sequences are only recognized in Unicode patterns\",\n",
       " '  In bytes patterns they are errors',\n",
       " '  Unknown escapes of ASCII letters are reserved for future use and treated as errors',\n",
       " ' Octal escapes are included in a limited form',\n",
       " '  If the first digit is a 0, or if there are three octal digits, it is considered an octal escape',\n",
       " ' Otherwise, it is a group reference',\n",
       " '  As for string literals, octal escapes are always at most three digits in length',\n",
       " ' The module defines several functions, constants, and an exception',\n",
       " ' Some of the functions are simplified versions of the full featured methods for compiled regular expressions',\n",
       " '  Most non-trivial applications always use the compiled form',\n",
       " ' Compiled regular expression objects support the following methods and attributes: Match objects always have a boolean value of True',\n",
       " ' Since match() and search() return None when there is no match, you can test whether there was a match with a simple if statement: Match objects support the following methods and attributes:']"
      ]
     },
     "execution_count": 63,
     "metadata": {},
     "output_type": "execute_result"
    }
   ],
   "source": [
    "df['content'][0]"
   ]
  },
  {
   "cell_type": "code",
   "execution_count": 64,
   "id": "f9375d58",
   "metadata": {},
   "outputs": [],
   "source": [
    "#make a new df with the sentences\n",
    "df2=pd.DataFrame(df['content'][0],columns=['content'])"
   ]
  },
  {
   "cell_type": "code",
   "execution_count": 65,
   "id": "7ef27ecd",
   "metadata": {},
   "outputs": [],
   "source": [
    "df2['topic']=df['Topic'][0]"
   ]
  },
  {
   "cell_type": "code",
   "execution_count": 66,
   "id": "21e281a5",
   "metadata": {},
   "outputs": [
    {
     "data": {
      "text/plain": [
       "34"
      ]
     },
     "execution_count": 66,
     "metadata": {},
     "output_type": "execute_result"
    }
   ],
   "source": [
    "len(df2.dropna())"
   ]
  },
  {
   "cell_type": "code",
   "execution_count": 67,
   "id": "45e4e7b3",
   "metadata": {},
   "outputs": [],
   "source": [
    "df2=df2.dropna()"
   ]
  },
  {
   "cell_type": "code",
   "execution_count": 68,
   "id": "2d92d362",
   "metadata": {},
   "outputs": [],
   "source": [
    "df2.to_csv('D:/FILES/University of Toronto/Subjects/Fall 2022/NLP/project/PyOverflow/Data/Training/regex.csv')"
   ]
  },
  {
   "cell_type": "code",
   "execution_count": null,
   "id": "f3c88e72",
   "metadata": {},
   "outputs": [],
   "source": []
  }
 ],
 "metadata": {
  "kernelspec": {
   "display_name": "Python 3.9.15 ('base')",
   "language": "python",
   "name": "python3"
  },
  "language_info": {
   "codemirror_mode": {
    "name": "ipython",
    "version": 3
   },
   "file_extension": ".py",
   "mimetype": "text/x-python",
   "name": "python",
   "nbconvert_exporter": "python",
   "pygments_lexer": "ipython3",
   "version": "3.9.15"
  },
  "vscode": {
   "interpreter": {
    "hash": "9ddec1cb4ab201c8f982a68210a453560008edb8e1a694c1ed09074d4f6b41d2"
   }
  }
 },
 "nbformat": 4,
 "nbformat_minor": 5
}
