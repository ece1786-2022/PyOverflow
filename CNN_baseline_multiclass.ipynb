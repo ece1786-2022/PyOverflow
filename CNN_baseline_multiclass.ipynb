{
  "cells": [
    {
      "cell_type": "code",
      "execution_count": 1,
      "metadata": {
        "id": "k0C3p15i48h8"
      },
      "outputs": [],
      "source": [
        "import torch\n",
        "import torchtext\n",
        "from torchtext import data\n",
        "import torch.optim as optim\n",
        "import argparse\n",
        "import os\n",
        "import pandas as pd"
      ]
    },
    {
      "cell_type": "code",
      "execution_count": 2,
      "metadata": {
        "id": "9vtWLIeX5Amz"
      },
      "outputs": [],
      "source": [
        "import random\n",
        "import sklearn\n",
        "from sklearn.model_selection import train_test_split\n",
        "import csv\n",
        "import matplotlib.pyplot as plt\n"
      ]
    },
    {
      "cell_type": "code",
      "execution_count": 3,
      "metadata": {},
      "outputs": [],
      "source": [
        "data_path = \"Data/Training/combined.csv\"\n",
        "df = pd.read_csv(data_path)"
      ]
    },
    {
      "cell_type": "code",
      "execution_count": 4,
      "metadata": {},
      "outputs": [
        {
          "data": {
            "text/html": [
              "<div>\n",
              "<style scoped>\n",
              "    .dataframe tbody tr th:only-of-type {\n",
              "        vertical-align: middle;\n",
              "    }\n",
              "\n",
              "    .dataframe tbody tr th {\n",
              "        vertical-align: top;\n",
              "    }\n",
              "\n",
              "    .dataframe thead th {\n",
              "        text-align: right;\n",
              "    }\n",
              "</style>\n",
              "<table border=\"1\" class=\"dataframe\">\n",
              "  <thead>\n",
              "    <tr style=\"text-align: right;\">\n",
              "      <th></th>\n",
              "      <th>content</th>\n",
              "      <th>topic</th>\n",
              "      <th>label</th>\n",
              "    </tr>\n",
              "  </thead>\n",
              "  <tbody>\n",
              "    <tr>\n",
              "      <th>0</th>\n",
              "      <td>In Python, all exceptions must be instances of...</td>\n",
              "      <td>Built-in Exceptions</td>\n",
              "      <td>0</td>\n",
              "    </tr>\n",
              "    <tr>\n",
              "      <th>1</th>\n",
              "      <td>In a try statement with an except clause tha...</td>\n",
              "      <td>Built-in Exceptions</td>\n",
              "      <td>0</td>\n",
              "    </tr>\n",
              "    <tr>\n",
              "      <th>2</th>\n",
              "      <td>Two exception classes that are not related v...</td>\n",
              "      <td>Built-in Exceptions</td>\n",
              "      <td>0</td>\n",
              "    </tr>\n",
              "    <tr>\n",
              "      <th>3</th>\n",
              "      <td>The built-in exceptions listed below can be g...</td>\n",
              "      <td>Built-in Exceptions</td>\n",
              "      <td>0</td>\n",
              "    </tr>\n",
              "    <tr>\n",
              "      <th>4</th>\n",
              "      <td>Except where mentioned, they have an “associ...</td>\n",
              "      <td>Built-in Exceptions</td>\n",
              "      <td>0</td>\n",
              "    </tr>\n",
              "    <tr>\n",
              "      <th>...</th>\n",
              "      <td>...</td>\n",
              "      <td>...</td>\n",
              "      <td>...</td>\n",
              "    </tr>\n",
              "    <tr>\n",
              "      <th>293</th>\n",
              "      <td>The module defines several functions, constan...</td>\n",
              "      <td>regex</td>\n",
              "      <td>3</td>\n",
              "    </tr>\n",
              "    <tr>\n",
              "      <th>294</th>\n",
              "      <td>Some of the functions are simplified versions...</td>\n",
              "      <td>regex</td>\n",
              "      <td>3</td>\n",
              "    </tr>\n",
              "    <tr>\n",
              "      <th>295</th>\n",
              "      <td>Most non-trivial applications always use the...</td>\n",
              "      <td>regex</td>\n",
              "      <td>3</td>\n",
              "    </tr>\n",
              "    <tr>\n",
              "      <th>296</th>\n",
              "      <td>Compiled regular expression objects support t...</td>\n",
              "      <td>regex</td>\n",
              "      <td>3</td>\n",
              "    </tr>\n",
              "    <tr>\n",
              "      <th>297</th>\n",
              "      <td>Since match() and search() return None when t...</td>\n",
              "      <td>regex</td>\n",
              "      <td>3</td>\n",
              "    </tr>\n",
              "  </tbody>\n",
              "</table>\n",
              "<p>298 rows × 3 columns</p>\n",
              "</div>"
            ],
            "text/plain": [
              "                                               content                topic  \\\n",
              "0    In Python, all exceptions must be instances of...  Built-in Exceptions   \n",
              "1      In a try statement with an except clause tha...  Built-in Exceptions   \n",
              "2      Two exception classes that are not related v...  Built-in Exceptions   \n",
              "3     The built-in exceptions listed below can be g...  Built-in Exceptions   \n",
              "4      Except where mentioned, they have an “associ...  Built-in Exceptions   \n",
              "..                                                 ...                  ...   \n",
              "293   The module defines several functions, constan...                regex   \n",
              "294   Some of the functions are simplified versions...                regex   \n",
              "295    Most non-trivial applications always use the...                regex   \n",
              "296   Compiled regular expression objects support t...                regex   \n",
              "297   Since match() and search() return None when t...                regex   \n",
              "\n",
              "     label  \n",
              "0        0  \n",
              "1        0  \n",
              "2        0  \n",
              "3        0  \n",
              "4        0  \n",
              "..     ...  \n",
              "293      3  \n",
              "294      3  \n",
              "295      3  \n",
              "296      3  \n",
              "297      3  \n",
              "\n",
              "[298 rows x 3 columns]"
            ]
          },
          "execution_count": 4,
          "metadata": {},
          "output_type": "execute_result"
        }
      ],
      "source": [
        "df.dropna()"
      ]
    },
    {
      "cell_type": "code",
      "execution_count": 21,
      "metadata": {},
      "outputs": [
        {
          "data": {
            "text/plain": [
              "False"
            ]
          },
          "execution_count": 21,
          "metadata": {},
          "output_type": "execute_result"
        }
      ],
      "source": [
        "# Split the data into train and test\n",
        "train, val = train_test_split(df, test_size=0.2, random_state=42)"
      ]
    },
    {
      "cell_type": "code",
      "execution_count": 55,
      "metadata": {},
      "outputs": [],
      "source": [
        "data_path = \"Data/Test/combined.csv\"\n",
        "df2 = pd.read_csv(data_path)"
      ]
    },
    {
      "cell_type": "code",
      "execution_count": 56,
      "metadata": {},
      "outputs": [
        {
          "data": {
            "text/html": [
              "<div>\n",
              "<style scoped>\n",
              "    .dataframe tbody tr th:only-of-type {\n",
              "        vertical-align: middle;\n",
              "    }\n",
              "\n",
              "    .dataframe tbody tr th {\n",
              "        vertical-align: top;\n",
              "    }\n",
              "\n",
              "    .dataframe thead th {\n",
              "        text-align: right;\n",
              "    }\n",
              "</style>\n",
              "<table border=\"1\" class=\"dataframe\">\n",
              "  <thead>\n",
              "    <tr style=\"text-align: right;\">\n",
              "      <th></th>\n",
              "      <th>Id</th>\n",
              "      <th>Body</th>\n",
              "      <th>Title</th>\n",
              "      <th>Tags</th>\n",
              "      <th>text</th>\n",
              "      <th>label</th>\n",
              "    </tr>\n",
              "  </thead>\n",
              "  <tbody>\n",
              "    <tr>\n",
              "      <th>0</th>\n",
              "      <td>166198</td>\n",
              "      <td>I'm writing a little debug app for a bit of ki...</td>\n",
              "      <td>How can I capture all exceptions from a wxPyth...</td>\n",
              "      <td>&lt;python&gt;&lt;exception&gt;&lt;error-handling&gt;&lt;wxwidgets&gt;...</td>\n",
              "      <td>How can I capture all exceptions from a wxPyth...</td>\n",
              "      <td>0</td>\n",
              "    </tr>\n",
              "    <tr>\n",
              "      <th>1</th>\n",
              "      <td>1291438</td>\n",
              "      <td>From this question, I'm now doing error handli...</td>\n",
              "      <td>When I catch an exception, how do I get the ty...</td>\n",
              "      <td>&lt;python&gt;&lt;exception&gt;&lt;exception-handling&gt;&lt;error-...</td>\n",
              "      <td>When I catch an exception, how do I get the ty...</td>\n",
              "      <td>0</td>\n",
              "    </tr>\n",
              "    <tr>\n",
              "      <th>2</th>\n",
              "      <td>1350671</td>\n",
              "      <td>My background is in C# and I've just recently ...</td>\n",
              "      <td>\"Inner exception\" (with traceback) in Python?</td>\n",
              "      <td>&lt;python&gt;&lt;exception&gt;&lt;error-handling&gt;</td>\n",
              "      <td>\"Inner exception\" (with traceback) in Python? ...</td>\n",
              "      <td>0</td>\n",
              "    </tr>\n",
              "    <tr>\n",
              "      <th>3</th>\n",
              "      <td>1483429</td>\n",
              "      <td>How do I print the error/exception in the  blo...</td>\n",
              "      <td>How do I print an exception in Python?</td>\n",
              "      <td>&lt;python&gt;&lt;exception&gt;&lt;error-handling&gt;</td>\n",
              "      <td>How do I print an exception in Python? How do ...</td>\n",
              "      <td>0</td>\n",
              "    </tr>\n",
              "    <tr>\n",
              "      <th>4</th>\n",
              "      <td>1508467</td>\n",
              "      <td>How can I log my Python exceptions?</td>\n",
              "      <td>Log exception with traceback in Python</td>\n",
              "      <td>&lt;python&gt;&lt;exception&gt;&lt;logging&gt;&lt;error-handling&gt;</td>\n",
              "      <td>Log exception with traceback in Python How can...</td>\n",
              "      <td>0</td>\n",
              "    </tr>\n",
              "    <tr>\n",
              "      <th>...</th>\n",
              "      <td>...</td>\n",
              "      <td>...</td>\n",
              "      <td>...</td>\n",
              "      <td>...</td>\n",
              "      <td>...</td>\n",
              "      <td>...</td>\n",
              "    </tr>\n",
              "    <tr>\n",
              "      <th>386</th>\n",
              "      <td>4221534</td>\n",
              "      <td>Given string   I would like to get this output...</td>\n",
              "      <td>python regex grouping</td>\n",
              "      <td>&lt;python&gt;&lt;regex&gt;</td>\n",
              "      <td>python regex grouping Given string   I would l...</td>\n",
              "      <td>3</td>\n",
              "    </tr>\n",
              "    <tr>\n",
              "      <th>387</th>\n",
              "      <td>1836637</td>\n",
              "      <td>I am doing simple regular expressions in pytho...</td>\n",
              "      <td>python help display regular expression result</td>\n",
              "      <td>&lt;python&gt;&lt;regex&gt;</td>\n",
              "      <td>python help display regular expression result ...</td>\n",
              "      <td>3</td>\n",
              "    </tr>\n",
              "    <tr>\n",
              "      <th>388</th>\n",
              "      <td>64247233</td>\n",
              "      <td>I'm struggling to write a regex that extracts ...</td>\n",
              "      <td>Regex \"AND\" in an expression extract this and ...</td>\n",
              "      <td>&lt;python&gt;&lt;regex&gt;</td>\n",
              "      <td>Regex \"AND\" in an expression extract this and ...</td>\n",
              "      <td>3</td>\n",
              "    </tr>\n",
              "    <tr>\n",
              "      <th>389</th>\n",
              "      <td>63770358</td>\n",
              "      <td>I have a weird column named  in a dataframe th...</td>\n",
              "      <td>Fill missing values in selected columns with f...</td>\n",
              "      <td>&lt;python&gt;&lt;regex&gt;&lt;pandas&gt;&lt;null&gt;&lt;fillna&gt;</td>\n",
              "      <td>Fill missing values in selected columns with f...</td>\n",
              "      <td>3</td>\n",
              "    </tr>\n",
              "    <tr>\n",
              "      <th>390</th>\n",
              "      <td>61189020</td>\n",
              "      <td>I need to replace every pattern like:  by  + a...</td>\n",
              "      <td>How to loop over regex matches and do replacem...</td>\n",
              "      <td>&lt;python&gt;&lt;regex&gt;&lt;python-re&gt;</td>\n",
              "      <td>How to loop over regex matches and do replacem...</td>\n",
              "      <td>3</td>\n",
              "    </tr>\n",
              "  </tbody>\n",
              "</table>\n",
              "<p>391 rows × 6 columns</p>\n",
              "</div>"
            ],
            "text/plain": [
              "           Id                                               Body  \\\n",
              "0      166198  I'm writing a little debug app for a bit of ki...   \n",
              "1     1291438  From this question, I'm now doing error handli...   \n",
              "2     1350671  My background is in C# and I've just recently ...   \n",
              "3     1483429  How do I print the error/exception in the  blo...   \n",
              "4     1508467              How can I log my Python exceptions?     \n",
              "..        ...                                                ...   \n",
              "386   4221534  Given string   I would like to get this output...   \n",
              "387   1836637  I am doing simple regular expressions in pytho...   \n",
              "388  64247233  I'm struggling to write a regex that extracts ...   \n",
              "389  63770358  I have a weird column named  in a dataframe th...   \n",
              "390  61189020  I need to replace every pattern like:  by  + a...   \n",
              "\n",
              "                                                 Title  \\\n",
              "0    How can I capture all exceptions from a wxPyth...   \n",
              "1    When I catch an exception, how do I get the ty...   \n",
              "2        \"Inner exception\" (with traceback) in Python?   \n",
              "3               How do I print an exception in Python?   \n",
              "4               Log exception with traceback in Python   \n",
              "..                                                 ...   \n",
              "386                              python regex grouping   \n",
              "387      python help display regular expression result   \n",
              "388  Regex \"AND\" in an expression extract this and ...   \n",
              "389  Fill missing values in selected columns with f...   \n",
              "390  How to loop over regex matches and do replacem...   \n",
              "\n",
              "                                                  Tags  \\\n",
              "0    <python><exception><error-handling><wxwidgets>...   \n",
              "1    <python><exception><exception-handling><error-...   \n",
              "2                  <python><exception><error-handling>   \n",
              "3                  <python><exception><error-handling>   \n",
              "4         <python><exception><logging><error-handling>   \n",
              "..                                                 ...   \n",
              "386                                    <python><regex>   \n",
              "387                                    <python><regex>   \n",
              "388                                    <python><regex>   \n",
              "389              <python><regex><pandas><null><fillna>   \n",
              "390                         <python><regex><python-re>   \n",
              "\n",
              "                                                  text  label  \n",
              "0    How can I capture all exceptions from a wxPyth...      0  \n",
              "1    When I catch an exception, how do I get the ty...      0  \n",
              "2    \"Inner exception\" (with traceback) in Python? ...      0  \n",
              "3    How do I print an exception in Python? How do ...      0  \n",
              "4    Log exception with traceback in Python How can...      0  \n",
              "..                                                 ...    ...  \n",
              "386  python regex grouping Given string   I would l...      3  \n",
              "387  python help display regular expression result ...      3  \n",
              "388  Regex \"AND\" in an expression extract this and ...      3  \n",
              "389  Fill missing values in selected columns with f...      3  \n",
              "390  How to loop over regex matches and do replacem...      3  \n",
              "\n",
              "[391 rows x 6 columns]"
            ]
          },
          "execution_count": 56,
          "metadata": {},
          "output_type": "execute_result"
        }
      ],
      "source": [
        "df2"
      ]
    },
    {
      "cell_type": "code",
      "execution_count": 7,
      "metadata": {},
      "outputs": [],
      "source": [
        "#keep the body and the title of df2\n",
        "df2 = df2[['Body', 'Title']]\n",
        "df2['label']=[0,1]"
      ]
    },
    {
      "cell_type": "code",
      "execution_count": 10,
      "metadata": {},
      "outputs": [],
      "source": [
        "#rename the body column to content\n",
        "df2.rename(columns={'Body':'Content'}, inplace=True)"
      ]
    },
    {
      "cell_type": "code",
      "execution_count": 19,
      "metadata": {
        "id": "vY8F9TLu5Fb0"
      },
      "outputs": [],
      "source": [
        "class TextDataset(torch.utils.data.Dataset):\n",
        "    def __init__(self, vocab, split=\"train\"):\n",
        "        data_path = \"Data\\Training\\combined_rows_no_overlap.csv\"\n",
        "        df = pd.read_csv(data_path)\n",
        "        df=df.dropna()\n",
        "        train, val = train_test_split(df, test_size=0.2, random_state=42)\n",
        "\n",
        "        if split == \"train\":\n",
        "            df=train\n",
        "        elif split == \"val\":\n",
        "            df=val\n",
        "    \n",
        "        # X: torch.tensor (maxlen, batch_size), padded indices\n",
        "        # Y: torch.tensor of len N\n",
        "        X, Y = [], []\n",
        "        V = len(vocab.vectors)\n",
        "        for i,row in df.iterrows():\n",
        "            L = row['content'].split()\n",
        "            while len(L)<4:\n",
        "                L.append('<pad>')\n",
        "            X.append(torch.tensor([vocab.stoi.get(w, V-1) for w in L]))  # Use the last word in the vocab as the \"out-of-vocabulary\" token\n",
        "            Y.append(row['label'])\n",
        "        self.X = X \n",
        "        self.Y = torch.tensor(Y)\n",
        "        \n",
        "    def __len__(self):\n",
        "        return len(self.X)\n",
        "    def __getitem__(self, idx):\n",
        "        return self.X[idx], self.Y[idx] \n",
        "    \n",
        "# my_collate_function prepares batches\n",
        "# it also pads each batch with zeroes."
      ]
    },
    {
      "cell_type": "code",
      "execution_count": 4,
      "metadata": {},
      "outputs": [],
      "source": [
        "class TestDataset(torch.utils.data.Dataset):\n",
        "    def __init__(self, vocab,partition):\n",
        "        data_path = \"Data/Test/combined.csv\"\n",
        "        df = pd.read_csv(data_path)\n",
        "    \n",
        "        # X: torch.tensor (maxlen, batch_size), padded indices\n",
        "        # Y: torch.tensor of len N\n",
        "        X, Y = [], []\n",
        "        V = len(vocab.vectors)\n",
        "        for i,row in df.iterrows():\n",
        "            L = row[partition].split()\n",
        "            while len(L)<4:\n",
        "                L.append('<pad>')\n",
        "            X.append(torch.tensor([vocab.stoi.get(w, V-1) for w in L]))  # Use the last word in the vocab as the \"out-of-vocabulary\" token\n",
        "            Y.append(row['label'])\n",
        "        self.X = X \n",
        "        self.Y = torch.tensor(Y)\n",
        "        \n",
        "    def __len__(self):\n",
        "        return len(self.X)\n",
        "    def __getitem__(self, idx):\n",
        "        return self.X[idx], self.Y[idx] "
      ]
    },
    {
      "cell_type": "code",
      "execution_count": 5,
      "metadata": {
        "colab": {
          "base_uri": "https://localhost:8080/"
        },
        "id": "14g_8zO15GVJ",
        "outputId": "6d18eb56-df62-4a51-8625-f17a75b715f9"
      },
      "outputs": [],
      "source": [
        "glove = torchtext.vocab.GloVe(name=\"6B\", # trained on Wikipedia 2014 corpus\n",
        "                              dim=100)    # embedding size = 50"
      ]
    },
    {
      "cell_type": "markdown",
      "metadata": {
        "id": "EC_NGoPEi04q"
      },
      "source": [
        "#Upload datasets"
      ]
    },
    {
      "cell_type": "code",
      "execution_count": 6,
      "metadata": {
        "id": "AjIeqxjD5OV7"
      },
      "outputs": [],
      "source": [
        "def my_collate_function(batch, device):\n",
        "    # Handle the padding here\n",
        "    # batch is approximately: [dataset[i] for i in range(0, batch_size)]\n",
        "    # Since the dataset[i]'s contents is defined in the __getitem__() above, this collate function \n",
        "    # should be set correspondingly.\n",
        "    # Also: collate_function just takes one argument. To pass in additional arguments (e.g., device), \n",
        "    # we need to wrap up an anonymous function (using lambda below)\n",
        "    batch_x, batch_y = [], []\n",
        "    max_len = 0\n",
        "    for x,y in batch:\n",
        "        batch_y.append(y)\n",
        "        max_len = max(max_len, len(x))\n",
        "    for x,y in batch:\n",
        "        x_p = torch.concat(\n",
        "            [x, torch.zeros(max_len - len(x))]\n",
        "        )\n",
        "        batch_x.append(x_p)\n",
        "    return torch.stack(batch_x).t().int().to(device), torch.tensor(batch_y).to(device)"
      ]
    },
    {
      "cell_type": "code",
      "execution_count": 29,
      "metadata": {
        "colab": {
          "base_uri": "https://localhost:8080/"
        },
        "id": "BrbeT1v-5f1Q",
        "outputId": "a0682fc5-0268-4f0e-8445-d1575aa57e1c"
      },
      "outputs": [
        {
          "name": "stdout",
          "output_type": "stream",
          "text": [
            "Using device: cuda\n"
          ]
        }
      ],
      "source": [
        "torch.manual_seed(2)\n",
        "device = torch.device('cuda' if torch.cuda.is_available() else 'cpu')\n",
        "print (\"Using device:\", device)\n",
        "\n",
        "### 3.3 Processing of the data ###\n",
        "# 3.3.1\n",
        "# The first time you run this will download a 862MB size file to .vector_cache/glove.6B.zip\n",
        "#glove = torchtext.vocab.GloVe(name=\"6B\",dim=100) # embedding size = 100\n",
        "                                \n",
        "# 3.3.2\n",
        "train_dataset = TextDataset(glove, 'train')\n",
        "val_dataset = TextDataset(glove, \"val\")\n",
        "test_dataset = TestDataset(glove,'text')\n",
        "#overfit_dataset= TextDataset(glove, \"overfit\")\n",
        "    \n",
        "# 3.3.3\n",
        "train_dataloader = torch.utils.data.DataLoader(\n",
        "    dataset=train_dataset, \n",
        "    batch_size=1, \n",
        "    shuffle=False, \n",
        "    collate_fn=lambda batch: my_collate_function(batch, device))\n",
        "validation_dataloader = torch.utils.data.DataLoader(\n",
        "    dataset=val_dataset, \n",
        "    batch_size=1, \n",
        "    shuffle=False, \n",
        "    collate_fn=lambda batch: my_collate_function(batch, device))\n",
        "test_dataloader = torch.utils.data.DataLoader(\n",
        "    dataset=test_dataset,\n",
        "    batch_size=1,\n",
        "    shuffle=False,\n",
        "    collate_fn=lambda batch: my_collate_function(batch, device))\n",
        "#overfit_dataloader = torch.utils.data.DataLoader(\n",
        "        #dataset=overfit_dataset,\n",
        "        #batch_size=1,\n",
        "        #shuffle=False,\n",
        "        #collate_fn=lambda batch: my_collate_function(batch, device))"
      ]
    },
    {
      "cell_type": "markdown",
      "metadata": {
        "id": "R3EDpgQEi4sI"
      },
      "source": [
        "#Create CNN Model"
      ]
    },
    {
      "cell_type": "code",
      "execution_count": 21,
      "metadata": {
        "id": "TA-lmv7b5k-F"
      },
      "outputs": [],
      "source": [
        "class CNNModel(torch.nn.Module): # CNN model # 4 classes\n",
        "    def __init__(self, vocab, n1,n2, k1,k2):\n",
        "        super().__init__()\n",
        "        # initialize word vectors to random numbers \n",
        "        self.embedding = torch.nn.Embedding.from_pretrained(vocab.vectors)\n",
        "        self.conv1=torch.nn.Conv2d(1,n1,(100,k1),bias=False)\n",
        "        self.conv2=torch.nn.Conv2d(1,n2,(100,k2),bias=False)\n",
        "        self.activate=torch.nn.ReLU()\n",
        "        self.maxpool= torch.nn.MaxPool2d((1,500),ceil_mode=True)\n",
        "        #self.maxpool2= torch.nn.MaxPool1d()\n",
        "        self.dropout = torch.nn.Dropout(0.25)\n",
        "        self.out1= torch.nn.Linear(n1+n2,50)\n",
        "        self.out2= torch.nn.Linear(50,4)\n",
        "        self.softmax = torch.nn.Softmax()\n",
        "        #TO DO\n",
        "        \n",
        "        # prediction function takes embedding as input, and predicts which word in vocabulary as output\n",
        "\n",
        "        #TO DO\n",
        "        \n",
        "    def forward(self, x):\n",
        "        \"\"\"\n",
        "        x: torch.tensor of shape (bsz), bsz is the batch size\n",
        "        \"\"\"\n",
        "        #TO DO\n",
        "        #print(x.size())\n",
        "        embed=self.embedding(x)\n",
        "        #print(embed.size())\n",
        "        embed=embed.T.unsqueeze(0)\n",
        "        #print(embed.size())\n",
        "        conv1=self.conv1(embed)\n",
        "        conv1=self.activate(conv1)\n",
        "        conv2=self.conv2(embed)\n",
        "        conv2=self.activate(conv2)\n",
        "        #conv1=conv1.squeeze()\n",
        "        #conv2=conv2.squeeze()\n",
        "        #print(conv1.size())\n",
        "        #print(conv2.size())\n",
        "        max1= self.maxpool(conv1)\n",
        "        #print(max1.size())\n",
        "        max2=self.maxpool(conv2)\n",
        "        #print(max2.size())\n",
        "        drop=self.dropout(torch.cat((max1,max2)).squeeze())\n",
        "        #output=self.out(drop)\n",
        "        output=self.out1(drop) #torch.cat((max1,max2)).squeeze()\n",
        "        output=self.out2(output)\n",
        "        output=self.softmax(output)\n",
        "        return output"
      ]
    },
    {
      "cell_type": "markdown",
      "metadata": {
        "id": "DVD2C2Z8jCp6"
      },
      "source": [
        "#Hyperparameter tuning of the CNN model "
      ]
    },
    {
      "cell_type": "code",
      "execution_count": 22,
      "metadata": {
        "id": "_PX2Z-phv1nl"
      },
      "outputs": [
        {
          "data": {
            "text/plain": [
              "CNNModel(\n",
              "  (embedding): Embedding(400000, 100)\n",
              "  (conv1): Conv2d(1, 25, kernel_size=(100, 2), stride=(1, 1), bias=False)\n",
              "  (conv2): Conv2d(1, 25, kernel_size=(100, 3), stride=(1, 1), bias=False)\n",
              "  (activate): ReLU()\n",
              "  (maxpool): MaxPool2d(kernel_size=(1, 500), stride=(1, 500), padding=0, dilation=1, ceil_mode=True)\n",
              "  (dropout): Dropout(p=0.25, inplace=False)\n",
              "  (out1): Linear(in_features=50, out_features=50, bias=True)\n",
              "  (out2): Linear(in_features=50, out_features=4, bias=True)\n",
              "  (softmax): Softmax(dim=None)\n",
              ")"
            ]
          },
          "execution_count": 22,
          "metadata": {},
          "output_type": "execute_result"
        }
      ],
      "source": [
        "model1=CNNModel(glove,25,25,2,3)\n",
        "model1.to(torch.device('cuda:0'))"
      ]
    },
    {
      "cell_type": "code",
      "execution_count": 23,
      "metadata": {
        "id": "JmEY4i7Rv3Jp"
      },
      "outputs": [],
      "source": [
        "loss_func = torch.nn.CrossEntropyLoss()\n",
        "optimizer = optim.Adam(model1.parameters(), lr=0.0001)\n",
        "train_losses=[]\n",
        "val_losses=[]\n",
        "train_acc_arr=[]\n",
        "val_acc_arr=[]"
      ]
    },
    {
      "cell_type": "code",
      "execution_count": 24,
      "metadata": {
        "colab": {
          "base_uri": "https://localhost:8080/",
          "height": 1000
        },
        "id": "TtWY1Q9FfYYM",
        "outputId": "3d93d63b-3098-4dc6-b336-476f78b14aee"
      },
      "outputs": [
        {
          "name": "stdout",
          "output_type": "stream",
          "text": [
            "epoch= 0\n"
          ]
        },
        {
          "name": "stderr",
          "output_type": "stream",
          "text": [
            "d:\\SOFTWARE\\Anaconda3\\envs\\ece1786\\lib\\site-packages\\ipykernel_launcher.py:47: UserWarning: Implicit dimension choice for softmax has been deprecated. Change the call to include dim=X as an argument.\n"
          ]
        },
        {
          "name": "stdout",
          "output_type": "stream",
          "text": [
            "train loss= 1.370073851943016\n",
            "train_acc 0.25\n",
            "validation error= 1.3536189226877122\n",
            "val_acc for epoch 0.3333333333333333\n",
            "epoch= 1\n",
            "train loss= 1.3423754259943963\n",
            "train_acc 0.375\n",
            "validation error= 1.3328667141142345\n",
            "val_acc for epoch 0.42857142857142855\n",
            "epoch= 2\n",
            "train loss= 1.3209395930171013\n",
            "train_acc 0.4375\n",
            "validation error= 1.316128935132708\n",
            "val_acc for epoch 0.47619047619047616\n",
            "epoch= 3\n",
            "train loss= 1.2953933045268058\n",
            "train_acc 0.4625\n",
            "validation error= 1.3040920666285925\n",
            "val_acc for epoch 0.47619047619047616\n",
            "epoch= 4\n",
            "train loss= 1.2843637250363826\n",
            "train_acc 0.4625\n",
            "validation error= 1.2959441571008592\n",
            "val_acc for epoch 0.47619047619047616\n",
            "epoch= 5\n",
            "train loss= 1.2753493659198285\n",
            "train_acc 0.4625\n",
            "validation error= 1.2903085095541817\n",
            "val_acc for epoch 0.47619047619047616\n",
            "epoch= 6\n",
            "train loss= 1.2657532095909119\n",
            "train_acc 0.4625\n",
            "validation error= 1.2868950821104503\n",
            "val_acc for epoch 0.47619047619047616\n",
            "epoch= 7\n",
            "train loss= 1.2599084675312042\n",
            "train_acc 0.4625\n",
            "validation error= 1.2840704775991894\n",
            "val_acc for epoch 0.47619047619047616\n",
            "epoch= 8\n",
            "train loss= 1.2561836920678615\n",
            "train_acc 0.4625\n",
            "validation error= 1.2813948960531325\n",
            "val_acc for epoch 0.47619047619047616\n",
            "epoch= 9\n",
            "train loss= 1.2427807681262493\n",
            "train_acc 0.4625\n",
            "validation error= 1.2788732392447335\n",
            "val_acc for epoch 0.47619047619047616\n",
            "epoch= 10\n",
            "train loss= 1.2320864774286746\n",
            "train_acc 0.475\n",
            "validation error= 1.2768168676467169\n",
            "val_acc for epoch 0.47619047619047616\n",
            "epoch= 11\n",
            "train loss= 1.2347959369421004\n",
            "train_acc 0.4625\n",
            "validation error= 1.2730837549482072\n",
            "val_acc for epoch 0.47619047619047616\n",
            "epoch= 12\n",
            "train loss= 1.2221225015819073\n",
            "train_acc 0.475\n",
            "validation error= 1.2688698030653454\n",
            "val_acc for epoch 0.47619047619047616\n",
            "epoch= 13\n",
            "train loss= 1.2116659373044967\n",
            "train_acc 0.525\n",
            "validation error= 1.2645243746893746\n",
            "val_acc for epoch 0.5714285714285714\n",
            "epoch= 14\n",
            "train loss= 1.201735147088766\n",
            "train_acc 0.6125\n",
            "validation error= 1.2583604000863575\n",
            "val_acc for epoch 0.5714285714285714\n",
            "epoch= 15\n",
            "train loss= 1.1828482672572136\n",
            "train_acc 0.65\n",
            "validation error= 1.2530229886372883\n",
            "val_acc for epoch 0.5714285714285714\n",
            "epoch= 16\n",
            "train loss= 1.1780017137527465\n",
            "train_acc 0.6625\n",
            "validation error= 1.2454847551527477\n",
            "val_acc for epoch 0.5714285714285714\n",
            "epoch= 17\n",
            "train loss= 1.1765860080718995\n",
            "train_acc 0.65\n",
            "validation error= 1.2385767414456321\n",
            "val_acc for epoch 0.5714285714285714\n",
            "epoch= 18\n",
            "train loss= 1.1627023376524448\n",
            "train_acc 0.7\n",
            "validation error= 1.232517143090566\n",
            "val_acc for epoch 0.6190476190476191\n",
            "epoch= 19\n",
            "train loss= 1.1409421429038047\n",
            "train_acc 0.675\n",
            "validation error= 1.2267125589506966\n",
            "val_acc for epoch 0.6190476190476191\n",
            "epoch= 20\n",
            "train loss= 1.1221923485398293\n",
            "train_acc 0.7\n",
            "validation error= 1.2201882600784302\n",
            "val_acc for epoch 0.6190476190476191\n",
            "epoch= 21\n",
            "train loss= 1.1103998772799968\n",
            "train_acc 0.7375\n",
            "validation error= 1.2112445689383007\n",
            "val_acc for epoch 0.6190476190476191\n",
            "epoch= 22\n",
            "train loss= 1.095546581596136\n",
            "train_acc 0.725\n",
            "validation error= 1.2048767322585696\n",
            "val_acc for epoch 0.6666666666666666\n",
            "epoch= 23\n",
            "train loss= 1.089565782248974\n",
            "train_acc 0.7375\n",
            "validation error= 1.1975104553358895\n",
            "val_acc for epoch 0.6666666666666666\n",
            "epoch= 24\n",
            "train loss= 1.0721857324242592\n",
            "train_acc 0.75\n",
            "validation error= 1.1899835495721727\n",
            "val_acc for epoch 0.6190476190476191\n",
            "Finished Training\n"
          ]
        },
        {
          "data": {
            "image/png": "[encoded data removed]",
            "text/plain": [
              "<Figure size 432x288 with 1 Axes>"
            ]
          },
          "metadata": {
            "needs_background": "light"
          },
          "output_type": "display_data"
        }
      ],
      "source": [
        "for epoch in range(25):  # loop over the dataset multiple times\n",
        "\n",
        "    train_loss = 0.0\n",
        "    val_loss=0\n",
        "    train_acc=0\n",
        "    val_acc=0\n",
        "    model1.train()\n",
        "    print('epoch=', epoch)\n",
        "    \n",
        "    for inputs, labels in train_dataloader:\n",
        "        # get the inputs; data is a list of [inputs, labels]\n",
        "        #inputs, labels = data\n",
        "\n",
        "        # zero the parameter gradients\n",
        "        optimizer.zero_grad()\n",
        "\n",
        "        # forward + backward + optimize\n",
        "        outputs = model1(inputs.flatten())\n",
        "        #print(outputs)\n",
        "        #print(labels)\n",
        "        #print('raw output',outputs)\n",
        "        outputs_hard=outputs.argmax()\n",
        "        outputs=outputs.unsqueeze(0)\n",
        "        #labels=labels.unsqueeze(0)\n",
        "        #print('labels',labels)\n",
        "        #print('armax output',outputs_hard)\n",
        "        #print('output shape',outputs.shape)\n",
        "        #print('label ahape',labels.shape)\n",
        "        loss = loss_func(outputs, labels)\n",
        "        #print('loss',loss)\n",
        "        #print('loss shape',loss.shape)\n",
        "        loss.backward()\n",
        "        optimizer.step()\n",
        "\n",
        "        outputs=outputs.argmax(dim=1)\n",
        "\n",
        "        train_loss+= loss.item()\n",
        "        train_acc+=torch.sum((outputs_hard == labels)[:].int()).item()\n",
        "        #train_acc+=torch.sum(((outputs>0)== labels)[:].int()).item()\n",
        "    train_loss=train_loss/len(train_dataset)\n",
        "    train_losses.append(train_loss)\n",
        "    print('train loss=',train_loss)\n",
        "    train_acc=train_acc/len(train_dataset)\n",
        "    train_acc_arr.append(train_acc)\n",
        "    print('train_acc',train_acc)\n",
        "\n",
        "\n",
        "    model1.eval()\n",
        "    for inputs, labels in validation_dataloader:\n",
        "\n",
        "      pred=model1(inputs.flatten())\n",
        "      pred=pred.unsqueeze(0)\n",
        "      pred_hard=pred.argmax()\n",
        "\n",
        "      loss = loss_func(pred, labels)\n",
        "      val_loss+= loss.item()\n",
        "      \n",
        "      val_acc+=torch.sum((pred_hard == labels)[:].int()).item()\n",
        "      #val_acc+=torch.sum(((pred>0)== labels)[:].int()).item()\n",
        "    val_loss=val_loss/len(val_dataset)\n",
        "    val_losses.append(val_loss)\n",
        "    print('validation error=',val_loss)\n",
        "    val_acc=val_acc/len(val_dataset)\n",
        "    val_acc_arr.append(val_acc)\n",
        "    print('val_acc for epoch',val_acc)\n",
        "\n",
        "\n",
        "print('Finished Training')\n",
        "plt.plot(train_losses, label='train loss')\n",
        "plt.plot(val_losses, label='validation loss')\n",
        "plt.legend()\n",
        "plt.show()"
      ]
    },
    {
      "cell_type": "code",
      "execution_count": 25,
      "metadata": {
        "colab": {
          "base_uri": "https://localhost:8080/",
          "height": 265
        },
        "id": "l1-AIwxWwROu",
        "outputId": "3a9a2488-4111-44ce-91e4-03515219288f"
      },
      "outputs": [
        {
          "data": {
            "image/png": "[encoded data removed]",
            "text/plain": [
              "<Figure size 432x288 with 1 Axes>"
            ]
          },
          "metadata": {
            "needs_background": "light"
          },
          "output_type": "display_data"
        }
      ],
      "source": [
        "plt.plot(train_acc_arr, label='train acc')\n",
        "plt.plot(val_acc_arr, label='validation acc')\n",
        "plt.legend()\n",
        "plt.show()"
      ]
    },
    {
      "cell_type": "code",
      "execution_count": 26,
      "metadata": {
        "colab": {
          "base_uri": "https://localhost:8080/"
        },
        "id": "nKCsFjTbxx29",
        "outputId": "825174ad-aebf-45cd-df0b-cefc51d77f33"
      },
      "outputs": [
        {
          "name": "stderr",
          "output_type": "stream",
          "text": [
            "d:\\SOFTWARE\\Anaconda3\\envs\\ece1786\\lib\\site-packages\\ipykernel_launcher.py:47: UserWarning: Implicit dimension choice for softmax has been deprecated. Change the call to include dim=X as an argument.\n"
          ]
        },
        {
          "name": "stdout",
          "output_type": "stream",
          "text": [
            "test error= 1.5262270473763155\n",
            "test_accuracy 0.09718670076726342\n"
          ]
        }
      ],
      "source": [
        "#for body only-\n",
        "test_loss=0\n",
        "test_acc=0\n",
        "for inputs, labels in test_dataloader:\n",
        "\n",
        "  pred=model1(inputs.flatten())\n",
        "  pred=pred.unsqueeze(0)\n",
        "  pred_hard=pred.argmax()\n",
        "  loss = loss_func(pred, labels)\n",
        "  test_loss+= loss.item()\n",
        "  test_acc+=torch.sum((pred_hard== labels)[:].int()).item()\n",
        "test_loss=test_loss/len(test_dataset)\n",
        "print('test error=',test_loss)\n",
        "test_acc=test_acc/len(test_dataset)\n",
        "print('test_accuracy',test_acc)"
      ]
    },
    {
      "cell_type": "code",
      "execution_count": 28,
      "metadata": {},
      "outputs": [
        {
          "name": "stderr",
          "output_type": "stream",
          "text": [
            "d:\\SOFTWARE\\Anaconda3\\envs\\ece1786\\lib\\site-packages\\ipykernel_launcher.py:47: UserWarning: Implicit dimension choice for softmax has been deprecated. Change the call to include dim=X as an argument.\n"
          ]
        },
        {
          "name": "stdout",
          "output_type": "stream",
          "text": [
            "test error= 1.4934065875494877\n",
            "test_accuracy 0.1329923273657289\n"
          ]
        }
      ],
      "source": [
        "#for title only-\n",
        "test_loss=0\n",
        "test_acc=0\n",
        "for inputs, labels in test_dataloader:\n",
        "\n",
        "  pred=model1(inputs.flatten())\n",
        "  pred=pred.unsqueeze(0)\n",
        "  pred_hard=pred.argmax()\n",
        "  loss = loss_func(pred, labels)\n",
        "  test_loss+= loss.item()\n",
        "  test_acc+=torch.sum((pred_hard== labels)[:].int()).item()\n",
        "test_loss=test_loss/len(test_dataset)\n",
        "print('test error=',test_loss)\n",
        "test_acc=test_acc/len(test_dataset)\n",
        "print('test_accuracy',test_acc)"
      ]
    },
    {
      "cell_type": "code",
      "execution_count": 30,
      "metadata": {},
      "outputs": [
        {
          "name": "stderr",
          "output_type": "stream",
          "text": [
            "d:\\SOFTWARE\\Anaconda3\\envs\\ece1786\\lib\\site-packages\\ipykernel_launcher.py:47: UserWarning: Implicit dimension choice for softmax has been deprecated. Change the call to include dim=X as an argument.\n"
          ]
        },
        {
          "name": "stdout",
          "output_type": "stream",
          "text": [
            "test error= 1.5260368077956197\n",
            "test_accuracy 0.10230179028132992\n"
          ]
        }
      ],
      "source": [
        "#for Both-\n",
        "test_loss=0\n",
        "test_acc=0\n",
        "for inputs, labels in test_dataloader:\n",
        "\n",
        "  pred=model1(inputs.flatten())\n",
        "  pred=pred.unsqueeze(0)\n",
        "  pred_hard=pred.argmax()\n",
        "  loss = loss_func(pred, labels)\n",
        "  test_loss+= loss.item()\n",
        "  test_acc+=torch.sum((pred_hard== labels)[:].int()).item()\n",
        "test_loss=test_loss/len(test_dataset)\n",
        "print('test error=',test_loss)\n",
        "test_acc=test_acc/len(test_dataset)\n",
        "print('test_accuracy',test_acc)"
      ]
    },
    {
      "cell_type": "code",
      "execution_count": 68,
      "metadata": {
        "id": "dd8WzgEA7zBK"
      },
      "outputs": [],
      "source": [
        "torch.save(model1.state_dict(), 'Baseline_multiclass.pt')"
      ]
    }
  ],
  "metadata": {
    "colab": {
      "collapsed_sections": [],
      "provenance": []
    },
    "kernelspec": {
      "display_name": "Python 3.7.13 ('base')",
      "language": "python",
      "name": "python3"
    },
    "language_info": {
      "codemirror_mode": {
        "name": "ipython",
        "version": 3
      },
      "file_extension": ".py",
      "mimetype": "text/x-python",
      "name": "python",
      "nbconvert_exporter": "python",
      "pygments_lexer": "ipython3",
      "version": "3.7.13"
    },
    "vscode": {
      "interpreter": {
        "hash": "415686034d28ca83dfb397db2f59cd0b342825bd24c1e67598292e91597816cd"
      }
    }
  },
  "nbformat": 4,
  "nbformat_minor": 0
}
