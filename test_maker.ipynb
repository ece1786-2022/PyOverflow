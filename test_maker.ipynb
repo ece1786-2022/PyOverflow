{
 "cells": [
  {
   "cell_type": "code",
   "execution_count": 1,
   "metadata": {},
   "outputs": [],
   "source": [
    "import numpy as np\n",
    "import pandas as pd"
   ]
  },
  {
   "cell_type": "code",
   "execution_count": 2,
   "metadata": {},
   "outputs": [
    {
     "name": "stderr",
     "output_type": "stream",
     "text": [
      "d:\\SOFTWARE\\Anaconda3\\envs\\ece1786\\lib\\site-packages\\IPython\\core\\interactiveshell.py:3457: DtypeWarning: Columns (11) have mixed types.Specify dtype option on import or set low_memory=False.\n",
      "  exec(code_obj, self.user_global_ns, self.user_ns)\n"
     ]
    }
   ],
   "source": [
    "path='D:/FILES/University of Toronto/Subjects/Fall 2022/NLP/project/PyOverflow/Python_results.csv'\n",
    "df=pd.read_csv(path)"
   ]
  },
  {
   "cell_type": "code",
   "execution_count": 3,
   "metadata": {},
   "outputs": [],
   "source": [
    "types_df=df[df['Tags'].isin(['<python><built-in-types>'])]"
   ]
  },
  {
   "cell_type": "code",
   "execution_count": 20,
   "metadata": {},
   "outputs": [
    {
     "data": {
      "text/plain": [
       "Id                                                  44493690\n",
       "PostTypeId                                                 1\n",
       "AcceptedAnswerId                                  44493862.0\n",
       "ParentId                                                 NaN\n",
       "CreationDate                             2017-06-12 07:31:14\n",
       "DeletionDate                                             NaN\n",
       "Score                                                      1\n",
       "ViewCount                                                 35\n",
       "OwnerUserId                                        5355776.0\n",
       "OwnerDisplayName                                         NaN\n",
       "LastEditorUserId                                         NaN\n",
       "LastEditorDisplayName                                    NaN\n",
       "LastEditDate                                             NaN\n",
       "LastActivityDate                         2017-06-12 08:00:42\n",
       "Title                    Are type on python's builtin unique\n",
       "Tags                                <python><built-in-types>\n",
       "AnswerCount                                                1\n",
       "CommentCount                                               1\n",
       "FavoriteCount                                            NaN\n",
       "ClosedDate                                               NaN\n",
       "CommunityOwnedDate                                       NaN\n",
       "NumRevisions                                               1\n",
       "NumContributors                                            1\n",
       "Name: 592369, dtype: object"
      ]
     },
     "execution_count": 20,
     "metadata": {},
     "output_type": "execute_result"
    }
   ],
   "source": [
    "types_df=df[df['Tags'].isin(['<python><built-in-types>'])]"
   ]
  },
  {
   "cell_type": "code",
   "execution_count": 3,
   "metadata": {},
   "outputs": [
    {
     "data": {
      "text/plain": [
       "[50203630,\n",
       " 25211477,\n",
       " 17408362,\n",
       " 38766579,\n",
       " 19345073,\n",
       " 17983598,\n",
       " 44493690,\n",
       " 54453192,\n",
       " 4827303,\n",
       " 29054999,\n",
       " 6217351,\n",
       " 33997962,\n",
       " 50118488,\n",
       " 14484749,\n",
       " 6049533,\n",
       " 59223768,\n",
       " 30525262,\n",
       " 16306844,\n",
       " 7402573,\n",
       " 7983243,\n",
       " 4850370,\n",
       " 13736718,\n",
       " 58603138,\n",
       " 4698493,\n",
       " 49465215,\n",
       " 9486564,\n",
       " 55459493,\n",
       " 16190465,\n",
       " 4092674,\n",
       " 41144760,\n",
       " 60715657,\n",
       " 1979004,\n",
       " 28286411,\n",
       " 54615019]"
      ]
     },
     "execution_count": 3,
     "metadata": {},
     "output_type": "execute_result"
    }
   ],
   "source": [
    "types_df=df[df['Tags'].str.contains(\"<built-in-types>\")]\n",
    "types_df['Id'].tolist()"
   ]
  },
  {
   "cell_type": "code",
   "execution_count": 4,
   "metadata": {},
   "outputs": [
    {
     "data": {
      "text/plain": [
       "[56524802,\n",
       " 3891804,\n",
       " 21553327,\n",
       " 45621722,\n",
       " 1483429,\n",
       " 63336507,\n",
       " 60508555,\n",
       " 61755479,\n",
       " 38463194,\n",
       " 48884531,\n",
       " 47103557,\n",
       " 63494956,\n",
       " 20030576,\n",
       " 10324558,\n",
       " 15451472,\n",
       " 60914445,\n",
       " 46890646,\n",
       " 64715784,\n",
       " 65097838,\n",
       " 56049481,\n",
       " 41996128,\n",
       " 47954784,\n",
       " 57108162,\n",
       " 50129644,\n",
       " 52696172,\n",
       " 36653914,\n",
       " 18218697,\n",
       " 19192345,\n",
       " 12488822,\n",
       " 53250543,\n",
       " 64904160,\n",
       " 4676957,\n",
       " 51757305,\n",
       " 15909709,\n",
       " 8491194,\n",
       " 64548825,\n",
       " 11173945,\n",
       " 59924513,\n",
       " 59046676,\n",
       " 62952273,\n",
       " 61811551,\n",
       " 3950505,\n",
       " 56580217,\n",
       " 49309446,\n",
       " 25405327,\n",
       " 36747362,\n",
       " 16943404,\n",
       " 12550379,\n",
       " 22338300,\n",
       " 46632494,\n",
       " 16986931,\n",
       " 25523361,\n",
       " 61304761,\n",
       " 61895157,\n",
       " 25257932,\n",
       " 16777082,\n",
       " 34712812,\n",
       " 54623037,\n",
       " 45153588,\n",
       " 50247650,\n",
       " 61309359,\n",
       " 61498705,\n",
       " 22132272,\n",
       " 57518776,\n",
       " 4572362,\n",
       " 56008537,\n",
       " 56521799,\n",
       " 51741992,\n",
       " 35851013,\n",
       " 61735011,\n",
       " 19579926,\n",
       " 24643648,\n",
       " 26062054,\n",
       " 56904459,\n",
       " 31618848,\n",
       " 51314925,\n",
       " 36662174,\n",
       " 52354405,\n",
       " 64404157,\n",
       " 58173048,\n",
       " 39892380,\n",
       " 61786017,\n",
       " 40722921,\n",
       " 57615537,\n",
       " 18000985,\n",
       " 47637955,\n",
       " 63979684,\n",
       " 43751989,\n",
       " 51212178,\n",
       " 32601996,\n",
       " 12283377,\n",
       " 64178163,\n",
       " 62948384,\n",
       " 59435875,\n",
       " 30477150,\n",
       " 60688321,\n",
       " 37224773,\n",
       " 1291438,\n",
       " 31514257,\n",
       " 28144052,\n",
       " 28201043,\n",
       " 10103296,\n",
       " 30878079,\n",
       " 59856128,\n",
       " 41381360,\n",
       " 19935597,\n",
       " 56588339,\n",
       " 64869794,\n",
       " 53396944,\n",
       " 60159545,\n",
       " 2739582,\n",
       " 30633209,\n",
       " 31146855,\n",
       " 63585347,\n",
       " 59869542,\n",
       " 61908857,\n",
       " 65073730,\n",
       " 52307055,\n",
       " 62107561,\n",
       " 62340629,\n",
       " 27662707,\n",
       " 56800989,\n",
       " 49015001,\n",
       " 57160064,\n",
       " 14625405,\n",
       " 36157995,\n",
       " 46090079,\n",
       " 30834172,\n",
       " 33284609,\n",
       " 63234468,\n",
       " 52674581,\n",
       " 166198,\n",
       " 35851782,\n",
       " 4096087,\n",
       " 11865685,\n",
       " 41980401,\n",
       " 61917457,\n",
       " 1350671,\n",
       " 7375492,\n",
       " 40237349,\n",
       " 20582750,\n",
       " 27978889,\n",
       " 54593320,\n",
       " 43605512,\n",
       " 43617092,\n",
       " 15056187,\n",
       " 16123529,\n",
       " 6828160,\n",
       " 49050030,\n",
       " 17784849,\n",
       " 53235877,\n",
       " 47041472,\n",
       " 19736188,\n",
       " 62200818,\n",
       " 19060821,\n",
       " 45449635,\n",
       " 29453733,\n",
       " 33716330,\n",
       " 9979735,\n",
       " 24522290,\n",
       " 26059424,\n",
       " 64867908,\n",
       " 44516268,\n",
       " 48029399,\n",
       " 62951781,\n",
       " 1508467,\n",
       " 15887038,\n",
       " 44773345]"
      ]
     },
     "execution_count": 4,
     "metadata": {},
     "output_type": "execute_result"
    }
   ],
   "source": [
    "error_df=df[df['Tags'].str.contains(\"<error-handling>\")]\n",
    "exception_df=error_df[error_df['Tags'].str.contains(\"<exception>\")]\n",
    "exception_df['Id'].tolist()"
   ]
  },
  {
   "cell_type": "code",
   "execution_count": 6,
   "metadata": {},
   "outputs": [
    {
     "data": {
      "text/plain": [
       "26348"
      ]
     },
     "execution_count": 6,
     "metadata": {},
     "output_type": "execute_result"
    }
   ],
   "source": [
    "string_df=df[df['Tags'].str.contains(\"<string>\")]\n",
    "len(string_df['Id'].tolist())"
   ]
  },
  {
   "cell_type": "code",
   "execution_count": 7,
   "metadata": {},
   "outputs": [
    {
     "data": {
      "text/plain": [
       "32506"
      ]
     },
     "execution_count": 7,
     "metadata": {},
     "output_type": "execute_result"
    }
   ],
   "source": [
    "string_df=df[df['Tags'].str.contains(\"<regex>\")]\n",
    "len(string_df['Id'].tolist())"
   ]
  },
  {
   "cell_type": "code",
   "execution_count": null,
   "metadata": {},
   "outputs": [],
   "source": []
  }
 ],
 "metadata": {
  "kernelspec": {
   "display_name": "Python 3.7.13 ('ece1786')",
   "language": "python",
   "name": "python3"
  },
  "language_info": {
   "codemirror_mode": {
    "name": "ipython",
    "version": 3
   },
   "file_extension": ".py",
   "mimetype": "text/x-python",
   "name": "python",
   "nbconvert_exporter": "python",
   "pygments_lexer": "ipython3",
   "version": "3.7.13"
  },
  "orig_nbformat": 4,
  "vscode": {
   "interpreter": {
    "hash": "415686034d28ca83dfb397db2f59cd0b342825bd24c1e67598292e91597816cd"
   }
  }
 },
 "nbformat": 4,
 "nbformat_minor": 2
}
