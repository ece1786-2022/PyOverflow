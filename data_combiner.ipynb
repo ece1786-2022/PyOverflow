{
 "cells": [
  {
   "cell_type": "code",
   "execution_count": 2,
   "metadata": {},
   "outputs": [],
   "source": [
    "import numpy as np\n",
    "import pandas as pd"
   ]
  },
  {
   "cell_type": "code",
   "execution_count": 3,
   "metadata": {},
   "outputs": [],
   "source": [
    "path1='D:/FILES/University of Toronto/Subjects/Fall 2022/NLP/project/PyOverflow/Data/Training/built-in-exceptions.csv'\n",
    "path2='D:/FILES/University of Toronto/Subjects/Fall 2022/NLP/project/PyOverflow/Data/Training/built-in-types.csv'\n",
    "df1=pd.read_csv(path1)\n",
    "df2=pd.read_csv(path2)"
   ]
  },
  {
   "cell_type": "code",
   "execution_count": 4,
   "metadata": {},
   "outputs": [],
   "source": [
    "df1['label']=0\n",
    "df2['label']=1"
   ]
  },
  {
   "cell_type": "code",
   "execution_count": 6,
   "metadata": {},
   "outputs": [],
   "source": [
    "pd.concat([df1,df2],axis=0).reset_index().drop(['index','Unnamed: 0'],axis=1).dropna().to_csv('D:/FILES/University of Toronto/Subjects/Fall 2022/NLP/project/PyOverflow/Data/Training/combined.csv',index=False)"
   ]
  },
  {
   "cell_type": "code",
   "execution_count": 7,
   "metadata": {},
   "outputs": [],
   "source": [
    "path='D:/FILES/University of Toronto/Subjects/Fall 2022/NLP/project/PyOverflow/Data/Training/combined.csv'\n",
    "df=pd.read_csv(path)"
   ]
  },
  {
   "cell_type": "code",
   "execution_count": 8,
   "metadata": {},
   "outputs": [
    {
     "data": {
      "text/html": [
       "<div>\n",
       "<style scoped>\n",
       "    .dataframe tbody tr th:only-of-type {\n",
       "        vertical-align: middle;\n",
       "    }\n",
       "\n",
       "    .dataframe tbody tr th {\n",
       "        vertical-align: top;\n",
       "    }\n",
       "\n",
       "    .dataframe thead th {\n",
       "        text-align: right;\n",
       "    }\n",
       "</style>\n",
       "<table border=\"1\" class=\"dataframe\">\n",
       "  <thead>\n",
       "    <tr style=\"text-align: right;\">\n",
       "      <th></th>\n",
       "      <th>content</th>\n",
       "      <th>topic</th>\n",
       "      <th>label</th>\n",
       "    </tr>\n",
       "  </thead>\n",
       "  <tbody>\n",
       "    <tr>\n",
       "      <th>0</th>\n",
       "      <td>In Python, all exceptions must be instances of...</td>\n",
       "      <td>Built-in Exceptions</td>\n",
       "      <td>0</td>\n",
       "    </tr>\n",
       "    <tr>\n",
       "      <th>1</th>\n",
       "      <td>In a try statement with an except clause tha...</td>\n",
       "      <td>Built-in Exceptions</td>\n",
       "      <td>0</td>\n",
       "    </tr>\n",
       "    <tr>\n",
       "      <th>2</th>\n",
       "      <td>Two exception classes that are not related v...</td>\n",
       "      <td>Built-in Exceptions</td>\n",
       "      <td>0</td>\n",
       "    </tr>\n",
       "    <tr>\n",
       "      <th>3</th>\n",
       "      <td>The built-in exceptions listed below can be g...</td>\n",
       "      <td>Built-in Exceptions</td>\n",
       "      <td>0</td>\n",
       "    </tr>\n",
       "    <tr>\n",
       "      <th>4</th>\n",
       "      <td>Except where mentioned, they have an “associ...</td>\n",
       "      <td>Built-in Exceptions</td>\n",
       "      <td>0</td>\n",
       "    </tr>\n",
       "    <tr>\n",
       "      <th>...</th>\n",
       "      <td>...</td>\n",
       "      <td>...</td>\n",
       "      <td>...</td>\n",
       "    </tr>\n",
       "    <tr>\n",
       "      <th>171</th>\n",
       "      <td>default_max_str_digits</td>\n",
       "      <td>Built-in Types</td>\n",
       "      <td>1</td>\n",
       "    </tr>\n",
       "    <tr>\n",
       "      <th>172</th>\n",
       "      <td>The lowest limit that can be configured is 64...</td>\n",
       "      <td>Built-in Types</td>\n",
       "      <td>1</td>\n",
       "    </tr>\n",
       "    <tr>\n",
       "      <th>173</th>\n",
       "      <td>int_info</td>\n",
       "      <td>Built-in Types</td>\n",
       "      <td>1</td>\n",
       "    </tr>\n",
       "    <tr>\n",
       "      <th>174</th>\n",
       "      <td>str_digits_check_threshold</td>\n",
       "      <td>Built-in Types</td>\n",
       "      <td>1</td>\n",
       "    </tr>\n",
       "    <tr>\n",
       "      <th>175</th>\n",
       "      <td>Verification:</td>\n",
       "      <td>Built-in Types</td>\n",
       "      <td>1</td>\n",
       "    </tr>\n",
       "  </tbody>\n",
       "</table>\n",
       "<p>176 rows × 3 columns</p>\n",
       "</div>"
      ],
      "text/plain": [
       "                                               content                topic  \\\n",
       "0    In Python, all exceptions must be instances of...  Built-in Exceptions   \n",
       "1      In a try statement with an except clause tha...  Built-in Exceptions   \n",
       "2      Two exception classes that are not related v...  Built-in Exceptions   \n",
       "3     The built-in exceptions listed below can be g...  Built-in Exceptions   \n",
       "4      Except where mentioned, they have an “associ...  Built-in Exceptions   \n",
       "..                                                 ...                  ...   \n",
       "171                             default_max_str_digits       Built-in Types   \n",
       "172   The lowest limit that can be configured is 64...       Built-in Types   \n",
       "173                                           int_info       Built-in Types   \n",
       "174                         str_digits_check_threshold       Built-in Types   \n",
       "175                                      Verification:       Built-in Types   \n",
       "\n",
       "     label  \n",
       "0        0  \n",
       "1        0  \n",
       "2        0  \n",
       "3        0  \n",
       "4        0  \n",
       "..     ...  \n",
       "171      1  \n",
       "172      1  \n",
       "173      1  \n",
       "174      1  \n",
       "175      1  \n",
       "\n",
       "[176 rows x 3 columns]"
      ]
     },
     "execution_count": 8,
     "metadata": {},
     "output_type": "execute_result"
    }
   ],
   "source": [
    "df"
   ]
  },
  {
   "cell_type": "code",
   "execution_count": null,
   "metadata": {},
   "outputs": [],
   "source": []
  }
 ],
 "metadata": {
  "kernelspec": {
   "display_name": "Python 3.7.13 ('base')",
   "language": "python",
   "name": "python3"
  },
  "language_info": {
   "codemirror_mode": {
    "name": "ipython",
    "version": 3
   },
   "file_extension": ".py",
   "mimetype": "text/x-python",
   "name": "python",
   "nbconvert_exporter": "python",
   "pygments_lexer": "ipython3",
   "version": "3.7.13"
  },
  "orig_nbformat": 4,
  "vscode": {
   "interpreter": {
    "hash": "415686034d28ca83dfb397db2f59cd0b342825bd24c1e67598292e91597816cd"
   }
  }
 },
 "nbformat": 4,
 "nbformat_minor": 2
}
